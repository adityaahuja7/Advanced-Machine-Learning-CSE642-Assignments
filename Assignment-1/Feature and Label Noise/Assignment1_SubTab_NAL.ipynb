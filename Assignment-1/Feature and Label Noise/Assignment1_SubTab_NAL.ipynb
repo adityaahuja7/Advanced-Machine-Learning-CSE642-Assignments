{
 "cells": [
  {
   "cell_type": "code",
   "execution_count": 1,
   "metadata": {},
   "outputs": [],
   "source": [
    "import torch\n",
    "import requests\n",
    "from tabpfn import TabPFNClassifier\n",
    "import os\n",
    "import pandas as pd\n",
    "import numpy as np\n",
    "from torch.utils.data import DataLoader\n",
    "from torch.utils.data import Dataset\n",
    "from torch.utils.data import random_split\n",
    "import matplotlib.pyplot as plt\n",
    "from sklearn.metrics import accuracy_score\n",
    "from tqdm import tqdm\n",
    "import random\n",
    "device = torch.device(\n",
    "    \"cuda\"\n",
    "    if torch.cuda.is_available()\n",
    "    else \"mps\"\n",
    "    if torch.backends.mps.is_available()\n",
    "    else \"cpu\"\n",
    ")"
   ]
  },
  {
   "cell_type": "code",
   "execution_count": 3,
   "metadata": {},
   "outputs": [],
   "source": [
    "class CustomDataset(Dataset):\n",
    "    def __init__(self, dataframe, noise, transform=None, target_transform=None, drop=None, target=None):\n",
    "        self.dataframe = dataframe\n",
    "        if drop != None:\n",
    "            self.X = dataframe.drop(drop, axis=1).values\n",
    "        else:\n",
    "            self.X = dataframe.values\n",
    "        \n",
    "        self.y = dataframe[target].values\n",
    "        self.transform = transform\n",
    "        self.target_transform = target_transform\n",
    "        self.noise = noise\n",
    "\n",
    "    def __len__(self):\n",
    "        return len(self.dataframe)\n",
    "\n",
    "    def __getitem__(self, idx):\n",
    "        item, label = self.X[idx], self.y[idx]\n",
    "        return item, label\n",
    "\n",
    "    def get_noise(self):\n",
    "        return self.noise"
   ]
  },
  {
   "cell_type": "code",
   "execution_count": 4,
   "metadata": {},
   "outputs": [],
   "source": [
    "Noise_0_dataframe = pd.read_csv(\"../Data/Assignment1/data_0_noise\")\n",
    "Noise_Low_dataframe = pd.read_csv(\"../Data/Assignment1/data_Low_noise\")\n",
    "Noise_High_dataframe = pd.read_csv(\"../Data/Assignment1/data_High_noise\")"
   ]
  },
  {
   "cell_type": "code",
   "execution_count": 5,
   "metadata": {},
   "outputs": [],
   "source": [
    "class_index = list(Noise_0_dataframe[\"era\"].unique())\n",
    "class_index_noise = list(Noise_Low_dataframe[\"era\"].unique())\n",
    "class_index_t10v_noise = list(Noise_Low_dataframe[\"target_10_val\"].unique())\n",
    "\n",
    "def encode(value, class_index = class_index):\n",
    "    return class_index.index(value)\n",
    "\n",
    "def encode_noise(value, class_index = class_index_noise):\n",
    "    return class_index.index(value)\n",
    "\n",
    "def encode_noise_t10v(value, class_index = class_index_t10v_noise):\n",
    "    return class_index.index(value)\n",
    "\n",
    "\n",
    "Noise_0_dataframe[\"era\"] = Noise_0_dataframe[\"era\"].apply(encode)\n",
    "Noise_Low_dataframe[\"era\"] = Noise_Low_dataframe[\"era\"].apply(encode_noise)\n",
    "Noise_High_dataframe[\"era\"] = Noise_High_dataframe[\"era\"].apply(encode_noise)\n",
    "Noise_Low_dataframe[\"target_10_val\"] = Noise_Low_dataframe[\"target_10_val\"].apply(encode_noise_t10v)\n",
    "Noise_High_dataframe[\"target_10_val\"] = Noise_High_dataframe[\"target_10_val\"].apply(encode_noise_t10v)"
   ]
  },
  {
   "cell_type": "code",
   "execution_count": 6,
   "metadata": {},
   "outputs": [],
   "source": [
    "Noise_0_dataset_era = CustomDataset(Noise_0_dataframe, \"0\",drop = [\"row_num\",\"day\",\"era\",\"target_10_val\",\"target_5_val\"], target = \"era\")\n",
    "Noise_Low_dataset_era = CustomDataset(Noise_Low_dataframe, \"Low\", drop = [\"row_num\",\"day\",\"era\",\"target_10_val\",\"target_5_val\",\"data_type\"], target = \"era\")\n",
    "Noise_High_dataset_era = CustomDataset(Noise_High_dataframe, \"High\", drop = [\"row_num\",\"day\",\"era\",\"target_10_val\",\"target_5_val\",\"data_type\"], target = \"era\")\n",
    "Noise_Low_dataset_t10v = CustomDataset(Noise_Low_dataframe, \"Low\", drop = [\"row_num\",\"day\",\"era\",\"target_10_val\",\"target_5_val\",\"data_type\"], target = \"target_10_val\")\n",
    "Noise_High_dataset_t10v = CustomDataset(Noise_High_dataframe, \"High\", drop = [\"row_num\",\"day\",\"era\",\"target_10_val\",\"target_5_val\",\"data_type\"], target = \"target_10_val\")\n",
    "Noise_0_train_era, Noise_0_test_era = random_split(Noise_0_dataset_era, [int(len(Noise_0_dataset_era)*0.8), int(len(Noise_0_dataset_era)*0.2)])\n",
    "Noise_Low_train_era, Noise_Low_test_era = random_split(Noise_Low_dataset_era, [int(len(Noise_Low_dataset_era)*0.8), int(len(Noise_Low_dataset_era)*0.2)])\n",
    "Noise_High_train_era, Noise_High_test_era = random_split(Noise_High_dataset_era, [int(len(Noise_High_dataset_era)*0.8), int(len(Noise_High_dataset_era)*0.2)])\n",
    "Noise_Low_train_t10v, Noise_Low_test_t10v = random_split(Noise_Low_dataset_t10v, [int(len(Noise_Low_dataset_t10v)*0.8), int(len(Noise_Low_dataset_t10v)*0.2)])\n",
    "Noise_High_train_t10v, Noise_High_test_t10v = random_split(Noise_High_dataset_t10v, [int(len(Noise_High_dataset_t10v)*0.8), int(len(Noise_High_dataset_t10v)*0.2)])"
   ]
  },
  {
   "cell_type": "code",
   "execution_count": 7,
   "metadata": {},
   "outputs": [],
   "source": [
    "#Setting batch_size=1000 for target_10_Val as tabpfn requires 1000 rows max\n",
    "\n",
    "#Setting up dataloaders\n",
    "Noise_0_era_train_loader = DataLoader(Noise_0_train_era, batch_size=512, shuffle=True)\n",
    "Noise_0_era_test_loader = DataLoader(Noise_0_test_era, batch_size=512, shuffle=True)\n",
    "########################################################################################\n",
    "Noise_Low_era_train_loader = DataLoader(Noise_Low_train_era, batch_size=512, shuffle=True)\n",
    "Noise_Low_era_test_loader = DataLoader(Noise_Low_test_era, batch_size=512, shuffle=True)\n",
    "########################################################################################\n",
    "Noise_High_era_train_loader = DataLoader(Noise_High_train_era, batch_size=512, shuffle=True)\n",
    "Noise_High_era_test_loader = DataLoader(Noise_High_test_era, batch_size=512, shuffle=True)\n",
    "########################################################################################\n",
    "Noise_Low_t10v_train_loader = DataLoader(Noise_Low_train_t10v, batch_size=1000, shuffle=True)\n",
    "Noise_Low_t10v_test_loader = DataLoader(Noise_Low_test_t10v, batch_size=512, shuffle=True)\n",
    "########################################################################################\n",
    "Noise_High_t10v_train_loader = DataLoader(Noise_High_train_t10v, batch_size=1000, shuffle=True)\n",
    "Noise_High_t10v_test_loader = DataLoader(Noise_High_test_t10v, batch_size=512, shuffle=True)"
   ]
  },
  {
   "cell_type": "code",
   "execution_count": 8,
   "metadata": {},
   "outputs": [],
   "source": [
    "class EncoderClassifier(torch.nn.Module):\n",
    "    def __init__(self, encoder, latent_dim, layers, subset_size, overlap, activation=torch.nn.ReLU()):\n",
    "        super().__init__()\n",
    "        self.encoder = encoder\n",
    "        self.layers = []\n",
    "        linear = [torch.nn.Linear(layers[i], layers[i+1]) for i in range(len(layers)-1)]\n",
    "        self.latent_layer = torch.nn.Linear(latent_dim, layers[0])\n",
    "        \n",
    "        for i in range(len(linear)):\n",
    "            if (i == 0 or i == len(linear)-1):\n",
    "                self.layers.append(linear[i])\n",
    "            else:\n",
    "                self.layers.append(linear[i])\n",
    "                self.layers.append(activation)\n",
    "\n",
    "        self.layers = torch.nn.Sequential(*self.layers)\n",
    "        self.subset_size = subset_size\n",
    "        self.overlap = overlap\n",
    "        self.softmax = torch.nn.Softmax(dim=1)\n",
    "        self.att_layer = torch.nn.Linear(latent_dim, 1)\n",
    "        self.sigmoid = torch.nn.Sigmoid()\n",
    "        self.lrelu = activation\n",
    "\n",
    "    def forward(self, X):\n",
    "        subsets = []\n",
    "        num_columns = X.shape[1]\n",
    "        for i in range(0, num_columns-self.subset_size, self.subset_size-self.overlap):\n",
    "            subsets.append(X[:, i:i+self.subset_size])\n",
    "\n",
    "        preds = 0\n",
    "        h = 0\n",
    "        for subset in subsets:\n",
    "            pred = self.encoder(subset)\n",
    "            pred = self.latent_layer(pred)\n",
    "            h = self.att_layer(pred)\n",
    "            pred = self.lrelu(pred)\n",
    "            pred = self.layers(pred)\n",
    "            pred = self.softmax(pred)\n",
    "            preds += pred\n",
    "\n",
    "        h = h/len(subsets)\n",
    "        h = self.sigmoid(h)\n",
    "        preds = preds/len(subsets)\n",
    "\n",
    "        return preds, h"
   ]
  },
  {
   "cell_type": "code",
   "execution_count": 9,
   "metadata": {},
   "outputs": [],
   "source": [
    "class SubsetAutoencoder (torch.nn.Module):\n",
    "    def __init__(self, encoder_sizes,decoder_sizes,activation = torch.nn.ReLU()):\n",
    "        super().__init__()\n",
    "        linear_encoder = [torch.nn.Linear(encoder_sizes[i],encoder_sizes[i+1]) for i in range(len(encoder_sizes)-1)]\n",
    "        linear_decoder = [torch.nn.Linear(decoder_sizes[i],decoder_sizes[i+1]) for i in range(len(decoder_sizes)-1)]\n",
    "        self.encoder = torch.nn.Sequential(*[l for layer in linear_encoder for l in (layer, activation)])\n",
    "        self.decoder = torch.nn.Sequential(*[l for layer in linear_decoder for l in (layer, activation)])\n",
    "        \n",
    "    def forward(self,X):\n",
    "        X = self.encoder(X)\n",
    "        X = self.decoder(X)\n",
    "        return X\n",
    "    \n",
    "    def get_encoder(self):\n",
    "        return self.encoder\n",
    "    \n",
    "    def get_decoder(self):\n",
    "        return self.decoder"
   ]
  },
  {
   "cell_type": "code",
   "execution_count": 10,
   "metadata": {},
   "outputs": [],
   "source": [
    "import torch.nn as nn\n",
    "\n",
    "class CustomLoss(nn.Module):\n",
    "    def __init__(self,reg,no_of_class=12):\n",
    "        super(CustomLoss, self).__init__()\n",
    "        self.reg=reg\n",
    "        self.no_of_class=no_of_class\n",
    "\n",
    "    def forward(self, inputs, targets):\n",
    "        p=torch.Tensor(inputs[0]).to(device).t()\n",
    "        # Converting to 64 X 12 to 64 X 1\n",
    "        # _,p=torch.max(p,1)\n",
    "        targets=torch.eye(self.no_of_class).to(device)[targets].t()\n",
    "        tou=torch.Tensor(inputs[1]).to(device)\n",
    "        tou=tou.t()\n",
    "        # print(\"tou\",tou)\n",
    "        # print(tou)\n",
    "        loss_a= torch.t(targets)@torch.log(tou*(p-targets)+targets)\n",
    "        loss_b=self.reg*torch.log(tou)\n",
    "        loss_a=loss_a.diag().t()\n",
    "        # print(\"Loss a\",loss_a)\n",
    "        # print(\"Loss b\",loss_b)\n",
    "        loss=loss_a+loss_b\n",
    "        # print(\"loss\",loss.shape)\n",
    "        # print(\"return\",loss.mean().shape)\n",
    "        return -loss.mean()\n",
    "\n",
    "    def custom_p(p):\n",
    "        return p"
   ]
  },
  {
   "cell_type": "code",
   "execution_count": 11,
   "metadata": {},
   "outputs": [],
   "source": [
    "def get_subsets(current_batch,subset_size,overlap):\n",
    "        subsets = []\n",
    "        num_columns = current_batch.shape[1]\n",
    "        for i in range(0, num_columns-subset_size,subset_size-overlap):\n",
    "            subsets.append(current_batch[:,i:i+subset_size])\n",
    "        return subsets\n",
    "\n",
    "\n",
    "def train_ae(model,criterion,optimizer,epochs,trainloader,testloader,subset_size = 10,overlap = 4,lr = 0.001 , verbose = True):\n",
    "    optimizer = optimizer(model.parameters(), lr=lr)\n",
    "    train_loss = []\n",
    "    val_loss = []\n",
    "    for epoch in range(epochs):\n",
    "        current_train_loss = 0\n",
    "        current_accuracy = []\n",
    "        for data, _ in tqdm(trainloader,desc = \"Training Epoch \"+str(epoch)):\n",
    "            data= data.to(device).float()\n",
    "            subsets = get_subsets(data,subset_size,overlap)\n",
    "            optimizer.zero_grad()\n",
    "            recons = []\n",
    "            subset_loss = 0\n",
    "            for subset in subsets:\n",
    "                output = model(subset)\n",
    "                recons.append(output)\n",
    "                subset_loss += criterion(data,output)\n",
    "            subset_loss = subset_loss.mean()\n",
    "            subset_loss.backward()\n",
    "            optimizer.step()\n",
    "        print(f\"epoch-{epoch} loss:\",subset_loss)\n",
    "        \n",
    "def train_classifier(model,criterion,optimizer,epochs,trainloader,testloader,lr=0.001,verbose = True,subset_size = 10,overlap = 2):\n",
    "    optimizer = optimizer(model.parameters(), lr=lr)\n",
    "    train_loss = []\n",
    "    val_loss = []\n",
    "    for epoch in range(epochs):\n",
    "        running_train_loss = 0\n",
    "        total_train = 0\n",
    "        correct_train = 0\n",
    "        current_accuracy = []\n",
    "        for data, target in tqdm(trainloader,desc = \"Training Epoch \"+str(epoch)):\n",
    "            data, target = data.to(device).float(), target.to(device).long()\n",
    "            subsets = get_subsets(data,subset_size,overlap)\n",
    "            optimizer.zero_grad()\n",
    "            output = model(data)\n",
    "            loss = criterion(output,target)\n",
    "            loss.backward()\n",
    "            optimizer.step()\n",
    "            \n",
    "            _, predicted = torch.max(output[0], 1)\n",
    "            total_train += target.size(0)\n",
    "            correct_train += (predicted == target).sum().item()\n",
    "            current_accuracy.append(correct_train/total_train)\n",
    "            running_train_loss+=loss\n",
    "        \n",
    "        running_train_loss /= len(trainloader)    \n",
    "        print(f\"epoch-{epoch} loss:{running_train_loss} accuracy:{correct_train/total_train}\")"
   ]
  },
  {
   "cell_type": "code",
   "execution_count": 12,
   "metadata": {},
   "outputs": [],
   "source": [
    "def train_classifier(model, criterion, optimizer, epochs, trainloader, testloader, lr=0.001, verbose=True, subset_size=10, overlap=2):\n",
    "    optimizer = optimizer(model.parameters(), lr=lr)\n",
    "    train_loss = []\n",
    "    val_loss = []\n",
    "    train_accuracy = []\n",
    "    val_accuracy = []\n",
    "    \n",
    "    for epoch in range(epochs):\n",
    "        running_train_loss = 0\n",
    "        total_train = 0\n",
    "        correct_train = 0\n",
    "        \n",
    "        # Training\n",
    "        model.train()\n",
    "        for data, target in tqdm(trainloader, desc=\"Training Epoch \" + str(epoch)):\n",
    "            data, target = data.to(device).float(), target.to(device).long()\n",
    "            optimizer.zero_grad()\n",
    "            output = model(data)\n",
    "            loss = criterion(output, target)\n",
    "            loss.backward()\n",
    "            optimizer.step()\n",
    "            \n",
    "            _, predicted = torch.max(output[0], 1)\n",
    "            total_train += target.size(0)\n",
    "            correct_train += (predicted == target).sum().item()\n",
    "            running_train_loss += loss.item()\n",
    "            \n",
    "        accuracy = correct_train / total_train\n",
    "        train_accuracy.append(accuracy)\n",
    "        running_train_loss /= len(trainloader)\n",
    "        train_loss.append(running_train_loss)\n",
    "        \n",
    "        # Validation\n",
    "        model.eval()\n",
    "        running_val_loss = 0\n",
    "        total_val = 0\n",
    "        correct_val = 0\n",
    "        with torch.no_grad():\n",
    "            for data, target in tqdm(testloader, desc=\"Validation Epoch \" + str(epoch)):\n",
    "                data, target = data.to(device).float(), target.to(device).long()\n",
    "                output = model(data)\n",
    "                loss = criterion(output, target)\n",
    "                running_val_loss += loss.item()\n",
    "                \n",
    "                _, predicted = torch.max(output[0], 1)\n",
    "                total_val += target.size(0)\n",
    "                correct_val += (predicted == target).sum().item()\n",
    "        \n",
    "        running_val_loss /= len(testloader)\n",
    "        val_loss.append(running_val_loss)\n",
    "        accuracy_val = correct_val / total_val\n",
    "        val_accuracy.append(accuracy_val)\n",
    "        \n",
    "        if verbose:\n",
    "            print(f\"Epoch [{epoch+1}/{epochs}], Train Loss: {train_loss[-1]:.4f}, Train Accuracy: {accuracy:.4f}, Validation Loss: {val_loss[-1]:.4f}, Validation Accuracy: {accuracy_val:.4f}\")\n",
    "\n",
    "    # Plotting\n",
    "    plt.figure(figsize=(10, 5))\n",
    "    plt.plot(train_loss, label='Train Loss')\n",
    "    plt.plot(val_loss, label='Validation Loss')\n",
    "    plt.xlabel('Epochs')\n",
    "    plt.ylabel('Loss')\n",
    "    plt.title('Training and Validation Loss')\n",
    "    plt.legend()\n",
    "    plt.show()\n",
    "    \n",
    "    plt.figure(figsize=(10, 5))\n",
    "    plt.plot(train_accuracy, label='Train Accuracy')\n",
    "    plt.plot(val_accuracy, label='Validation Accuracy')\n",
    "    plt.xlabel('Epochs')\n",
    "    plt.ylabel('Accuracy')\n",
    "    plt.title('Training and Validation Accuracy')\n",
    "    plt.legend()\n",
    "    plt.show()\n",
    "    \n",
    "    return train_loss, val_loss, train_accuracy, val_accuracy"
   ]
  },
  {
   "cell_type": "code",
   "execution_count": 13,
   "metadata": {},
   "outputs": [],
   "source": [
    "def train_ae(model, criterion, optimizer, epochs, trainloader, testloader, subset_size=10, overlap=4, lr=0.001, verbose=True):\n",
    "    optimizer = optimizer(model.parameters(), lr=lr)\n",
    "    train_loss = []\n",
    "    val_loss = []\n",
    "    for epoch in range(epochs):\n",
    "        # Training\n",
    "        model.train()\n",
    "        current_train_loss = 0\n",
    "        for data, _ in tqdm(trainloader, desc=\"Training Epoch \" + str(epoch)):\n",
    "            data = data.to(device).float()\n",
    "            subsets = get_subsets(data, subset_size, overlap)\n",
    "            optimizer.zero_grad()\n",
    "            recons = []\n",
    "            subset_loss = 0\n",
    "            for subset in subsets:\n",
    "                output = model(subset)\n",
    "                recons.append(output)\n",
    "                subset_loss += criterion(data, output)\n",
    "            subset_loss = subset_loss.mean()\n",
    "            subset_loss.backward()\n",
    "            optimizer.step()\n",
    "            current_train_loss += subset_loss.item() * data.size(0)\n",
    "        train_loss.append(current_train_loss / len(trainloader.dataset))\n",
    "        \n",
    "        # Validation\n",
    "        model.eval()\n",
    "        current_val_loss = 0\n",
    "        with torch.no_grad():\n",
    "            for data, _ in tqdm(testloader, desc=\"Validation Epoch \" + str(epoch)):\n",
    "                data = data.to(device).float()\n",
    "                subsets = get_subsets(data, subset_size, overlap)\n",
    "                recons = []\n",
    "                subset_loss = 0\n",
    "                for subset in subsets:\n",
    "                    output = model(subset)\n",
    "                    recons.append(output)\n",
    "                    subset_loss += criterion(data, output)\n",
    "                subset_loss = subset_loss.mean()\n",
    "                current_val_loss += subset_loss.item() * data.size(0)\n",
    "            val_loss.append(current_val_loss / len(testloader.dataset))\n",
    "        \n",
    "        if verbose:\n",
    "            print(f\"Epoch [{epoch}/{epochs}], Train Loss: {train_loss[-1]}, Validation Loss: {val_loss[-1]}\")\n",
    "        \n",
    "    plt.figure(figsize=(10, 5))\n",
    "    plt.plot(train_loss, label='Train Loss')\n",
    "    plt.plot(val_loss, label='Validation Loss')\n",
    "    plt.xlabel('Epochs')\n",
    "    plt.ylabel('Loss')\n",
    "    plt.title('Training and Validation Loss')\n",
    "    plt.legend()\n",
    "    plt.show()\n",
    "    \n",
    "    return train_loss, val_loss"
   ]
  },
  {
   "cell_type": "code",
   "execution_count": 23,
   "metadata": {},
   "outputs": [
    {
     "name": "stderr",
     "output_type": "stream",
     "text": [
      "Training Epoch 0:   0%|          | 0/250 [00:00<?, ?it/s]"
     ]
    },
    {
     "name": "stderr",
     "output_type": "stream",
     "text": [
      "Training Epoch 0: 100%|██████████| 250/250 [00:05<00:00, 48.05it/s]\n",
      "Validation Epoch 0: 100%|██████████| 122/122 [00:01<00:00, 107.23it/s]\n"
     ]
    },
    {
     "name": "stdout",
     "output_type": "stream",
     "text": [
      "Epoch [0/50], Train Loss: 0.047341288679327145, Validation Loss: 0.02146638842538381\n"
     ]
    },
    {
     "name": "stderr",
     "output_type": "stream",
     "text": [
      "Training Epoch 1: 100%|██████████| 250/250 [00:05<00:00, 48.28it/s]\n",
      "Validation Epoch 1: 100%|██████████| 122/122 [00:01<00:00, 110.38it/s]\n"
     ]
    },
    {
     "name": "stdout",
     "output_type": "stream",
     "text": [
      "Epoch [1/50], Train Loss: 0.01943980736914688, Validation Loss: 0.017899364966612596\n"
     ]
    },
    {
     "name": "stderr",
     "output_type": "stream",
     "text": [
      "Training Epoch 2: 100%|██████████| 250/250 [00:05<00:00, 49.10it/s]\n",
      "Validation Epoch 2: 100%|██████████| 122/122 [00:00<00:00, 134.58it/s]\n"
     ]
    },
    {
     "name": "stdout",
     "output_type": "stream",
     "text": [
      "Epoch [2/50], Train Loss: 0.017050198956171814, Validation Loss: 0.01638901923329402\n"
     ]
    },
    {
     "name": "stderr",
     "output_type": "stream",
     "text": [
      "Training Epoch 3: 100%|██████████| 250/250 [00:04<00:00, 53.23it/s]\n",
      "Validation Epoch 3: 100%|██████████| 122/122 [00:00<00:00, 142.79it/s]\n"
     ]
    },
    {
     "name": "stdout",
     "output_type": "stream",
     "text": [
      "Epoch [3/50], Train Loss: 0.015979768661334395, Validation Loss: 0.015615557042452006\n"
     ]
    },
    {
     "name": "stderr",
     "output_type": "stream",
     "text": [
      "Training Epoch 4: 100%|██████████| 250/250 [00:04<00:00, 57.52it/s]\n",
      "Validation Epoch 4: 100%|██████████| 122/122 [00:00<00:00, 137.66it/s]\n"
     ]
    },
    {
     "name": "stdout",
     "output_type": "stream",
     "text": [
      "Epoch [4/50], Train Loss: 0.015421944319640692, Validation Loss: 0.014959028364183048\n"
     ]
    },
    {
     "name": "stderr",
     "output_type": "stream",
     "text": [
      "Training Epoch 5: 100%|██████████| 250/250 [00:04<00:00, 50.87it/s]\n",
      "Validation Epoch 5: 100%|██████████| 122/122 [00:00<00:00, 123.73it/s]\n"
     ]
    },
    {
     "name": "stdout",
     "output_type": "stream",
     "text": [
      "Epoch [5/50], Train Loss: 0.015008649427610904, Validation Loss: 0.014640011438765588\n"
     ]
    },
    {
     "name": "stderr",
     "output_type": "stream",
     "text": [
      "Training Epoch 6: 100%|██████████| 250/250 [00:04<00:00, 52.63it/s]\n",
      "Validation Epoch 6: 100%|██████████| 122/122 [00:00<00:00, 133.80it/s]\n"
     ]
    },
    {
     "name": "stdout",
     "output_type": "stream",
     "text": [
      "Epoch [6/50], Train Loss: 0.014613803329083543, Validation Loss: 0.014514146454823323\n"
     ]
    },
    {
     "name": "stderr",
     "output_type": "stream",
     "text": [
      "Training Epoch 7: 100%|██████████| 250/250 [00:06<00:00, 39.26it/s]\n",
      "Validation Epoch 7: 100%|██████████| 122/122 [00:00<00:00, 137.95it/s]\n"
     ]
    },
    {
     "name": "stdout",
     "output_type": "stream",
     "text": [
      "Epoch [7/50], Train Loss: 0.014402609447596403, Validation Loss: 0.014292257224711087\n"
     ]
    },
    {
     "name": "stderr",
     "output_type": "stream",
     "text": [
      "Training Epoch 8: 100%|██████████| 250/250 [00:04<00:00, 58.64it/s]\n",
      "Validation Epoch 8: 100%|██████████| 122/122 [00:00<00:00, 123.66it/s]\n"
     ]
    },
    {
     "name": "stdout",
     "output_type": "stream",
     "text": [
      "Epoch [8/50], Train Loss: 0.014262837924970647, Validation Loss: 0.014151056750844687\n"
     ]
    },
    {
     "name": "stderr",
     "output_type": "stream",
     "text": [
      "Training Epoch 9: 100%|██████████| 250/250 [00:04<00:00, 53.67it/s]\n",
      "Validation Epoch 9: 100%|██████████| 122/122 [00:00<00:00, 126.66it/s]\n"
     ]
    },
    {
     "name": "stdout",
     "output_type": "stream",
     "text": [
      "Epoch [9/50], Train Loss: 0.014156170417733777, Validation Loss: 0.013958838870510077\n"
     ]
    },
    {
     "name": "stderr",
     "output_type": "stream",
     "text": [
      "Training Epoch 10: 100%|██████████| 250/250 [00:04<00:00, 52.18it/s]\n",
      "Validation Epoch 10: 100%|██████████| 122/122 [00:01<00:00, 121.49it/s]\n"
     ]
    },
    {
     "name": "stdout",
     "output_type": "stream",
     "text": [
      "Epoch [10/50], Train Loss: 0.014098470648511862, Validation Loss: 0.014361781047131771\n"
     ]
    },
    {
     "name": "stderr",
     "output_type": "stream",
     "text": [
      "Training Epoch 11: 100%|██████████| 250/250 [00:04<00:00, 54.38it/s]\n",
      "Validation Epoch 11: 100%|██████████| 122/122 [00:01<00:00, 114.96it/s]\n"
     ]
    },
    {
     "name": "stdout",
     "output_type": "stream",
     "text": [
      "Epoch [11/50], Train Loss: 0.014028186948659519, Validation Loss: 0.014427275437001999\n"
     ]
    },
    {
     "name": "stderr",
     "output_type": "stream",
     "text": [
      "Training Epoch 12: 100%|██████████| 250/250 [00:05<00:00, 46.81it/s]\n",
      "Validation Epoch 12: 100%|██████████| 122/122 [00:01<00:00, 118.82it/s]\n"
     ]
    },
    {
     "name": "stdout",
     "output_type": "stream",
     "text": [
      "Epoch [12/50], Train Loss: 0.013942493584741337, Validation Loss: 0.014073485976610428\n"
     ]
    },
    {
     "name": "stderr",
     "output_type": "stream",
     "text": [
      "Training Epoch 13: 100%|██████████| 250/250 [00:05<00:00, 45.78it/s]\n",
      "Validation Epoch 13: 100%|██████████| 122/122 [00:00<00:00, 127.95it/s]\n"
     ]
    },
    {
     "name": "stdout",
     "output_type": "stream",
     "text": [
      "Epoch [13/50], Train Loss: 0.013863805899372658, Validation Loss: 0.01394465372348443\n"
     ]
    },
    {
     "name": "stderr",
     "output_type": "stream",
     "text": [
      "Training Epoch 14: 100%|██████████| 250/250 [00:04<00:00, 53.64it/s]\n",
      "Validation Epoch 14: 100%|██████████| 122/122 [00:00<00:00, 126.30it/s]\n"
     ]
    },
    {
     "name": "stdout",
     "output_type": "stream",
     "text": [
      "Epoch [14/50], Train Loss: 0.013801432123634582, Validation Loss: 0.013600684689023555\n"
     ]
    },
    {
     "name": "stderr",
     "output_type": "stream",
     "text": [
      "Training Epoch 15: 100%|██████████| 250/250 [00:04<00:00, 50.54it/s]\n",
      "Validation Epoch 15: 100%|██████████| 122/122 [00:01<00:00, 119.39it/s]\n"
     ]
    },
    {
     "name": "stdout",
     "output_type": "stream",
     "text": [
      "Epoch [15/50], Train Loss: 0.01377254772486571, Validation Loss: 0.014176038115834578\n"
     ]
    },
    {
     "name": "stderr",
     "output_type": "stream",
     "text": [
      "Training Epoch 16: 100%|██████████| 250/250 [00:04<00:00, 53.84it/s]\n",
      "Validation Epoch 16: 100%|██████████| 122/122 [00:01<00:00, 102.20it/s]\n"
     ]
    },
    {
     "name": "stdout",
     "output_type": "stream",
     "text": [
      "Epoch [16/50], Train Loss: 0.013783321406196754, Validation Loss: 0.013552350009290072\n"
     ]
    },
    {
     "name": "stderr",
     "output_type": "stream",
     "text": [
      "Training Epoch 17: 100%|██████████| 250/250 [00:05<00:00, 45.01it/s]\n",
      "Validation Epoch 17: 100%|██████████| 122/122 [00:01<00:00, 97.01it/s]\n"
     ]
    },
    {
     "name": "stdout",
     "output_type": "stream",
     "text": [
      "Epoch [17/50], Train Loss: 0.013654919247178791, Validation Loss: 0.013654692338254207\n"
     ]
    },
    {
     "name": "stderr",
     "output_type": "stream",
     "text": [
      "Training Epoch 18: 100%|██████████| 250/250 [00:05<00:00, 48.33it/s]\n",
      "Validation Epoch 18: 100%|██████████| 122/122 [00:00<00:00, 129.66it/s]\n"
     ]
    },
    {
     "name": "stdout",
     "output_type": "stream",
     "text": [
      "Epoch [18/50], Train Loss: 0.013625230566294003, Validation Loss: 0.013766334985311214\n"
     ]
    },
    {
     "name": "stderr",
     "output_type": "stream",
     "text": [
      "Training Epoch 19: 100%|██████████| 250/250 [00:04<00:00, 50.73it/s]\n",
      "Validation Epoch 19: 100%|██████████| 122/122 [00:00<00:00, 127.20it/s]\n"
     ]
    },
    {
     "name": "stdout",
     "output_type": "stream",
     "text": [
      "Epoch [19/50], Train Loss: 0.013593765955495959, Validation Loss: 0.013654512067635854\n"
     ]
    },
    {
     "name": "stderr",
     "output_type": "stream",
     "text": [
      "Training Epoch 20: 100%|██████████| 250/250 [00:04<00:00, 50.84it/s]\n",
      "Validation Epoch 20: 100%|██████████| 122/122 [00:00<00:00, 129.08it/s]\n"
     ]
    },
    {
     "name": "stdout",
     "output_type": "stream",
     "text": [
      "Epoch [20/50], Train Loss: 0.01361487848379721, Validation Loss: 0.013803117429980865\n"
     ]
    },
    {
     "name": "stderr",
     "output_type": "stream",
     "text": [
      "Training Epoch 21: 100%|██████████| 250/250 [00:04<00:00, 52.43it/s]\n",
      "Validation Epoch 21: 100%|██████████| 122/122 [00:00<00:00, 129.96it/s]\n"
     ]
    },
    {
     "name": "stdout",
     "output_type": "stream",
     "text": [
      "Epoch [21/50], Train Loss: 0.01353466393909632, Validation Loss: 0.013886257346050862\n"
     ]
    },
    {
     "name": "stderr",
     "output_type": "stream",
     "text": [
      "Training Epoch 22: 100%|██████████| 250/250 [00:05<00:00, 47.84it/s]\n",
      "Validation Epoch 22: 100%|██████████| 122/122 [00:00<00:00, 162.11it/s]\n"
     ]
    },
    {
     "name": "stdout",
     "output_type": "stream",
     "text": [
      "Epoch [22/50], Train Loss: 0.013529337338136079, Validation Loss: 0.013344211798065749\n"
     ]
    },
    {
     "name": "stderr",
     "output_type": "stream",
     "text": [
      "Training Epoch 23: 100%|██████████| 250/250 [00:06<00:00, 40.78it/s]\n",
      "Validation Epoch 23: 100%|██████████| 122/122 [00:01<00:00, 93.95it/s]\n"
     ]
    },
    {
     "name": "stdout",
     "output_type": "stream",
     "text": [
      "Epoch [23/50], Train Loss: 0.013496014735070415, Validation Loss: 0.013333285624782244\n"
     ]
    },
    {
     "name": "stderr",
     "output_type": "stream",
     "text": [
      "Training Epoch 24: 100%|██████████| 250/250 [00:05<00:00, 42.43it/s]\n",
      "Validation Epoch 24: 100%|██████████| 122/122 [00:01<00:00, 118.47it/s]\n"
     ]
    },
    {
     "name": "stdout",
     "output_type": "stream",
     "text": [
      "Epoch [24/50], Train Loss: 0.013428600257238707, Validation Loss: 0.013493382306053089\n"
     ]
    },
    {
     "name": "stderr",
     "output_type": "stream",
     "text": [
      "Training Epoch 25: 100%|██████████| 250/250 [00:05<00:00, 44.31it/s]\n",
      "Validation Epoch 25: 100%|██████████| 122/122 [00:01<00:00, 107.30it/s]\n"
     ]
    },
    {
     "name": "stdout",
     "output_type": "stream",
     "text": [
      "Epoch [25/50], Train Loss: 0.013527695226889009, Validation Loss: 0.013659884612529706\n"
     ]
    },
    {
     "name": "stderr",
     "output_type": "stream",
     "text": [
      "Training Epoch 26: 100%|██████████| 250/250 [00:04<00:00, 53.98it/s]\n",
      "Validation Epoch 26: 100%|██████████| 122/122 [00:00<00:00, 133.09it/s]\n"
     ]
    },
    {
     "name": "stdout",
     "output_type": "stream",
     "text": [
      "Epoch [26/50], Train Loss: 0.013474135540980989, Validation Loss: 0.013260087347947635\n"
     ]
    },
    {
     "name": "stderr",
     "output_type": "stream",
     "text": [
      "Training Epoch 27: 100%|██████████| 250/250 [00:04<00:00, 56.33it/s]\n",
      "Validation Epoch 27: 100%|██████████| 122/122 [00:00<00:00, 142.40it/s]\n"
     ]
    },
    {
     "name": "stdout",
     "output_type": "stream",
     "text": [
      "Epoch [27/50], Train Loss: 0.013430981219967063, Validation Loss: 0.013169660886319785\n"
     ]
    },
    {
     "name": "stderr",
     "output_type": "stream",
     "text": [
      "Training Epoch 28: 100%|██████████| 250/250 [00:04<00:00, 60.68it/s]\n",
      "Validation Epoch 28: 100%|██████████| 122/122 [00:00<00:00, 142.84it/s]\n"
     ]
    },
    {
     "name": "stdout",
     "output_type": "stream",
     "text": [
      "Epoch [28/50], Train Loss: 0.013370432981994385, Validation Loss: 0.013391145930076257\n"
     ]
    },
    {
     "name": "stderr",
     "output_type": "stream",
     "text": [
      "Training Epoch 29: 100%|██████████| 250/250 [00:04<00:00, 58.00it/s]\n",
      "Validation Epoch 29: 100%|██████████| 122/122 [00:00<00:00, 136.77it/s]\n"
     ]
    },
    {
     "name": "stdout",
     "output_type": "stream",
     "text": [
      "Epoch [29/50], Train Loss: 0.013361590452498207, Validation Loss: 0.013237754128491267\n"
     ]
    },
    {
     "name": "stderr",
     "output_type": "stream",
     "text": [
      "Training Epoch 30: 100%|██████████| 250/250 [00:04<00:00, 54.89it/s]\n",
      "Validation Epoch 30: 100%|██████████| 122/122 [00:00<00:00, 138.42it/s]\n"
     ]
    },
    {
     "name": "stdout",
     "output_type": "stream",
     "text": [
      "Epoch [30/50], Train Loss: 0.013370814321276087, Validation Loss: 0.013398685092345262\n"
     ]
    },
    {
     "name": "stderr",
     "output_type": "stream",
     "text": [
      "Training Epoch 31: 100%|██████████| 250/250 [00:05<00:00, 47.45it/s]\n",
      "Validation Epoch 31: 100%|██████████| 122/122 [00:01<00:00, 101.80it/s]\n"
     ]
    },
    {
     "name": "stdout",
     "output_type": "stream",
     "text": [
      "Epoch [31/50], Train Loss: 0.01335118850469231, Validation Loss: 0.013425264472189622\n"
     ]
    },
    {
     "name": "stderr",
     "output_type": "stream",
     "text": [
      "Training Epoch 32: 100%|██████████| 250/250 [00:05<00:00, 45.85it/s]\n",
      "Validation Epoch 32: 100%|██████████| 122/122 [00:01<00:00, 119.03it/s]\n"
     ]
    },
    {
     "name": "stdout",
     "output_type": "stream",
     "text": [
      "Epoch [32/50], Train Loss: 0.013277082816691687, Validation Loss: 0.013450125575256653\n"
     ]
    },
    {
     "name": "stderr",
     "output_type": "stream",
     "text": [
      "Training Epoch 33: 100%|██████████| 250/250 [00:04<00:00, 54.65it/s]\n",
      "Validation Epoch 33: 100%|██████████| 122/122 [00:00<00:00, 140.21it/s]\n"
     ]
    },
    {
     "name": "stdout",
     "output_type": "stream",
     "text": [
      "Epoch [33/50], Train Loss: 0.013330574030987918, Validation Loss: 0.01324446445187697\n"
     ]
    },
    {
     "name": "stderr",
     "output_type": "stream",
     "text": [
      "Training Epoch 34: 100%|██████████| 250/250 [00:04<00:00, 57.04it/s]\n",
      "Validation Epoch 34: 100%|██████████| 122/122 [00:00<00:00, 142.76it/s]\n"
     ]
    },
    {
     "name": "stdout",
     "output_type": "stream",
     "text": [
      "Epoch [34/50], Train Loss: 0.013315031645246424, Validation Loss: 0.013104954264484919\n"
     ]
    },
    {
     "name": "stderr",
     "output_type": "stream",
     "text": [
      "Training Epoch 35: 100%|██████████| 250/250 [00:05<00:00, 43.68it/s]\n",
      "Validation Epoch 35: 100%|██████████| 122/122 [00:00<00:00, 152.74it/s]\n"
     ]
    },
    {
     "name": "stdout",
     "output_type": "stream",
     "text": [
      "Epoch [35/50], Train Loss: 0.013222169216113308, Validation Loss: 0.013106743406790954\n"
     ]
    },
    {
     "name": "stderr",
     "output_type": "stream",
     "text": [
      "Training Epoch 36: 100%|██████████| 250/250 [00:04<00:00, 51.83it/s]\n",
      "Validation Epoch 36: 100%|██████████| 122/122 [00:01<00:00, 108.72it/s]\n"
     ]
    },
    {
     "name": "stdout",
     "output_type": "stream",
     "text": [
      "Epoch [36/50], Train Loss: 0.013268381109437307, Validation Loss: 0.013434793552718101\n"
     ]
    },
    {
     "name": "stderr",
     "output_type": "stream",
     "text": [
      "Training Epoch 37: 100%|██████████| 250/250 [00:05<00:00, 45.60it/s]\n",
      "Validation Epoch 37: 100%|██████████| 122/122 [00:01<00:00, 109.30it/s]\n"
     ]
    },
    {
     "name": "stdout",
     "output_type": "stream",
     "text": [
      "Epoch [37/50], Train Loss: 0.013336193079176622, Validation Loss: 0.013469936350026192\n"
     ]
    },
    {
     "name": "stderr",
     "output_type": "stream",
     "text": [
      "Training Epoch 38: 100%|██████████| 250/250 [00:05<00:00, 43.28it/s]\n",
      "Validation Epoch 38: 100%|██████████| 122/122 [00:01<00:00, 116.08it/s]\n"
     ]
    },
    {
     "name": "stdout",
     "output_type": "stream",
     "text": [
      "Epoch [38/50], Train Loss: 0.013234047304229954, Validation Loss: 0.013692471756575963\n"
     ]
    },
    {
     "name": "stderr",
     "output_type": "stream",
     "text": [
      "Training Epoch 39: 100%|██████████| 250/250 [00:05<00:00, 47.03it/s]\n",
      "Validation Epoch 39: 100%|██████████| 122/122 [00:01<00:00, 104.09it/s]\n"
     ]
    },
    {
     "name": "stdout",
     "output_type": "stream",
     "text": [
      "Epoch [39/50], Train Loss: 0.013182602106378628, Validation Loss: 0.012937968151691633\n"
     ]
    },
    {
     "name": "stderr",
     "output_type": "stream",
     "text": [
      "Training Epoch 40: 100%|██████████| 250/250 [00:05<00:00, 44.21it/s]\n",
      "Validation Epoch 40: 100%|██████████| 122/122 [00:00<00:00, 149.51it/s]\n"
     ]
    },
    {
     "name": "stdout",
     "output_type": "stream",
     "text": [
      "Epoch [40/50], Train Loss: 0.013229319528013898, Validation Loss: 0.013246002377798924\n"
     ]
    },
    {
     "name": "stderr",
     "output_type": "stream",
     "text": [
      "Training Epoch 41: 100%|██████████| 250/250 [00:05<00:00, 48.94it/s]\n",
      "Validation Epoch 41: 100%|██████████| 122/122 [00:00<00:00, 130.85it/s]\n"
     ]
    },
    {
     "name": "stdout",
     "output_type": "stream",
     "text": [
      "Epoch [41/50], Train Loss: 0.013255995289327051, Validation Loss: 0.01306591249238222\n"
     ]
    },
    {
     "name": "stderr",
     "output_type": "stream",
     "text": [
      "Training Epoch 42: 100%|██████████| 250/250 [00:04<00:00, 51.91it/s]\n",
      "Validation Epoch 42: 100%|██████████| 122/122 [00:01<00:00, 103.69it/s]\n"
     ]
    },
    {
     "name": "stdout",
     "output_type": "stream",
     "text": [
      "Epoch [42/50], Train Loss: 0.013134633655844925, Validation Loss: 0.01330012520058797\n"
     ]
    },
    {
     "name": "stderr",
     "output_type": "stream",
     "text": [
      "Training Epoch 43: 100%|██████████| 250/250 [00:04<00:00, 51.12it/s]\n",
      "Validation Epoch 43: 100%|██████████| 122/122 [00:01<00:00, 104.44it/s]\n"
     ]
    },
    {
     "name": "stdout",
     "output_type": "stream",
     "text": [
      "Epoch [43/50], Train Loss: 0.01321591976030061, Validation Loss: 0.013223626291713654\n"
     ]
    },
    {
     "name": "stderr",
     "output_type": "stream",
     "text": [
      "Training Epoch 44: 100%|██████████| 250/250 [00:05<00:00, 48.84it/s]\n",
      "Validation Epoch 44: 100%|██████████| 122/122 [00:00<00:00, 130.51it/s]\n"
     ]
    },
    {
     "name": "stdout",
     "output_type": "stream",
     "text": [
      "Epoch [44/50], Train Loss: 0.013176933511530455, Validation Loss: 0.013372119322228126\n"
     ]
    },
    {
     "name": "stderr",
     "output_type": "stream",
     "text": [
      "Training Epoch 45: 100%|██████████| 250/250 [00:05<00:00, 46.22it/s]\n",
      "Validation Epoch 45: 100%|██████████| 122/122 [00:00<00:00, 127.99it/s]\n"
     ]
    },
    {
     "name": "stdout",
     "output_type": "stream",
     "text": [
      "Epoch [45/50], Train Loss: 0.013138068495139193, Validation Loss: 0.013434800520921365\n"
     ]
    },
    {
     "name": "stderr",
     "output_type": "stream",
     "text": [
      "Training Epoch 46: 100%|██████████| 250/250 [00:04<00:00, 52.74it/s]\n",
      "Validation Epoch 46: 100%|██████████| 122/122 [00:01<00:00, 117.87it/s]\n"
     ]
    },
    {
     "name": "stdout",
     "output_type": "stream",
     "text": [
      "Epoch [46/50], Train Loss: 0.013149468721493553, Validation Loss: 0.012870163807693201\n"
     ]
    },
    {
     "name": "stderr",
     "output_type": "stream",
     "text": [
      "Training Epoch 47: 100%|██████████| 250/250 [00:04<00:00, 56.62it/s]\n",
      "Validation Epoch 47: 100%|██████████| 122/122 [00:00<00:00, 140.64it/s]\n"
     ]
    },
    {
     "name": "stdout",
     "output_type": "stream",
     "text": [
      "Epoch [47/50], Train Loss: 0.013090214610714704, Validation Loss: 0.013139878143675817\n"
     ]
    },
    {
     "name": "stderr",
     "output_type": "stream",
     "text": [
      "Training Epoch 48: 100%|██████████| 250/250 [00:04<00:00, 54.19it/s]\n",
      "Validation Epoch 48: 100%|██████████| 122/122 [00:00<00:00, 147.92it/s]\n"
     ]
    },
    {
     "name": "stdout",
     "output_type": "stream",
     "text": [
      "Epoch [48/50], Train Loss: 0.013039181760410802, Validation Loss: 0.012933659685345796\n"
     ]
    },
    {
     "name": "stderr",
     "output_type": "stream",
     "text": [
      "Training Epoch 49: 100%|██████████| 250/250 [00:04<00:00, 60.27it/s]\n",
      "Validation Epoch 49: 100%|██████████| 122/122 [00:01<00:00, 97.47it/s] \n"
     ]
    },
    {
     "name": "stdout",
     "output_type": "stream",
     "text": [
      "Epoch [49/50], Train Loss: 0.013114527202933693, Validation Loss: 0.01290435023414783\n"
     ]
    },
    {
     "data": {
      "image/png": "[encoded data removed]",
      "text/plain": [
       "<Figure size 1000x500 with 1 Axes>"
      ]
     },
     "metadata": {},
     "output_type": "display_data"
    },
    {
     "data": {
      "text/plain": [
       "([0.047341288679327145,\n",
       "  0.01943980736914688,\n",
       "  0.017050198956171814,\n",
       "  0.015979768661334395,\n",
       "  0.015421944319640692,\n",
       "  0.015008649427610904,\n",
       "  0.014613803329083543,\n",
       "  0.014402609447596403,\n",
       "  0.014262837924970647,\n",
       "  0.014156170417733777,\n",
       "  0.014098470648511862,\n",
       "  0.014028186948659519,\n",
       "  0.013942493584741337,\n",
       "  0.013863805899372658,\n",
       "  0.013801432123634582,\n",
       "  0.01377254772486571,\n",
       "  0.013783321406196754,\n",
       "  0.013654919247178791,\n",
       "  0.013625230566294003,\n",
       "  0.013593765955495959,\n",
       "  0.01361487848379721,\n",
       "  0.01353466393909632,\n",
       "  0.013529337338136079,\n",
       "  0.013496014735070415,\n",
       "  0.013428600257238707,\n",
       "  0.013527695226889009,\n",
       "  0.013474135540980989,\n",
       "  0.013430981219967063,\n",
       "  0.013370432981994385,\n",
       "  0.013361590452498207,\n",
       "  0.013370814321276087,\n",
       "  0.01335118850469231,\n",
       "  0.013277082816691687,\n",
       "  0.013330574030987918,\n",
       "  0.013315031645246424,\n",
       "  0.013222169216113308,\n",
       "  0.013268381109437307,\n",
       "  0.013336193079176622,\n",
       "  0.013234047304229954,\n",
       "  0.013182602106378628,\n",
       "  0.013229319528013898,\n",
       "  0.013255995289327051,\n",
       "  0.013134633655844925,\n",
       "  0.01321591976030061,\n",
       "  0.013176933511530455,\n",
       "  0.013138068495139193,\n",
       "  0.013149468721493553,\n",
       "  0.013090214610714704,\n",
       "  0.013039181760410802,\n",
       "  0.013114527202933693],\n",
       " [0.02146638842538381,\n",
       "  0.017899364966612596,\n",
       "  0.01638901923329402,\n",
       "  0.015615557042452006,\n",
       "  0.014959028364183048,\n",
       "  0.014640011438765588,\n",
       "  0.014514146454823323,\n",
       "  0.014292257224711087,\n",
       "  0.014151056750844687,\n",
       "  0.013958838870510077,\n",
       "  0.014361781047131771,\n",
       "  0.014427275437001999,\n",
       "  0.014073485976610428,\n",
       "  0.01394465372348443,\n",
       "  0.013600684689023555,\n",
       "  0.014176038115834578,\n",
       "  0.013552350009290072,\n",
       "  0.013654692338254207,\n",
       "  0.013766334985311214,\n",
       "  0.013654512067635854,\n",
       "  0.013803117429980865,\n",
       "  0.013886257346050862,\n",
       "  0.013344211798065749,\n",
       "  0.013333285624782244,\n",
       "  0.013493382306053089,\n",
       "  0.013659884612529706,\n",
       "  0.013260087347947635,\n",
       "  0.013169660886319785,\n",
       "  0.013391145930076257,\n",
       "  0.013237754128491267,\n",
       "  0.013398685092345262,\n",
       "  0.013425264472189622,\n",
       "  0.013450125575256653,\n",
       "  0.01324446445187697,\n",
       "  0.013104954264484919,\n",
       "  0.013106743406790954,\n",
       "  0.013434793552718101,\n",
       "  0.013469936350026192,\n",
       "  0.013692471756575963,\n",
       "  0.012937968151691633,\n",
       "  0.013246002377798924,\n",
       "  0.01306591249238222,\n",
       "  0.01330012520058797,\n",
       "  0.013223626291713654,\n",
       "  0.013372119322228126,\n",
       "  0.013434800520921365,\n",
       "  0.012870163807693201,\n",
       "  0.013139878143675817,\n",
       "  0.012933659685345796,\n",
       "  0.01290435023414783])"
      ]
     },
     "execution_count": 23,
     "metadata": {},
     "output_type": "execute_result"
    }
   ],
   "source": [
    "model = SubsetAutoencoder(encoder_sizes=[18,32,22],decoder_sizes=[22,32,24])\n",
    "model.to(device)\n",
    "optimizer = torch.optim.Adam\n",
    "criterion = torch.nn.MSELoss()\n",
    "train_ae(model,criterion,optimizer,50,Noise_Low_t10v_train_loader,Noise_Low_t10v_test_loader,subset_size = 18,overlap = 6,lr=0.01)"
   ]
  },
  {
   "cell_type": "code",
   "execution_count": 27,
   "metadata": {},
   "outputs": [
    {
     "name": "stderr",
     "output_type": "stream",
     "text": [
      "Training Epoch 108: 100%|██████████| 122/122 [00:02<00:00, 50.29it/s]\n",
      "Validation Epoch 108: 100%|██████████| 122/122 [00:01<00:00, 84.47it/s]\n"
     ]
    },
    {
     "name": "stdout",
     "output_type": "stream",
     "text": [
      "Epoch [109/150], Train Loss: 0.8429, Train Accuracy: 0.6928, Validation Loss: 0.8416, Validation Accuracy: 0.6946\n"
     ]
    },
    {
     "name": "stderr",
     "output_type": "stream",
     "text": [
      "Training Epoch 109: 100%|██████████| 122/122 [00:02<00:00, 56.67it/s]\n",
      "Validation Epoch 109: 100%|██████████| 122/122 [00:01<00:00, 110.91it/s]\n"
     ]
    },
    {
     "name": "stdout",
     "output_type": "stream",
     "text": [
      "Epoch [110/150], Train Loss: 0.8417, Train Accuracy: 0.6935, Validation Loss: 0.8402, Validation Accuracy: 0.6934\n"
     ]
    },
    {
     "name": "stderr",
     "output_type": "stream",
     "text": [
      "Training Epoch 110: 100%|██████████| 122/122 [00:02<00:00, 54.71it/s]\n",
      "Validation Epoch 110: 100%|██████████| 122/122 [00:01<00:00, 91.90it/s]\n"
     ]
    },
    {
     "name": "stdout",
     "output_type": "stream",
     "text": [
      "Epoch [111/150], Train Loss: 0.8411, Train Accuracy: 0.6942, Validation Loss: 0.8401, Validation Accuracy: 0.6947\n"
     ]
    },
    {
     "name": "stderr",
     "output_type": "stream",
     "text": [
      "Training Epoch 111: 100%|██████████| 122/122 [00:02<00:00, 55.07it/s]\n",
      "Validation Epoch 111: 100%|██████████| 122/122 [00:01<00:00, 91.88it/s] \n"
     ]
    },
    {
     "name": "stdout",
     "output_type": "stream",
     "text": [
      "Epoch [112/150], Train Loss: 0.8406, Train Accuracy: 0.6947, Validation Loss: 0.8403, Validation Accuracy: 0.6954\n"
     ]
    },
    {
     "name": "stderr",
     "output_type": "stream",
     "text": [
      "Training Epoch 112: 100%|██████████| 122/122 [00:02<00:00, 49.31it/s]\n",
      "Validation Epoch 112: 100%|██████████| 122/122 [00:01<00:00, 106.08it/s]\n"
     ]
    },
    {
     "name": "stdout",
     "output_type": "stream",
     "text": [
      "Epoch [113/150], Train Loss: 0.8392, Train Accuracy: 0.6946, Validation Loss: 0.8383, Validation Accuracy: 0.6949\n"
     ]
    },
    {
     "name": "stderr",
     "output_type": "stream",
     "text": [
      "Training Epoch 113: 100%|██████████| 122/122 [00:02<00:00, 46.16it/s]\n",
      "Validation Epoch 113: 100%|██████████| 122/122 [00:01<00:00, 103.29it/s]\n"
     ]
    },
    {
     "name": "stdout",
     "output_type": "stream",
     "text": [
      "Epoch [114/150], Train Loss: 0.8389, Train Accuracy: 0.6954, Validation Loss: 0.8379, Validation Accuracy: 0.6919\n"
     ]
    },
    {
     "name": "stderr",
     "output_type": "stream",
     "text": [
      "Training Epoch 114: 100%|██████████| 122/122 [00:02<00:00, 49.34it/s]\n",
      "Validation Epoch 114: 100%|██████████| 122/122 [00:01<00:00, 82.65it/s]\n"
     ]
    },
    {
     "name": "stdout",
     "output_type": "stream",
     "text": [
      "Epoch [115/150], Train Loss: 0.8382, Train Accuracy: 0.6950, Validation Loss: 0.8375, Validation Accuracy: 0.6951\n"
     ]
    },
    {
     "name": "stderr",
     "output_type": "stream",
     "text": [
      "Training Epoch 115: 100%|██████████| 122/122 [00:02<00:00, 45.95it/s]\n",
      "Validation Epoch 115: 100%|██████████| 122/122 [00:01<00:00, 85.18it/s]\n"
     ]
    },
    {
     "name": "stdout",
     "output_type": "stream",
     "text": [
      "Epoch [116/150], Train Loss: 0.8374, Train Accuracy: 0.6960, Validation Loss: 0.8377, Validation Accuracy: 0.6933\n"
     ]
    },
    {
     "name": "stderr",
     "output_type": "stream",
     "text": [
      "Training Epoch 116: 100%|██████████| 122/122 [00:02<00:00, 45.00it/s]\n",
      "Validation Epoch 116: 100%|██████████| 122/122 [00:01<00:00, 84.14it/s]\n"
     ]
    },
    {
     "name": "stdout",
     "output_type": "stream",
     "text": [
      "Epoch [117/150], Train Loss: 0.8359, Train Accuracy: 0.6964, Validation Loss: 0.8341, Validation Accuracy: 0.6973\n"
     ]
    },
    {
     "name": "stderr",
     "output_type": "stream",
     "text": [
      "Training Epoch 117: 100%|██████████| 122/122 [00:02<00:00, 55.84it/s]\n",
      "Validation Epoch 117: 100%|██████████| 122/122 [00:01<00:00, 89.44it/s] \n"
     ]
    },
    {
     "name": "stdout",
     "output_type": "stream",
     "text": [
      "Epoch [118/150], Train Loss: 0.8308, Train Accuracy: 0.6981, Validation Loss: 0.8269, Validation Accuracy: 0.6995\n"
     ]
    },
    {
     "name": "stderr",
     "output_type": "stream",
     "text": [
      "Training Epoch 118: 100%|██████████| 122/122 [00:02<00:00, 53.47it/s]\n",
      "Validation Epoch 118: 100%|██████████| 122/122 [00:01<00:00, 96.33it/s] \n"
     ]
    },
    {
     "name": "stdout",
     "output_type": "stream",
     "text": [
      "Epoch [119/150], Train Loss: 0.8237, Train Accuracy: 0.7022, Validation Loss: 0.8194, Validation Accuracy: 0.7039\n"
     ]
    },
    {
     "name": "stderr",
     "output_type": "stream",
     "text": [
      "Training Epoch 119: 100%|██████████| 122/122 [00:02<00:00, 50.06it/s]\n",
      "Validation Epoch 119: 100%|██████████| 122/122 [00:01<00:00, 108.12it/s]\n"
     ]
    },
    {
     "name": "stdout",
     "output_type": "stream",
     "text": [
      "Epoch [120/150], Train Loss: 0.8179, Train Accuracy: 0.7040, Validation Loss: 0.8146, Validation Accuracy: 0.7060\n"
     ]
    },
    {
     "name": "stderr",
     "output_type": "stream",
     "text": [
      "Training Epoch 120: 100%|██████████| 122/122 [00:03<00:00, 40.36it/s]\n",
      "Validation Epoch 120: 100%|██████████| 122/122 [00:01<00:00, 108.12it/s]\n"
     ]
    },
    {
     "name": "stdout",
     "output_type": "stream",
     "text": [
      "Epoch [121/150], Train Loss: 0.8127, Train Accuracy: 0.7070, Validation Loss: 0.8117, Validation Accuracy: 0.7070\n"
     ]
    },
    {
     "name": "stderr",
     "output_type": "stream",
     "text": [
      "Training Epoch 121: 100%|██████████| 122/122 [00:02<00:00, 50.49it/s]\n",
      "Validation Epoch 121: 100%|██████████| 122/122 [00:01<00:00, 121.97it/s]\n"
     ]
    },
    {
     "name": "stdout",
     "output_type": "stream",
     "text": [
      "Epoch [122/150], Train Loss: 0.8101, Train Accuracy: 0.7069, Validation Loss: 0.8072, Validation Accuracy: 0.7074\n"
     ]
    },
    {
     "name": "stderr",
     "output_type": "stream",
     "text": [
      "Training Epoch 122: 100%|██████████| 122/122 [00:02<00:00, 51.31it/s]\n",
      "Validation Epoch 122: 100%|██████████| 122/122 [00:01<00:00, 101.29it/s]\n"
     ]
    },
    {
     "name": "stdout",
     "output_type": "stream",
     "text": [
      "Epoch [123/150], Train Loss: 0.8066, Train Accuracy: 0.7080, Validation Loss: 0.8062, Validation Accuracy: 0.7086\n"
     ]
    },
    {
     "name": "stderr",
     "output_type": "stream",
     "text": [
      "Training Epoch 123: 100%|██████████| 122/122 [00:02<00:00, 57.01it/s]\n",
      "Validation Epoch 123: 100%|██████████| 122/122 [00:01<00:00, 84.70it/s]\n"
     ]
    },
    {
     "name": "stdout",
     "output_type": "stream",
     "text": [
      "Epoch [124/150], Train Loss: 0.8050, Train Accuracy: 0.7086, Validation Loss: 0.8044, Validation Accuracy: 0.7080\n"
     ]
    },
    {
     "name": "stderr",
     "output_type": "stream",
     "text": [
      "Training Epoch 124: 100%|██████████| 122/122 [00:02<00:00, 53.41it/s]\n",
      "Validation Epoch 124: 100%|██████████| 122/122 [00:01<00:00, 102.21it/s]\n"
     ]
    },
    {
     "name": "stdout",
     "output_type": "stream",
     "text": [
      "Epoch [125/150], Train Loss: 0.8026, Train Accuracy: 0.7093, Validation Loss: 0.8006, Validation Accuracy: 0.7087\n"
     ]
    },
    {
     "name": "stderr",
     "output_type": "stream",
     "text": [
      "Training Epoch 125: 100%|██████████| 122/122 [00:02<00:00, 55.70it/s]\n",
      "Validation Epoch 125: 100%|██████████| 122/122 [00:01<00:00, 95.73it/s] \n"
     ]
    },
    {
     "name": "stdout",
     "output_type": "stream",
     "text": [
      "Epoch [126/150], Train Loss: 0.8012, Train Accuracy: 0.7093, Validation Loss: 0.7991, Validation Accuracy: 0.7140\n"
     ]
    },
    {
     "name": "stderr",
     "output_type": "stream",
     "text": [
      "Training Epoch 126: 100%|██████████| 122/122 [00:02<00:00, 50.57it/s]\n",
      "Validation Epoch 126: 100%|██████████| 122/122 [00:01<00:00, 99.71it/s] \n"
     ]
    },
    {
     "name": "stdout",
     "output_type": "stream",
     "text": [
      "Epoch [127/150], Train Loss: 0.7999, Train Accuracy: 0.7102, Validation Loss: 0.7983, Validation Accuracy: 0.7090\n"
     ]
    },
    {
     "name": "stderr",
     "output_type": "stream",
     "text": [
      "Training Epoch 127: 100%|██████████| 122/122 [00:02<00:00, 55.07it/s]\n",
      "Validation Epoch 127: 100%|██████████| 122/122 [00:01<00:00, 89.79it/s]\n"
     ]
    },
    {
     "name": "stdout",
     "output_type": "stream",
     "text": [
      "Epoch [128/150], Train Loss: 0.7985, Train Accuracy: 0.7104, Validation Loss: 0.7978, Validation Accuracy: 0.7153\n"
     ]
    },
    {
     "name": "stderr",
     "output_type": "stream",
     "text": [
      "Training Epoch 128: 100%|██████████| 122/122 [00:02<00:00, 51.69it/s]\n",
      "Validation Epoch 128: 100%|██████████| 122/122 [00:01<00:00, 97.78it/s] \n"
     ]
    },
    {
     "name": "stdout",
     "output_type": "stream",
     "text": [
      "Epoch [129/150], Train Loss: 0.7972, Train Accuracy: 0.7110, Validation Loss: 0.7960, Validation Accuracy: 0.7110\n"
     ]
    },
    {
     "name": "stderr",
     "output_type": "stream",
     "text": [
      "Training Epoch 129: 100%|██████████| 122/122 [00:02<00:00, 48.61it/s]\n",
      "Validation Epoch 129: 100%|██████████| 122/122 [00:01<00:00, 71.88it/s]\n"
     ]
    },
    {
     "name": "stdout",
     "output_type": "stream",
     "text": [
      "Epoch [130/150], Train Loss: 0.7966, Train Accuracy: 0.7124, Validation Loss: 0.7980, Validation Accuracy: 0.7109\n"
     ]
    },
    {
     "name": "stderr",
     "output_type": "stream",
     "text": [
      "Training Epoch 130: 100%|██████████| 122/122 [00:02<00:00, 53.92it/s]\n",
      "Validation Epoch 130: 100%|██████████| 122/122 [00:01<00:00, 93.16it/s] \n"
     ]
    },
    {
     "name": "stdout",
     "output_type": "stream",
     "text": [
      "Epoch [131/150], Train Loss: 0.7957, Train Accuracy: 0.7119, Validation Loss: 0.7946, Validation Accuracy: 0.7116\n"
     ]
    },
    {
     "name": "stderr",
     "output_type": "stream",
     "text": [
      "Training Epoch 131: 100%|██████████| 122/122 [00:02<00:00, 47.63it/s]\n",
      "Validation Epoch 131: 100%|██████████| 122/122 [00:01<00:00, 87.58it/s]\n"
     ]
    },
    {
     "name": "stdout",
     "output_type": "stream",
     "text": [
      "Epoch [132/150], Train Loss: 0.7940, Train Accuracy: 0.7116, Validation Loss: 0.7928, Validation Accuracy: 0.7097\n"
     ]
    },
    {
     "name": "stderr",
     "output_type": "stream",
     "text": [
      "Training Epoch 132: 100%|██████████| 122/122 [00:02<00:00, 47.90it/s]\n",
      "Validation Epoch 132: 100%|██████████| 122/122 [00:01<00:00, 87.64it/s]\n"
     ]
    },
    {
     "name": "stdout",
     "output_type": "stream",
     "text": [
      "Epoch [133/150], Train Loss: 0.7934, Train Accuracy: 0.7120, Validation Loss: 0.7930, Validation Accuracy: 0.7153\n"
     ]
    },
    {
     "name": "stderr",
     "output_type": "stream",
     "text": [
      "Training Epoch 133: 100%|██████████| 122/122 [00:02<00:00, 52.28it/s]\n",
      "Validation Epoch 133: 100%|██████████| 122/122 [00:01<00:00, 99.18it/s] \n"
     ]
    },
    {
     "name": "stdout",
     "output_type": "stream",
     "text": [
      "Epoch [134/150], Train Loss: 0.7929, Train Accuracy: 0.7123, Validation Loss: 0.7916, Validation Accuracy: 0.7144\n"
     ]
    },
    {
     "name": "stderr",
     "output_type": "stream",
     "text": [
      "Training Epoch 134: 100%|██████████| 122/122 [00:02<00:00, 53.92it/s]\n",
      "Validation Epoch 134: 100%|██████████| 122/122 [00:01<00:00, 88.60it/s]\n"
     ]
    },
    {
     "name": "stdout",
     "output_type": "stream",
     "text": [
      "Epoch [135/150], Train Loss: 0.7921, Train Accuracy: 0.7130, Validation Loss: 0.7907, Validation Accuracy: 0.7165\n"
     ]
    },
    {
     "name": "stderr",
     "output_type": "stream",
     "text": [
      "Training Epoch 135: 100%|██████████| 122/122 [00:02<00:00, 50.67it/s]\n",
      "Validation Epoch 135: 100%|██████████| 122/122 [00:01<00:00, 107.29it/s]\n"
     ]
    },
    {
     "name": "stdout",
     "output_type": "stream",
     "text": [
      "Epoch [136/150], Train Loss: 0.7918, Train Accuracy: 0.7141, Validation Loss: 0.7906, Validation Accuracy: 0.7122\n"
     ]
    },
    {
     "name": "stderr",
     "output_type": "stream",
     "text": [
      "Training Epoch 136: 100%|██████████| 122/122 [00:02<00:00, 46.66it/s]\n",
      "Validation Epoch 136: 100%|██████████| 122/122 [00:01<00:00, 93.88it/s]\n"
     ]
    },
    {
     "name": "stdout",
     "output_type": "stream",
     "text": [
      "Epoch [137/150], Train Loss: 0.7911, Train Accuracy: 0.7128, Validation Loss: 0.7905, Validation Accuracy: 0.7113\n"
     ]
    },
    {
     "name": "stderr",
     "output_type": "stream",
     "text": [
      "Training Epoch 137: 100%|██████████| 122/122 [00:02<00:00, 49.50it/s]\n",
      "Validation Epoch 137: 100%|██████████| 122/122 [00:01<00:00, 77.37it/s]\n"
     ]
    },
    {
     "name": "stdout",
     "output_type": "stream",
     "text": [
      "Epoch [138/150], Train Loss: 0.7904, Train Accuracy: 0.7129, Validation Loss: 0.7904, Validation Accuracy: 0.7154\n"
     ]
    },
    {
     "name": "stderr",
     "output_type": "stream",
     "text": [
      "Training Epoch 138: 100%|██████████| 122/122 [00:02<00:00, 50.85it/s]\n",
      "Validation Epoch 138: 100%|██████████| 122/122 [00:01<00:00, 99.41it/s] \n"
     ]
    },
    {
     "name": "stdout",
     "output_type": "stream",
     "text": [
      "Epoch [139/150], Train Loss: 0.7903, Train Accuracy: 0.7141, Validation Loss: 0.7897, Validation Accuracy: 0.7177\n"
     ]
    },
    {
     "name": "stderr",
     "output_type": "stream",
     "text": [
      "Training Epoch 139: 100%|██████████| 122/122 [00:02<00:00, 57.85it/s]\n",
      "Validation Epoch 139: 100%|██████████| 122/122 [00:01<00:00, 91.17it/s] \n"
     ]
    },
    {
     "name": "stdout",
     "output_type": "stream",
     "text": [
      "Epoch [140/150], Train Loss: 0.7901, Train Accuracy: 0.7137, Validation Loss: 0.7893, Validation Accuracy: 0.7144\n"
     ]
    },
    {
     "name": "stderr",
     "output_type": "stream",
     "text": [
      "Training Epoch 140: 100%|██████████| 122/122 [00:02<00:00, 57.77it/s]\n",
      "Validation Epoch 140: 100%|██████████| 122/122 [00:01<00:00, 91.25it/s]\n"
     ]
    },
    {
     "name": "stdout",
     "output_type": "stream",
     "text": [
      "Epoch [141/150], Train Loss: 0.7898, Train Accuracy: 0.7150, Validation Loss: 0.7904, Validation Accuracy: 0.7105\n"
     ]
    },
    {
     "name": "stderr",
     "output_type": "stream",
     "text": [
      "Training Epoch 141: 100%|██████████| 122/122 [00:02<00:00, 53.77it/s]\n",
      "Validation Epoch 141: 100%|██████████| 122/122 [00:01<00:00, 107.03it/s]\n"
     ]
    },
    {
     "name": "stdout",
     "output_type": "stream",
     "text": [
      "Epoch [142/150], Train Loss: 0.7888, Train Accuracy: 0.7145, Validation Loss: 0.7874, Validation Accuracy: 0.7133\n"
     ]
    },
    {
     "name": "stderr",
     "output_type": "stream",
     "text": [
      "Training Epoch 142: 100%|██████████| 122/122 [00:02<00:00, 55.06it/s]\n",
      "Validation Epoch 142: 100%|██████████| 122/122 [00:01<00:00, 100.77it/s]\n"
     ]
    },
    {
     "name": "stdout",
     "output_type": "stream",
     "text": [
      "Epoch [143/150], Train Loss: 0.7884, Train Accuracy: 0.7153, Validation Loss: 0.7882, Validation Accuracy: 0.7143\n"
     ]
    },
    {
     "name": "stderr",
     "output_type": "stream",
     "text": [
      "Training Epoch 143: 100%|██████████| 122/122 [00:02<00:00, 56.28it/s]\n",
      "Validation Epoch 143: 100%|██████████| 122/122 [00:01<00:00, 98.97it/s] \n"
     ]
    },
    {
     "name": "stdout",
     "output_type": "stream",
     "text": [
      "Epoch [144/150], Train Loss: 0.7880, Train Accuracy: 0.7151, Validation Loss: 0.7877, Validation Accuracy: 0.7129\n"
     ]
    },
    {
     "name": "stderr",
     "output_type": "stream",
     "text": [
      "Training Epoch 144: 100%|██████████| 122/122 [00:02<00:00, 55.14it/s]\n",
      "Validation Epoch 144: 100%|██████████| 122/122 [00:01<00:00, 96.91it/s] \n"
     ]
    },
    {
     "name": "stdout",
     "output_type": "stream",
     "text": [
      "Epoch [145/150], Train Loss: 0.7876, Train Accuracy: 0.7142, Validation Loss: 0.7889, Validation Accuracy: 0.7108\n"
     ]
    },
    {
     "name": "stderr",
     "output_type": "stream",
     "text": [
      "Training Epoch 145: 100%|██████████| 122/122 [00:02<00:00, 58.24it/s]\n",
      "Validation Epoch 145: 100%|██████████| 122/122 [00:01<00:00, 111.76it/s]\n"
     ]
    },
    {
     "name": "stdout",
     "output_type": "stream",
     "text": [
      "Epoch [146/150], Train Loss: 0.7872, Train Accuracy: 0.7140, Validation Loss: 0.7860, Validation Accuracy: 0.7177\n"
     ]
    },
    {
     "name": "stderr",
     "output_type": "stream",
     "text": [
      "Training Epoch 146: 100%|██████████| 122/122 [00:02<00:00, 53.06it/s]\n",
      "Validation Epoch 146: 100%|██████████| 122/122 [00:01<00:00, 104.85it/s]\n"
     ]
    },
    {
     "name": "stdout",
     "output_type": "stream",
     "text": [
      "Epoch [147/150], Train Loss: 0.7872, Train Accuracy: 0.7143, Validation Loss: 0.7866, Validation Accuracy: 0.7138\n"
     ]
    },
    {
     "name": "stderr",
     "output_type": "stream",
     "text": [
      "Training Epoch 147: 100%|██████████| 122/122 [00:02<00:00, 57.80it/s]\n",
      "Validation Epoch 147: 100%|██████████| 122/122 [00:01<00:00, 102.05it/s]\n"
     ]
    },
    {
     "name": "stdout",
     "output_type": "stream",
     "text": [
      "Epoch [148/150], Train Loss: 0.7866, Train Accuracy: 0.7156, Validation Loss: 0.7865, Validation Accuracy: 0.7150\n"
     ]
    },
    {
     "name": "stderr",
     "output_type": "stream",
     "text": [
      "Training Epoch 148: 100%|██████████| 122/122 [00:02<00:00, 56.51it/s]\n",
      "Validation Epoch 148: 100%|██████████| 122/122 [00:01<00:00, 104.77it/s]\n"
     ]
    },
    {
     "name": "stdout",
     "output_type": "stream",
     "text": [
      "Epoch [149/150], Train Loss: 0.7866, Train Accuracy: 0.7160, Validation Loss: 0.7874, Validation Accuracy: 0.7176\n"
     ]
    },
    {
     "name": "stderr",
     "output_type": "stream",
     "text": [
      "Training Epoch 149: 100%|██████████| 122/122 [00:02<00:00, 58.60it/s]\n",
      "Validation Epoch 149: 100%|██████████| 122/122 [00:01<00:00, 87.34it/s]\n"
     ]
    },
    {
     "name": "stdout",
     "output_type": "stream",
     "text": [
      "Epoch [150/150], Train Loss: 0.7861, Train Accuracy: 0.7163, Validation Loss: 0.7851, Validation Accuracy: 0.7144\n"
     ]
    },
    {
     "data": {
      "image/png": "[encoded data removed]",
      "text/plain": [
       "<Figure size 1000x500 with 1 Axes>"
      ]
     },
     "metadata": {},
     "output_type": "display_data"
    },
    {
     "data": {
      "image/png": "[encoded data removed]",
      "text/plain": [
       "<Figure size 1000x500 with 1 Axes>"
      ]
     },
     "metadata": {},
     "output_type": "display_data"
    }
   ],
   "source": [
    "encoder = model.get_encoder()\n",
    "for param in encoder.parameters():\n",
    "    param.requires_grad = False\n",
    "classifier = EncoderClassifier(encoder,latent_dim=22,layers=[22,5],subset_size=18,overlap=6,activation=torch.nn.ELU)\n",
    "classifier = classifier.to(device)\n",
    "print(classifier)\n",
    "train_loss,val_loss,t_acc,v_acc=train_classifier(classifier,CustomLoss(100,no_of_class=5),torch.optim.Adam,150,Noise_Low_t10v_test_loader,Noise_Low_t10v_test_loader,subset_size = 18,overlap = 6)"
   ]
  },
  {
   "cell_type": "code",
   "execution_count": 28,
   "metadata": {},
   "outputs": [
    {
     "name": "stderr",
     "output_type": "stream",
     "text": [
      "Training Epoch 0: 100%|██████████| 200/200 [00:04<00:00, 47.07it/s]\n",
      "Validation Epoch 0: 100%|██████████| 98/98 [00:00<00:00, 113.55it/s]\n"
     ]
    },
    {
     "name": "stdout",
     "output_type": "stream",
     "text": [
      "Epoch [0/50], Train Loss: 0.07371553390746555, Validation Loss: 0.04260723713116768\n"
     ]
    },
    {
     "name": "stderr",
     "output_type": "stream",
     "text": [
      "Training Epoch 1: 100%|██████████| 200/200 [00:04<00:00, 45.92it/s]\n",
      "Validation Epoch 1: 100%|██████████| 98/98 [00:00<00:00, 104.71it/s]\n"
     ]
    },
    {
     "name": "stdout",
     "output_type": "stream",
     "text": [
      "Epoch [1/50], Train Loss: 0.04054646914114411, Validation Loss: 0.03937551667674994\n"
     ]
    },
    {
     "name": "stderr",
     "output_type": "stream",
     "text": [
      "Training Epoch 2: 100%|██████████| 200/200 [00:05<00:00, 39.02it/s]\n",
      "Validation Epoch 2: 100%|██████████| 98/98 [00:01<00:00, 74.17it/s]\n"
     ]
    },
    {
     "name": "stdout",
     "output_type": "stream",
     "text": [
      "Epoch [2/50], Train Loss: 0.03682137937553657, Validation Loss: 0.031037434429312363\n"
     ]
    },
    {
     "name": "stderr",
     "output_type": "stream",
     "text": [
      "Training Epoch 3: 100%|██████████| 200/200 [00:03<00:00, 51.34it/s]\n",
      "Validation Epoch 3: 100%|██████████| 98/98 [00:00<00:00, 136.17it/s]\n"
     ]
    },
    {
     "name": "stdout",
     "output_type": "stream",
     "text": [
      "Epoch [3/50], Train Loss: 0.03042834339691744, Validation Loss: 0.03000194484797808\n"
     ]
    },
    {
     "name": "stderr",
     "output_type": "stream",
     "text": [
      "Training Epoch 4: 100%|██████████| 200/200 [00:04<00:00, 41.86it/s]\n",
      "Validation Epoch 4: 100%|██████████| 98/98 [00:00<00:00, 109.32it/s]\n"
     ]
    },
    {
     "name": "stdout",
     "output_type": "stream",
     "text": [
      "Epoch [4/50], Train Loss: 0.029655468547179435, Validation Loss: 0.029411017780120556\n"
     ]
    },
    {
     "name": "stderr",
     "output_type": "stream",
     "text": [
      "Training Epoch 5: 100%|██████████| 200/200 [00:05<00:00, 33.47it/s]\n",
      "Validation Epoch 5: 100%|██████████| 98/98 [00:00<00:00, 125.27it/s]\n"
     ]
    },
    {
     "name": "stdout",
     "output_type": "stream",
     "text": [
      "Epoch [5/50], Train Loss: 0.029320638952552915, Validation Loss: 0.029235292913822028\n"
     ]
    },
    {
     "name": "stderr",
     "output_type": "stream",
     "text": [
      "Training Epoch 6: 100%|██████████| 200/200 [00:04<00:00, 40.45it/s]\n",
      "Validation Epoch 6: 100%|██████████| 98/98 [00:00<00:00, 108.43it/s]\n"
     ]
    },
    {
     "name": "stdout",
     "output_type": "stream",
     "text": [
      "Epoch [6/50], Train Loss: 0.02916721556819259, Validation Loss: 0.028993538805307487\n"
     ]
    },
    {
     "name": "stderr",
     "output_type": "stream",
     "text": [
      "Training Epoch 7: 100%|██████████| 200/200 [00:04<00:00, 47.28it/s]\n",
      "Validation Epoch 7: 100%|██████████| 98/98 [00:00<00:00, 128.89it/s]\n"
     ]
    },
    {
     "name": "stdout",
     "output_type": "stream",
     "text": [
      "Epoch [7/50], Train Loss: 0.028926811787711743, Validation Loss: 0.029081448224874643\n"
     ]
    },
    {
     "name": "stderr",
     "output_type": "stream",
     "text": [
      "Training Epoch 8: 100%|██████████| 200/200 [00:04<00:00, 49.57it/s]\n",
      "Validation Epoch 8: 100%|██████████| 98/98 [00:00<00:00, 106.86it/s]\n"
     ]
    },
    {
     "name": "stdout",
     "output_type": "stream",
     "text": [
      "Epoch [8/50], Train Loss: 0.028723004211758215, Validation Loss: 0.02875431555394943\n"
     ]
    },
    {
     "name": "stderr",
     "output_type": "stream",
     "text": [
      "Training Epoch 9: 100%|██████████| 200/200 [00:04<00:00, 43.11it/s]\n",
      "Validation Epoch 9: 100%|██████████| 98/98 [00:00<00:00, 124.91it/s]\n"
     ]
    },
    {
     "name": "stdout",
     "output_type": "stream",
     "text": [
      "Epoch [9/50], Train Loss: 0.028653476677927524, Validation Loss: 0.028733397494906034\n"
     ]
    },
    {
     "name": "stderr",
     "output_type": "stream",
     "text": [
      "Training Epoch 10: 100%|██████████| 200/200 [00:04<00:00, 47.19it/s]\n",
      "Validation Epoch 10: 100%|██████████| 98/98 [00:00<00:00, 123.66it/s]\n"
     ]
    },
    {
     "name": "stdout",
     "output_type": "stream",
     "text": [
      "Epoch [10/50], Train Loss: 0.02852812868681772, Validation Loss: 0.028523028345826346\n"
     ]
    },
    {
     "name": "stderr",
     "output_type": "stream",
     "text": [
      "Training Epoch 11: 100%|██████████| 200/200 [00:04<00:00, 46.81it/s]\n",
      "Validation Epoch 11: 100%|██████████| 98/98 [00:00<00:00, 128.23it/s]\n"
     ]
    },
    {
     "name": "stdout",
     "output_type": "stream",
     "text": [
      "Epoch [11/50], Train Loss: 0.028492600784654945, Validation Loss: 0.028349452752333422\n"
     ]
    },
    {
     "name": "stderr",
     "output_type": "stream",
     "text": [
      "Training Epoch 12: 100%|██████████| 200/200 [00:04<00:00, 42.99it/s]\n",
      "Validation Epoch 12: 100%|██████████| 98/98 [00:00<00:00, 102.73it/s]\n"
     ]
    },
    {
     "name": "stdout",
     "output_type": "stream",
     "text": [
      "Epoch [12/50], Train Loss: 0.028510497682966675, Validation Loss: 0.02848386868643455\n"
     ]
    },
    {
     "name": "stderr",
     "output_type": "stream",
     "text": [
      "Training Epoch 13: 100%|██████████| 200/200 [00:05<00:00, 38.43it/s]\n",
      "Validation Epoch 13: 100%|██████████| 98/98 [00:01<00:00, 96.43it/s] \n"
     ]
    },
    {
     "name": "stdout",
     "output_type": "stream",
     "text": [
      "Epoch [13/50], Train Loss: 0.02844496137568524, Validation Loss: 0.02837924906649651\n"
     ]
    },
    {
     "name": "stderr",
     "output_type": "stream",
     "text": [
      "Training Epoch 14: 100%|██████████| 200/200 [00:04<00:00, 41.04it/s]\n",
      "Validation Epoch 14: 100%|██████████| 98/98 [00:00<00:00, 151.15it/s]\n"
     ]
    },
    {
     "name": "stdout",
     "output_type": "stream",
     "text": [
      "Epoch [14/50], Train Loss: 0.028442418784834445, Validation Loss: 0.028737765101668162\n"
     ]
    },
    {
     "name": "stderr",
     "output_type": "stream",
     "text": [
      "Training Epoch 15: 100%|██████████| 200/200 [00:05<00:00, 38.09it/s]\n",
      "Validation Epoch 15: 100%|██████████| 98/98 [00:00<00:00, 135.44it/s]\n"
     ]
    },
    {
     "name": "stdout",
     "output_type": "stream",
     "text": [
      "Epoch [15/50], Train Loss: 0.028436794233036775, Validation Loss: 0.028596059586375188\n"
     ]
    },
    {
     "name": "stderr",
     "output_type": "stream",
     "text": [
      "Training Epoch 16: 100%|██████████| 200/200 [00:03<00:00, 50.50it/s]\n",
      "Validation Epoch 16: 100%|██████████| 98/98 [00:00<00:00, 118.92it/s]\n"
     ]
    },
    {
     "name": "stdout",
     "output_type": "stream",
     "text": [
      "Epoch [16/50], Train Loss: 0.0284479764198365, Validation Loss: 0.028435872552486568\n"
     ]
    },
    {
     "name": "stderr",
     "output_type": "stream",
     "text": [
      "Training Epoch 17: 100%|██████████| 200/200 [00:04<00:00, 49.83it/s]\n",
      "Validation Epoch 17: 100%|██████████| 98/98 [00:00<00:00, 135.38it/s]\n"
     ]
    },
    {
     "name": "stdout",
     "output_type": "stream",
     "text": [
      "Epoch [17/50], Train Loss: 0.02838241126730095, Validation Loss: 0.0282697032755002\n"
     ]
    },
    {
     "name": "stderr",
     "output_type": "stream",
     "text": [
      "Training Epoch 18: 100%|██████████| 200/200 [00:03<00:00, 52.65it/s]\n",
      "Validation Epoch 18: 100%|██████████| 98/98 [00:01<00:00, 58.07it/s] \n"
     ]
    },
    {
     "name": "stdout",
     "output_type": "stream",
     "text": [
      "Epoch [18/50], Train Loss: 0.028366749279368192, Validation Loss: 0.028351867418640698\n"
     ]
    },
    {
     "name": "stderr",
     "output_type": "stream",
     "text": [
      "Training Epoch 19: 100%|██████████| 200/200 [00:04<00:00, 46.20it/s]\n",
      "Validation Epoch 19: 100%|██████████| 98/98 [00:00<00:00, 112.21it/s]\n"
     ]
    },
    {
     "name": "stdout",
     "output_type": "stream",
     "text": [
      "Epoch [19/50], Train Loss: 0.028385984200539473, Validation Loss: 0.028249274824674313\n"
     ]
    },
    {
     "name": "stderr",
     "output_type": "stream",
     "text": [
      "Training Epoch 20: 100%|██████████| 200/200 [00:04<00:00, 47.24it/s]\n",
      "Validation Epoch 20: 100%|██████████| 98/98 [00:00<00:00, 131.01it/s]\n"
     ]
    },
    {
     "name": "stdout",
     "output_type": "stream",
     "text": [
      "Epoch [20/50], Train Loss: 0.028340740488671985, Validation Loss: 0.028365909623411987\n"
     ]
    },
    {
     "name": "stderr",
     "output_type": "stream",
     "text": [
      "Training Epoch 21: 100%|██████████| 200/200 [00:04<00:00, 46.58it/s]\n",
      "Validation Epoch 21: 100%|██████████| 98/98 [00:00<00:00, 126.32it/s]\n"
     ]
    },
    {
     "name": "stdout",
     "output_type": "stream",
     "text": [
      "Epoch [21/50], Train Loss: 0.028353248764641393, Validation Loss: 0.028305650387818997\n"
     ]
    },
    {
     "name": "stderr",
     "output_type": "stream",
     "text": [
      "Training Epoch 22: 100%|██████████| 200/200 [00:06<00:00, 32.05it/s]\n",
      "Validation Epoch 22: 100%|██████████| 98/98 [00:01<00:00, 82.62it/s] \n"
     ]
    },
    {
     "name": "stdout",
     "output_type": "stream",
     "text": [
      "Epoch [22/50], Train Loss: 0.028405148407984644, Validation Loss: 0.02834455390007068\n"
     ]
    },
    {
     "name": "stderr",
     "output_type": "stream",
     "text": [
      "Training Epoch 23: 100%|██████████| 200/200 [00:04<00:00, 43.19it/s]\n",
      "Validation Epoch 23: 100%|██████████| 98/98 [00:00<00:00, 106.88it/s]\n"
     ]
    },
    {
     "name": "stdout",
     "output_type": "stream",
     "text": [
      "Epoch [23/50], Train Loss: 0.028360956304076795, Validation Loss: 0.028376124159265787\n"
     ]
    },
    {
     "name": "stderr",
     "output_type": "stream",
     "text": [
      "Training Epoch 24: 100%|██████████| 200/200 [00:06<00:00, 31.51it/s]\n",
      "Validation Epoch 24: 100%|██████████| 98/98 [00:00<00:00, 103.90it/s]\n"
     ]
    },
    {
     "name": "stdout",
     "output_type": "stream",
     "text": [
      "Epoch [24/50], Train Loss: 0.02833841750711704, Validation Loss: 0.028658861714677932\n"
     ]
    },
    {
     "name": "stderr",
     "output_type": "stream",
     "text": [
      "Training Epoch 25: 100%|██████████| 200/200 [00:05<00:00, 35.57it/s]\n",
      "Validation Epoch 25: 100%|██████████| 98/98 [00:01<00:00, 69.93it/s]\n"
     ]
    },
    {
     "name": "stdout",
     "output_type": "stream",
     "text": [
      "Epoch [25/50], Train Loss: 0.028325801407798935, Validation Loss: 0.028403221796720456\n"
     ]
    },
    {
     "name": "stderr",
     "output_type": "stream",
     "text": [
      "Training Epoch 26: 100%|██████████| 200/200 [00:07<00:00, 28.18it/s]\n",
      "Validation Epoch 26: 100%|██████████| 98/98 [00:01<00:00, 59.94it/s]\n"
     ]
    },
    {
     "name": "stdout",
     "output_type": "stream",
     "text": [
      "Epoch [26/50], Train Loss: 0.028322896317172892, Validation Loss: 0.028326414095667694\n"
     ]
    },
    {
     "name": "stderr",
     "output_type": "stream",
     "text": [
      "Training Epoch 27: 100%|██████████| 200/200 [00:04<00:00, 41.43it/s]\n",
      "Validation Epoch 27: 100%|██████████| 98/98 [00:00<00:00, 116.87it/s]\n"
     ]
    },
    {
     "name": "stdout",
     "output_type": "stream",
     "text": [
      "Epoch [27/50], Train Loss: 0.02836564883928543, Validation Loss: 0.028208098235802774\n"
     ]
    },
    {
     "name": "stderr",
     "output_type": "stream",
     "text": [
      "Training Epoch 28: 100%|██████████| 200/200 [00:03<00:00, 51.27it/s]\n",
      "Validation Epoch 28: 100%|██████████| 98/98 [00:00<00:00, 120.69it/s]\n"
     ]
    },
    {
     "name": "stdout",
     "output_type": "stream",
     "text": [
      "Epoch [28/50], Train Loss: 0.028293899561947163, Validation Loss: 0.028208230684200922\n"
     ]
    },
    {
     "name": "stderr",
     "output_type": "stream",
     "text": [
      "Training Epoch 29: 100%|██████████| 200/200 [00:04<00:00, 49.90it/s]\n",
      "Validation Epoch 29: 100%|██████████| 98/98 [00:00<00:00, 114.89it/s]\n"
     ]
    },
    {
     "name": "stdout",
     "output_type": "stream",
     "text": [
      "Epoch [29/50], Train Loss: 0.02827752031197843, Validation Loss: 0.028303558169267117\n"
     ]
    },
    {
     "name": "stderr",
     "output_type": "stream",
     "text": [
      "Training Epoch 30: 100%|██████████| 200/200 [00:04<00:00, 49.66it/s]\n",
      "Validation Epoch 30: 100%|██████████| 98/98 [00:00<00:00, 119.16it/s]\n"
     ]
    },
    {
     "name": "stdout",
     "output_type": "stream",
     "text": [
      "Epoch [30/50], Train Loss: 0.028299998282678783, Validation Loss: 0.028329005751472253\n"
     ]
    },
    {
     "name": "stderr",
     "output_type": "stream",
     "text": [
      "Training Epoch 31: 100%|██████████| 200/200 [00:04<00:00, 49.19it/s]\n",
      "Validation Epoch 31: 100%|██████████| 98/98 [00:00<00:00, 129.25it/s]\n"
     ]
    },
    {
     "name": "stdout",
     "output_type": "stream",
     "text": [
      "Epoch [31/50], Train Loss: 0.02827971594897696, Validation Loss: 0.028225853523382773\n"
     ]
    },
    {
     "name": "stderr",
     "output_type": "stream",
     "text": [
      "Training Epoch 32: 100%|██████████| 200/200 [00:03<00:00, 52.51it/s]\n",
      "Validation Epoch 32: 100%|██████████| 98/98 [00:00<00:00, 104.84it/s]\n"
     ]
    },
    {
     "name": "stdout",
     "output_type": "stream",
     "text": [
      "Epoch [32/50], Train Loss: 0.028317532898001492, Validation Loss: 0.02824417859888994\n"
     ]
    },
    {
     "name": "stderr",
     "output_type": "stream",
     "text": [
      "Training Epoch 33: 100%|██████████| 200/200 [00:04<00:00, 43.80it/s]\n",
      "Validation Epoch 33: 100%|██████████| 98/98 [00:01<00:00, 92.75it/s] \n"
     ]
    },
    {
     "name": "stdout",
     "output_type": "stream",
     "text": [
      "Epoch [33/50], Train Loss: 0.02830847663743696, Validation Loss: 0.02835475938060345\n"
     ]
    },
    {
     "name": "stderr",
     "output_type": "stream",
     "text": [
      "Training Epoch 34: 100%|██████████| 200/200 [00:05<00:00, 33.68it/s]\n",
      "Validation Epoch 34: 100%|██████████| 98/98 [00:00<00:00, 133.81it/s]\n"
     ]
    },
    {
     "name": "stdout",
     "output_type": "stream",
     "text": [
      "Epoch [34/50], Train Loss: 0.02827280842981194, Validation Loss: 0.028368953749155386\n"
     ]
    },
    {
     "name": "stderr",
     "output_type": "stream",
     "text": [
      "Training Epoch 35: 100%|██████████| 200/200 [00:04<00:00, 48.41it/s]\n",
      "Validation Epoch 35: 100%|██████████| 98/98 [00:01<00:00, 96.06it/s] \n"
     ]
    },
    {
     "name": "stdout",
     "output_type": "stream",
     "text": [
      "Epoch [35/50], Train Loss: 0.028246010000704046, Validation Loss: 0.028201364229122797\n"
     ]
    },
    {
     "name": "stderr",
     "output_type": "stream",
     "text": [
      "Training Epoch 36: 100%|██████████| 200/200 [00:03<00:00, 52.53it/s]\n",
      "Validation Epoch 36: 100%|██████████| 98/98 [00:00<00:00, 121.73it/s]\n"
     ]
    },
    {
     "name": "stdout",
     "output_type": "stream",
     "text": [
      "Epoch [36/50], Train Loss: 0.028291532937705945, Validation Loss: 0.02829953861924318\n"
     ]
    },
    {
     "name": "stderr",
     "output_type": "stream",
     "text": [
      "Training Epoch 37: 100%|██████████| 200/200 [00:04<00:00, 44.49it/s]\n",
      "Validation Epoch 37: 100%|██████████| 98/98 [00:00<00:00, 145.20it/s]\n"
     ]
    },
    {
     "name": "stdout",
     "output_type": "stream",
     "text": [
      "Epoch [37/50], Train Loss: 0.028224910713899404, Validation Loss: 0.028218222552767167\n"
     ]
    },
    {
     "name": "stderr",
     "output_type": "stream",
     "text": [
      "Training Epoch 38: 100%|██████████| 200/200 [00:05<00:00, 36.08it/s]\n",
      "Validation Epoch 38: 100%|██████████| 98/98 [00:01<00:00, 91.68it/s] \n"
     ]
    },
    {
     "name": "stdout",
     "output_type": "stream",
     "text": [
      "Epoch [38/50], Train Loss: 0.028318582981741294, Validation Loss: 0.028482334497265328\n"
     ]
    },
    {
     "name": "stderr",
     "output_type": "stream",
     "text": [
      "Training Epoch 39: 100%|██████████| 200/200 [00:04<00:00, 47.48it/s]\n",
      "Validation Epoch 39: 100%|██████████| 98/98 [00:00<00:00, 125.48it/s]\n"
     ]
    },
    {
     "name": "stdout",
     "output_type": "stream",
     "text": [
      "Epoch [39/50], Train Loss: 0.028264668977592524, Validation Loss: 0.028175939867893855\n"
     ]
    },
    {
     "name": "stderr",
     "output_type": "stream",
     "text": [
      "Training Epoch 40: 100%|██████████| 200/200 [00:04<00:00, 48.86it/s]\n",
      "Validation Epoch 40: 100%|██████████| 98/98 [00:00<00:00, 122.30it/s]\n"
     ]
    },
    {
     "name": "stdout",
     "output_type": "stream",
     "text": [
      "Epoch [40/50], Train Loss: 0.02818573433764052, Validation Loss: 0.028292387781234888\n"
     ]
    },
    {
     "name": "stderr",
     "output_type": "stream",
     "text": [
      "Training Epoch 41: 100%|██████████| 200/200 [00:04<00:00, 49.53it/s]\n",
      "Validation Epoch 41: 100%|██████████| 98/98 [00:00<00:00, 113.64it/s]\n"
     ]
    },
    {
     "name": "stdout",
     "output_type": "stream",
     "text": [
      "Epoch [41/50], Train Loss: 0.028174567589676604, Validation Loss: 0.02820489795353168\n"
     ]
    },
    {
     "name": "stderr",
     "output_type": "stream",
     "text": [
      "Training Epoch 42: 100%|██████████| 200/200 [00:03<00:00, 53.59it/s]\n",
      "Validation Epoch 42: 100%|██████████| 98/98 [00:00<00:00, 117.16it/s]\n"
     ]
    },
    {
     "name": "stdout",
     "output_type": "stream",
     "text": [
      "Epoch [42/50], Train Loss: 0.028156976928212084, Validation Loss: 0.028288629937630434\n"
     ]
    },
    {
     "name": "stderr",
     "output_type": "stream",
     "text": [
      "Training Epoch 43: 100%|██████████| 200/200 [00:03<00:00, 53.51it/s]\n",
      "Validation Epoch 43: 100%|██████████| 98/98 [00:00<00:00, 123.47it/s]\n"
     ]
    },
    {
     "name": "stdout",
     "output_type": "stream",
     "text": [
      "Epoch [43/50], Train Loss: 0.02813571370475424, Validation Loss: 0.028113113830869015\n"
     ]
    },
    {
     "name": "stderr",
     "output_type": "stream",
     "text": [
      "Training Epoch 44: 100%|██████████| 200/200 [00:03<00:00, 52.28it/s]\n",
      "Validation Epoch 44: 100%|██████████| 98/98 [00:00<00:00, 121.13it/s]\n"
     ]
    },
    {
     "name": "stdout",
     "output_type": "stream",
     "text": [
      "Epoch [44/50], Train Loss: 0.02811083031366042, Validation Loss: 0.02820579202320331\n"
     ]
    },
    {
     "name": "stderr",
     "output_type": "stream",
     "text": [
      "Training Epoch 45: 100%|██████████| 200/200 [00:04<00:00, 49.85it/s]\n",
      "Validation Epoch 45: 100%|██████████| 98/98 [00:00<00:00, 123.94it/s]\n"
     ]
    },
    {
     "name": "stdout",
     "output_type": "stream",
     "text": [
      "Epoch [45/50], Train Loss: 0.028088489504089244, Validation Loss: 0.0278951597901491\n"
     ]
    },
    {
     "name": "stderr",
     "output_type": "stream",
     "text": [
      "Training Epoch 46: 100%|██████████| 200/200 [00:03<00:00, 51.40it/s]\n",
      "Validation Epoch 46: 100%|██████████| 98/98 [00:00<00:00, 119.32it/s]\n"
     ]
    },
    {
     "name": "stdout",
     "output_type": "stream",
     "text": [
      "Epoch [46/50], Train Loss: 0.028131048567070722, Validation Loss: 0.028046463601864302\n"
     ]
    },
    {
     "name": "stderr",
     "output_type": "stream",
     "text": [
      "Training Epoch 47: 100%|██████████| 200/200 [00:04<00:00, 46.62it/s]\n",
      "Validation Epoch 47: 100%|██████████| 98/98 [00:00<00:00, 131.44it/s]\n"
     ]
    },
    {
     "name": "stdout",
     "output_type": "stream",
     "text": [
      "Epoch [47/50], Train Loss: 0.028072501718550205, Validation Loss: 0.02820269702336727\n"
     ]
    },
    {
     "name": "stderr",
     "output_type": "stream",
     "text": [
      "Training Epoch 48: 100%|██████████| 200/200 [00:05<00:00, 36.00it/s]\n",
      "Validation Epoch 48: 100%|██████████| 98/98 [00:00<00:00, 99.85it/s] \n"
     ]
    },
    {
     "name": "stdout",
     "output_type": "stream",
     "text": [
      "Epoch [48/50], Train Loss: 0.028051931702439338, Validation Loss: 0.028015528093927947\n"
     ]
    },
    {
     "name": "stderr",
     "output_type": "stream",
     "text": [
      "Training Epoch 49: 100%|██████████| 200/200 [00:05<00:00, 33.72it/s]\n",
      "Validation Epoch 49: 100%|██████████| 98/98 [00:00<00:00, 107.49it/s]\n"
     ]
    },
    {
     "name": "stdout",
     "output_type": "stream",
     "text": [
      "Epoch [49/50], Train Loss: 0.028033138415850818, Validation Loss: 0.028115711838771134\n"
     ]
    },
    {
     "data": {
      "image/png": "[encoded data removed]",
      "text/plain": [
       "<Figure size 1000x500 with 1 Axes>"
      ]
     },
     "metadata": {},
     "output_type": "display_data"
    },
    {
     "data": {
      "text/plain": [
       "([0.07371553390746555,\n",
       "  0.04054646914114411,\n",
       "  0.03682137937553657,\n",
       "  0.03042834339691744,\n",
       "  0.029655468547179435,\n",
       "  0.029320638952552915,\n",
       "  0.02916721556819259,\n",
       "  0.028926811787711743,\n",
       "  0.028723004211758215,\n",
       "  0.028653476677927524,\n",
       "  0.02852812868681772,\n",
       "  0.028492600784654945,\n",
       "  0.028510497682966675,\n",
       "  0.02844496137568524,\n",
       "  0.028442418784834445,\n",
       "  0.028436794233036775,\n",
       "  0.0284479764198365,\n",
       "  0.02838241126730095,\n",
       "  0.028366749279368192,\n",
       "  0.028385984200539473,\n",
       "  0.028340740488671985,\n",
       "  0.028353248764641393,\n",
       "  0.028405148407984644,\n",
       "  0.028360956304076795,\n",
       "  0.02833841750711704,\n",
       "  0.028325801407798935,\n",
       "  0.028322896317172892,\n",
       "  0.02836564883928543,\n",
       "  0.028293899561947163,\n",
       "  0.02827752031197843,\n",
       "  0.028299998282678783,\n",
       "  0.02827971594897696,\n",
       "  0.028317532898001492,\n",
       "  0.02830847663743696,\n",
       "  0.02827280842981194,\n",
       "  0.028246010000704046,\n",
       "  0.028291532937705945,\n",
       "  0.028224910713899404,\n",
       "  0.028318582981741294,\n",
       "  0.028264668977592524,\n",
       "  0.02818573433764052,\n",
       "  0.028174567589676604,\n",
       "  0.028156976928212084,\n",
       "  0.02813571370475424,\n",
       "  0.02811083031366042,\n",
       "  0.028088489504089244,\n",
       "  0.028131048567070722,\n",
       "  0.028072501718550205,\n",
       "  0.028051931702439338,\n",
       "  0.028033138415850818],\n",
       " [0.04260723713116768,\n",
       "  0.03937551667674994,\n",
       "  0.031037434429312363,\n",
       "  0.03000194484797808,\n",
       "  0.029411017780120556,\n",
       "  0.029235292913822028,\n",
       "  0.028993538805307487,\n",
       "  0.029081448224874643,\n",
       "  0.02875431555394943,\n",
       "  0.028733397494906034,\n",
       "  0.028523028345826346,\n",
       "  0.028349452752333422,\n",
       "  0.02848386868643455,\n",
       "  0.02837924906649651,\n",
       "  0.028737765101668162,\n",
       "  0.028596059586375188,\n",
       "  0.028435872552486568,\n",
       "  0.0282697032755002,\n",
       "  0.028351867418640698,\n",
       "  0.028249274824674313,\n",
       "  0.028365909623411987,\n",
       "  0.028305650387818997,\n",
       "  0.02834455390007068,\n",
       "  0.028376124159265787,\n",
       "  0.028658861714677932,\n",
       "  0.028403221796720456,\n",
       "  0.028326414095667694,\n",
       "  0.028208098235802774,\n",
       "  0.028208230684200922,\n",
       "  0.028303558169267117,\n",
       "  0.028329005751472253,\n",
       "  0.028225853523382773,\n",
       "  0.02824417859888994,\n",
       "  0.02835475938060345,\n",
       "  0.028368953749155386,\n",
       "  0.028201364229122797,\n",
       "  0.02829953861924318,\n",
       "  0.028218222552767167,\n",
       "  0.028482334497265328,\n",
       "  0.028175939867893855,\n",
       "  0.028292387781234888,\n",
       "  0.02820489795353168,\n",
       "  0.028288629937630434,\n",
       "  0.028113113830869015,\n",
       "  0.02820579202320331,\n",
       "  0.0278951597901491,\n",
       "  0.028046463601864302,\n",
       "  0.02820269702336727,\n",
       "  0.028015528093927947,\n",
       "  0.028115711838771134])"
      ]
     },
     "execution_count": 28,
     "metadata": {},
     "output_type": "execute_result"
    }
   ],
   "source": [
    "model = SubsetAutoencoder(encoder_sizes=[18,32,22],decoder_sizes=[22,32,24])\n",
    "model.to(device)\n",
    "optimizer = torch.optim.Adam\n",
    "criterion = torch.nn.MSELoss()\n",
    "train_ae(model,criterion,optimizer,50,Noise_High_t10v_train_loader,Noise_High_t10v_test_loader,subset_size = 18,overlap = 6,lr=0.01)"
   ]
  },
  {
   "cell_type": "code",
   "execution_count": 29,
   "metadata": {},
   "outputs": [
    {
     "name": "stderr",
     "output_type": "stream",
     "text": [
      "Validation Epoch 139: 100%|██████████| 98/98 [00:00<00:00, 111.28it/s]\n"
     ]
    },
    {
     "name": "stdout",
     "output_type": "stream",
     "text": [
      "Epoch [140/150], Train Loss: 1.1799, Train Accuracy: 0.5182, Validation Loss: 1.1816, Validation Accuracy: 0.5170\n"
     ]
    },
    {
     "name": "stderr",
     "output_type": "stream",
     "text": [
      "Training Epoch 140: 100%|██████████| 98/98 [00:02<00:00, 46.42it/s]\n",
      "Validation Epoch 140: 100%|██████████| 98/98 [00:01<00:00, 91.85it/s] \n"
     ]
    },
    {
     "name": "stdout",
     "output_type": "stream",
     "text": [
      "Epoch [141/150], Train Loss: 1.1803, Train Accuracy: 0.5187, Validation Loss: 1.1799, Validation Accuracy: 0.5154\n"
     ]
    },
    {
     "name": "stderr",
     "output_type": "stream",
     "text": [
      "Training Epoch 141: 100%|██████████| 98/98 [00:01<00:00, 53.83it/s]\n",
      "Validation Epoch 141: 100%|██████████| 98/98 [00:01<00:00, 72.47it/s]\n"
     ]
    },
    {
     "name": "stdout",
     "output_type": "stream",
     "text": [
      "Epoch [142/150], Train Loss: 1.1803, Train Accuracy: 0.5189, Validation Loss: 1.1792, Validation Accuracy: 0.5188\n"
     ]
    },
    {
     "name": "stderr",
     "output_type": "stream",
     "text": [
      "Training Epoch 142: 100%|██████████| 98/98 [00:02<00:00, 47.46it/s]\n",
      "Validation Epoch 142: 100%|██████████| 98/98 [00:01<00:00, 68.00it/s]\n"
     ]
    },
    {
     "name": "stdout",
     "output_type": "stream",
     "text": [
      "Epoch [143/150], Train Loss: 1.1796, Train Accuracy: 0.5191, Validation Loss: 1.1796, Validation Accuracy: 0.5188\n"
     ]
    },
    {
     "name": "stderr",
     "output_type": "stream",
     "text": [
      "Training Epoch 143: 100%|██████████| 98/98 [00:01<00:00, 52.63it/s]\n",
      "Validation Epoch 143: 100%|██████████| 98/98 [00:01<00:00, 97.80it/s] \n"
     ]
    },
    {
     "name": "stdout",
     "output_type": "stream",
     "text": [
      "Epoch [144/150], Train Loss: 1.1797, Train Accuracy: 0.5198, Validation Loss: 1.1795, Validation Accuracy: 0.5180\n"
     ]
    },
    {
     "name": "stderr",
     "output_type": "stream",
     "text": [
      "Training Epoch 144: 100%|██████████| 98/98 [00:02<00:00, 45.83it/s]\n",
      "Validation Epoch 144: 100%|██████████| 98/98 [00:01<00:00, 75.32it/s]\n"
     ]
    },
    {
     "name": "stdout",
     "output_type": "stream",
     "text": [
      "Epoch [145/150], Train Loss: 1.1793, Train Accuracy: 0.5198, Validation Loss: 1.1789, Validation Accuracy: 0.5196\n"
     ]
    },
    {
     "name": "stderr",
     "output_type": "stream",
     "text": [
      "Training Epoch 145: 100%|██████████| 98/98 [00:02<00:00, 47.08it/s]\n",
      "Validation Epoch 145: 100%|██████████| 98/98 [00:01<00:00, 88.11it/s]\n"
     ]
    },
    {
     "name": "stdout",
     "output_type": "stream",
     "text": [
      "Epoch [146/150], Train Loss: 1.1797, Train Accuracy: 0.5186, Validation Loss: 1.1794, Validation Accuracy: 0.5186\n"
     ]
    },
    {
     "name": "stderr",
     "output_type": "stream",
     "text": [
      "Training Epoch 146: 100%|██████████| 98/98 [00:01<00:00, 50.01it/s]\n",
      "Validation Epoch 146: 100%|██████████| 98/98 [00:01<00:00, 65.00it/s]\n"
     ]
    },
    {
     "name": "stdout",
     "output_type": "stream",
     "text": [
      "Epoch [147/150], Train Loss: 1.1800, Train Accuracy: 0.5191, Validation Loss: 1.1797, Validation Accuracy: 0.5195\n"
     ]
    },
    {
     "name": "stderr",
     "output_type": "stream",
     "text": [
      "Training Epoch 147: 100%|██████████| 98/98 [00:01<00:00, 52.77it/s]\n",
      "Validation Epoch 147: 100%|██████████| 98/98 [00:00<00:00, 104.71it/s]\n"
     ]
    },
    {
     "name": "stdout",
     "output_type": "stream",
     "text": [
      "Epoch [148/150], Train Loss: 1.1803, Train Accuracy: 0.5189, Validation Loss: 1.1808, Validation Accuracy: 0.5189\n"
     ]
    },
    {
     "name": "stderr",
     "output_type": "stream",
     "text": [
      "Training Epoch 148: 100%|██████████| 98/98 [00:02<00:00, 45.11it/s]\n",
      "Validation Epoch 148: 100%|██████████| 98/98 [00:01<00:00, 82.23it/s] \n"
     ]
    },
    {
     "name": "stdout",
     "output_type": "stream",
     "text": [
      "Epoch [149/150], Train Loss: 1.1800, Train Accuracy: 0.5182, Validation Loss: 1.1791, Validation Accuracy: 0.5199\n"
     ]
    },
    {
     "name": "stderr",
     "output_type": "stream",
     "text": [
      "Training Epoch 149: 100%|██████████| 98/98 [00:02<00:00, 45.33it/s]\n",
      "Validation Epoch 149: 100%|██████████| 98/98 [00:01<00:00, 86.46it/s]\n"
     ]
    },
    {
     "name": "stdout",
     "output_type": "stream",
     "text": [
      "Epoch [150/150], Train Loss: 1.1801, Train Accuracy: 0.5189, Validation Loss: 1.1801, Validation Accuracy: 0.5179\n"
     ]
    },
    {
     "data": {
      "image/png": "[encoded data removed]",
      "text/plain": [
       "<Figure size 1000x500 with 1 Axes>"
      ]
     },
     "metadata": {},
     "output_type": "display_data"
    },
    {
     "data": {
      "image/png": "[encoded data removed]",
      "text/plain": [
       "<Figure size 1000x500 with 1 Axes>"
      ]
     },
     "metadata": {},
     "output_type": "display_data"
    }
   ],
   "source": [
    "encoder = model.get_encoder()\n",
    "for param in encoder.parameters():\n",
    "    param.requires_grad = False\n",
    "classifier = EncoderClassifier(encoder,latent_dim=22,layers=[22,5],subset_size=18,overlap=6,activation=torch.nn.ELU)\n",
    "classifier = classifier.to(device)\n",
    "print(classifier)\n",
    "train_loss,val_loss,t_acc,v_acc=train_classifier(classifier,CustomLoss(100,no_of_class=5),torch.optim.Adam,150,Noise_High_t10v_test_loader,Noise_High_t10v_test_loader,subset_size = 18,overlap = 6)"
   ]
  },
  {
   "cell_type": "code",
   "execution_count": 21,
   "metadata": {},
   "outputs": [
    {
     "data": {
      "image/png": "[encoded data removed]",
      "text/plain": [
       "<Figure size 640x480 with 1 Axes>"
      ]
     },
     "metadata": {},
     "output_type": "display_data"
    }
   ],
   "source": [
    "# Choose Class\n",
    "cls=0\n",
    "import numpy as np\n",
    "import matplotlib.pyplot as plt\n",
    "from sklearn.calibration import calibration_curve\n",
    "import torch\n",
    "\n",
    "def binarize(target, c):\n",
    "    return np.array([1 if t == c else 0 for t in target])\n",
    "\n",
    "Model=classifier\n",
    "Model.eval()  # Set model to evaluation mode\n",
    "y_true = []\n",
    "y_probabilities = []\n",
    "\n",
    "# Iterate over test_loader to get predictions and true labels\n",
    "for inputs, labels in Noise_test_loader:\n",
    "    inputs, labels = inputs.to(device).to(torch.float32), labels.to(device).to(torch.long)\n",
    "\n",
    "    # Forward pass\n",
    "    outputs = Model(inputs)\n",
    "    probabilities = outputs[0]\n",
    "    \n",
    "    y_true.extend(labels.cpu().numpy())  # Collect true labels\n",
    "    y_probabilities.extend(probabilities[:, 0].detach().cpu().numpy())  # Collect probabilities for class 0\n",
    "\n",
    "y_true_binarized = binarize(y_true, 0)\n",
    "# Calculate calibration curve\n",
    "prob_true, prob_pred = calibration_curve(y_true_binarized, y_probabilities, n_bins=10)\n",
    "\n",
    "# Plot calibration curve\n",
    "plt.plot(prob_pred, prob_true, marker='o', label=\"Class\")\n",
    "plt.plot([0, 1], [0, 1], linestyle='--', label=\"Perfectly Calibrated\")\n",
    "plt.xlabel(\"Mean Predicted Probability\")\n",
    "plt.ylabel(\"Fraction of Positives\")\n",
    "plt.title(\"Calibration Curve\")\n",
    "plt.legend()\n",
    "plt.show()"
   ]
  }
 ],
 "metadata": {
  "kernelspec": {
   "display_name": "amlenv",
   "language": "python",
   "name": "python3"
  },
  "language_info": {
   "codemirror_mode": {
    "name": "ipython",
    "version": 3
   },
   "file_extension": ".py",
   "mimetype": "text/x-python",
   "name": "python",
   "nbconvert_exporter": "python",
   "pygments_lexer": "ipython3",
   "version": "3.10.11"
  }
 },
 "nbformat": 4,
 "nbformat_minor": 2
}
