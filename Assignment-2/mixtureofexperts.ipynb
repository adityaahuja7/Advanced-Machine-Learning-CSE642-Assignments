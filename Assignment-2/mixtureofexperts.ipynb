{
 "cells": [
  {
   "cell_type": "code",
   "execution_count": 1,
   "metadata": {},
   "outputs": [],
   "source": [
    "import pandas as pd\n",
    "df=pd.read_csv(\"Data/cf_train.csv\")"
   ]
  },
  {
   "cell_type": "code",
   "execution_count": 3,
   "metadata": {},
   "outputs": [
    {
     "data": {
      "text/plain": [
       "Index(['Open_n_val', 'High_n_val', 'Low_n_val', 'Close_n_val', 'Volume_n_val',\n",
       "       'SMA_10_val', 'SMA_20_val', 'CMO_14_val', 'High_n-Low_n_val',\n",
       "       'Open_n-Close_n_val', 'SMA_20-SMA_10_val', 'Close_n_slope_3_val',\n",
       "       'Close_n_slope_5_val', 'Close_n_slope_10_val', 'Open_n_changelen_val',\n",
       "       'High_n_changelen_val', 'Low_n_changelen_val', 'Close_n_changelen_val',\n",
       "       'High_n-Low_n_changelen_val', 'Open_n-Close_n_changelen_val',\n",
       "       'SMA_20-SMA_10_changelen_val', 'Close_n_slope_3_changelen_val',\n",
       "       'Close_n_slope_5_changelen_val', 'Close_n_slope_10_changelen_val',\n",
       "       'row_num', 'day', 'era', 'target_10_val', 'target_5_val', 'sigma',\n",
       "       'day_no'],\n",
       "      dtype='object')"
      ]
     },
     "execution_count": 3,
     "metadata": {},
     "output_type": "execute_result"
    }
   ],
   "source": [
    "def MyOwnLoader():\n",
    "    def __init__(self,dataframe,batch_size):\n",
    "        self.df=dataframe\n",
    "        self.batch_size=batch_size\n",
    "        self.columns_to_drop=['row_num','day','era','target_10_val','target_5_val','sigma','day_no']\n",
    "        self.X = self.df.drop(self.columns_to_drop, axis=1)\n",
    "        self.y=self.df.iloc['target_10_val']\n",
    "\n",
    "    def generate_batches_with_labels(self,idx,no_of_batches):\n",
    "        data=self.X.iloc[:idx-10]\n",
    "        labels=self.y.iloc[:idx-10]\n",
    "        "
   ]
  },
  {
   "cell_type": "code",
   "execution_count": 7,
   "metadata": {},
   "outputs": [
    {
     "data": {
      "text/plain": [
       "65"
      ]
     },
     "execution_count": 7,
     "metadata": {},
     "output_type": "execute_result"
    }
   ],
   "source": [
    "len(df[df.day_no==0])"
   ]
  }
 ],
 "metadata": {
  "kernelspec": {
   "display_name": "Python 3",
   "language": "python",
   "name": "python3"
  },
  "language_info": {
   "codemirror_mode": {
    "name": "ipython",
    "version": 3
   },
   "file_extension": ".py",
   "mimetype": "text/x-python",
   "name": "python",
   "nbconvert_exporter": "python",
   "pygments_lexer": "ipython3",
   "version": "3.10.11"
  }
 },
 "nbformat": 4,
 "nbformat_minor": 2
}
