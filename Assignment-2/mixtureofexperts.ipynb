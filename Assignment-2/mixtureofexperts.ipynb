{
 "cells": [
  {
   "cell_type": "markdown",
   "metadata": {},
   "source": [
    "# Imports"
   ]
  },
  {
   "cell_type": "code",
   "execution_count": 2,
   "metadata": {},
   "outputs": [],
   "source": [
    "import torch"
   ]
  },
  {
   "cell_type": "code",
   "execution_count": 31,
   "metadata": {},
   "outputs": [],
   "source": [
    "training_device = torch.device(\"cuda\" if torch.cuda.is_available() else \"cpu\")"
   ]
  },
  {
   "cell_type": "code",
   "execution_count": 1,
   "metadata": {},
   "outputs": [],
   "source": [
    "import pandas as pd\n",
    "df=pd.read_csv(\"Data/cf_train.csv\")"
   ]
  },
  {
   "cell_type": "markdown",
   "metadata": {},
   "source": [
    "# Custom Dataloader"
   ]
  },
  {
   "cell_type": "code",
   "execution_count": 32,
   "metadata": {},
   "outputs": [],
   "source": [
    "class CustomDataset:\n",
    "    def __init__(self,dataframe,batch_size,device =training_device,shuffle=False):\n",
    "        self.df=dataframe\n",
    "        self.batch_size=batch_size\n",
    "        self.columns_to_drop=['row_num','day','era','target_10_val','target_5_val','sigma','day_no']\n",
    "        self.X = self.df.drop(self.columns_to_drop, axis=1)\n",
    "        self.y=self.df['target_10_val']\n",
    "        self.device=device\n",
    "        self.shuffle=shuffle\n",
    "\n",
    "    def generate_batches_with_labels(self,idx):\n",
    "        data=self.X.iloc[:max(0,idx-10)]\n",
    "        labels=self.y.iloc[:max(0,idx-10)]\n",
    "        dataset =  torch.utils.data.TensorDataset(torch.tensor(data.values),torch.tensor(labels.values))\n",
    "        dataloader = torch.utils.data.DataLoader(dataset, batch_size=self.batch_size, shuffle=self.shuffle)\n",
    "        data_unseen = self.X.iloc[max(0,idx-9):idx+1]\n",
    "        labels_unseen=self.y.iloc[max(0,idx-9):idx+1]\n",
    "        data_unseen,labels_unseen = torch.tensor(data_unseen.values).to(self.device),torch.tensor(labels_unseen.values).to(self.device)\n",
    "        return dataloader, (data_unseen,labels_unseen)\n",
    "    \n",
    "        \n",
    "        "
   ]
  },
  {
   "cell_type": "code",
   "execution_count": 35,
   "metadata": {},
   "outputs": [],
   "source": [
    "customDS = CustomDataset(df,64,shuffle = False)\n",
    "supervised_dl, unsupervised_data = customDS.generate_batches_with_labels(77)"
   ]
  }
 ],
 "metadata": {
  "kernelspec": {
   "display_name": "Python 3",
   "language": "python",
   "name": "python3"
  },
  "language_info": {
   "codemirror_mode": {
    "name": "ipython",
    "version": 3
   },
   "file_extension": ".py",
   "mimetype": "text/x-python",
   "name": "python",
   "nbconvert_exporter": "python",
   "pygments_lexer": "ipython3",
   "version": "3.12.2"
  }
 },
 "nbformat": 4,
 "nbformat_minor": 2
}
