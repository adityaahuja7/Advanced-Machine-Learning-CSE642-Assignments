{
 "cells": [
  {
   "cell_type": "code",
   "execution_count": 9,
   "metadata": {},
   "outputs": [],
   "source": [
    "import torch\n",
    "import requests\n",
    "import os\n",
    "import pandas as pd\n",
    "import numpy as np\n",
    "from torch.utils.data import DataLoader\n",
    "from torch.utils.data import Dataset\n",
    "from torch.utils.data import random_split\n",
    "import matplotlib.pyplot as plt\n",
    "from tqdm import tqdm\n",
    "device = torch.device(\n",
    "    \"cuda\"\n",
    "    if torch.cuda.is_available()\n",
    "    else \"mps\"\n",
    "    if torch.backends.mps.is_available()\n",
    "    else \"cpu\"\n",
    ")"
   ]
  },
  {
   "cell_type": "code",
   "execution_count": 10,
   "metadata": {},
   "outputs": [],
   "source": [
    "class CustomDataset(Dataset):\n",
    "    def __init__(self, dataframe, noise, transform=None, target_transform=None, drop=None, target=None):\n",
    "        self.dataframe = dataframe\n",
    "        if drop != None:\n",
    "            self.X = dataframe.drop(drop, axis=1).values\n",
    "        else:\n",
    "            self.X = dataframe.values\n",
    "        \n",
    "        self.y = dataframe[target].values\n",
    "        self.transform = transform\n",
    "        self.target_transform = target_transform\n",
    "        self.noise = noise\n",
    "\n",
    "    def __len__(self):\n",
    "        return len(self.dataframe)\n",
    "\n",
    "    def __getitem__(self, idx):\n",
    "        item, label = self.X[idx], self.y[idx]\n",
    "        return item, label\n",
    "\n",
    "    def get_noise(self):\n",
    "        return self.noise"
   ]
  },
  {
   "cell_type": "code",
   "execution_count": 11,
   "metadata": {},
   "outputs": [],
   "source": [
    "Noise_0_dataframe = pd.read_csv(\"../Data/Assignment1/data_0_noise\")\n",
    "Noise_Low_dataframe = pd.read_csv(\"../Data/Assignment1/data_Low_noise\")\n",
    "Noise_High_dataframe = pd.read_csv(\"../Data/Assignment1/data_High_noise\")"
   ]
  },
  {
   "cell_type": "code",
   "execution_count": 4,
   "metadata": {},
   "outputs": [],
   "source": [
    "class_index = list(Noise_0_dataframe[\"era\"].unique())\n",
    "class_index_noise = list(Noise_Low_dataframe[\"era\"].unique())\n",
    "class_index_t10v_noise = list(Noise_Low_dataframe[\"target_10_val\"].unique())\n",
    "\n",
    "def encode(value, class_index = class_index):\n",
    "    return class_index.index(value)\n",
    "\n",
    "def encode_noise(value, class_index = class_index_noise):\n",
    "    return class_index.index(value)\n",
    "\n",
    "def encode_noise_t10v(value, class_index = class_index_t10v_noise):\n",
    "    return class_index.index(value)\n",
    "\n",
    "\n",
    "Noise_0_dataframe[\"era\"] = Noise_0_dataframe[\"era\"].apply(encode)\n",
    "Noise_Low_dataframe[\"era\"] = Noise_Low_dataframe[\"era\"].apply(encode_noise)\n",
    "Noise_High_dataframe[\"era\"] = Noise_High_dataframe[\"era\"].apply(encode_noise)\n",
    "Noise_Low_dataframe[\"target_10_val\"] = Noise_Low_dataframe[\"target_10_val\"].apply(encode_noise_t10v)\n",
    "Noise_High_dataframe[\"target_10_val\"] = Noise_High_dataframe[\"target_10_val\"].apply(encode_noise_t10v)"
   ]
  },
  {
   "cell_type": "code",
   "execution_count": 34,
   "metadata": {},
   "outputs": [],
   "source": [
    "#Setting up datasets\n",
    "Noise_0_dataset_era = CustomDataset(Noise_0_dataframe, \"0\",drop = [\"row_num\",\"day\",\"era\",\"target_10_val\",\"target_5_val\"], target = \"era\")\n",
    "Noise_Low_dataset_era = CustomDataset(Noise_Low_dataframe, \"Low\", drop = [\"row_num\",\"day\",\"era\",\"target_10_val\",\"target_5_val\",\"data_type\"], target = \"era\")\n",
    "Noise_High_dataset_era = CustomDataset(Noise_High_dataframe, \"High\", drop = [\"row_num\",\"day\",\"era\",\"target_10_val\",\"target_5_val\",\"data_type\"], target = \"era\")\n",
    "Noise_Low_dataset_t10v = CustomDataset(Noise_Low_dataframe, \"Low\", drop = [\"row_num\",\"day\",\"era\",\"target_10_val\",\"target_5_val\",\"data_type\"], target = \"target_10_val\")\n",
    "Noise_High_dataset_t10v = CustomDataset(Noise_High_dataframe, \"High\", drop = [\"row_num\",\"day\",\"era\",\"target_10_val\",\"target_5_val\",\"data_type\"], target = \"target_10_val\")\n",
    "Noise_0_train_era, Noise_0_test_era = random_split(Noise_0_dataset_era, [int(len(Noise_0_dataset_era)*0.8), int(len(Noise_0_dataset_era)*0.2)])\n",
    "Noise_Low_train_era, Noise_Low_test_era = random_split(Noise_Low_dataset_era, [int(len(Noise_Low_dataset_era)*0.8), int(len(Noise_Low_dataset_era)*0.2)])\n",
    "Noise_High_train_era, Noise_High_test_era = random_split(Noise_High_dataset_era, [int(len(Noise_High_dataset_era)*0.8), int(len(Noise_High_dataset_era)*0.2)])\n",
    "Noise_Low_train_t10v, Noise_Low_test_t10v = random_split(Noise_Low_dataset_t10v, [int(len(Noise_Low_dataset_t10v)*0.8), int(len(Noise_Low_dataset_t10v)*0.2)])\n",
    "Noise_High_train_t10v, Noise_High_test_t10v = random_split(Noise_High_dataset_t10v, [int(len(Noise_High_dataset_t10v)*0.8), int(len(Noise_High_dataset_t10v)*0.2)])"
   ]
  },
  {
   "cell_type": "code",
   "execution_count": 32,
   "metadata": {},
   "outputs": [],
   "source": [
    "#Setting up dataloaders\n",
    "Noise_0_era_train_loader = DataLoader(Noise_0_train_era, batch_size=512, shuffle=True)\n",
    "Noise_0_era_test_loader = DataLoader(Noise_0_test_era, batch_size=512, shuffle=True)\n",
    "########################################################################################\n",
    "Noise_Low_era_train_loader = DataLoader(Noise_Low_train_era, batch_size=512, shuffle=True)\n",
    "Noise_Low_era_test_loader = DataLoader(Noise_Low_test_era, batch_size=512, shuffle=True)\n",
    "########################################################################################\n",
    "Noise_High_era_train_loader = DataLoader(Noise_High_train_era, batch_size=512, shuffle=True)\n",
    "Noise_High_era_test_loader = DataLoader(Noise_High_test_era, batch_size=512, shuffle=True)\n",
    "########################################################################################\n",
    "Noise_Low_t10v_train_loader = DataLoader(Noise_Low_train_t10v, batch_size=512, shuffle=True)\n",
    "Noise_Low_t10v_test_loader = DataLoader(Noise_Low_test_t10v, batch_size=512, shuffle=True)\n",
    "########################################################################################\n",
    "Noise_High_t10v_train_loader = DataLoader(Noise_High_train_t10v, batch_size=512, shuffle=True)\n",
    "Noise_High_t10v_test_loader = DataLoader(Noise_High_test_t10v, batch_size=512, shuffle=True)\n",
    "########################################################################################\n"
   ]
  },
  {
   "cell_type": "code",
   "execution_count": 163,
   "metadata": {},
   "outputs": [],
   "source": [
    "class EncoderClassifier(torch.nn.Module):\n",
    "    def __init__(self,representation,latent_dim,linear,subset_size,overlap,activation = torch.nn.ReLU()):\n",
    "        super().__init__()\n",
    "        self.encoder = representation\n",
    "        linear_layers = []\n",
    "        for i in range(len(linear)-1):\n",
    "            if i == len(linear)-2:\n",
    "                linear_layers.append(torch.nn.Linear(linear[i],linear[i+1]))\n",
    "            else:\n",
    "                linear_layers.append(torch.nn.Linear(linear[i],linear[i+1]))\n",
    "                linear_layers.append(activation)\n",
    "        \n",
    "        self.linear = torch.nn.Sequential(*linear_layers)\n",
    "        self.subset_size = subset_size\n",
    "        self.overlap = overlap\n",
    "        self.softmax = torch.nn.LogSoftmax(dim = 1)\n",
    "    \n",
    "    def forward(self,subset):\n",
    "        subset = self.encoder(subset)\n",
    "        subset = self.linear(subset)\n",
    "        preds = self.softmax(subset)\n",
    "        return preds\n",
    "    "
   ]
  },
  {
   "cell_type": "code",
   "execution_count": 254,
   "metadata": {},
   "outputs": [],
   "source": [
    "class SubsetAutoencoder (torch.nn.Module):\n",
    "    def __init__(self, encoder_sizes,decoder_sizes,activation = torch.nn.ReLU()):\n",
    "        super().__init__()\n",
    "        linear_encoder = [torch.nn.Linear(encoder_sizes[i],encoder_sizes[i+1]) for i in range(len(encoder_sizes)-1)]\n",
    "        linear_decoder = [torch.nn.Linear(decoder_sizes[i],decoder_sizes[i+1]) for i in range(len(decoder_sizes)-1)]\n",
    "        self.encoder = []\n",
    "        \n",
    "        for i in range(len(encoder_sizes)-1):\n",
    "            if i == len(encoder_sizes)-2:\n",
    "                self.encoder.append(torch.nn.Linear(encoder_sizes[i],encoder_sizes[i+1]))\n",
    "                # self.encoder.append(activation)\n",
    "            else:\n",
    "                self.encoder.append(torch.nn.Linear(encoder_sizes[i],encoder_sizes[i+1]))\n",
    "                self.encoder.append(activation)\n",
    "            \n",
    "        self.encoder = torch.nn.Sequential(*self.encoder)\n",
    "       \n",
    "        self.decoder = []\n",
    "        for i in range(len(decoder_sizes)-1):\n",
    "            if i == len(decoder_sizes)-2:\n",
    "                self.decoder.append(torch.nn.Linear(decoder_sizes[i],decoder_sizes[i+1]))\n",
    "            else:\n",
    "                self.decoder.append(torch.nn.Linear(decoder_sizes[i],decoder_sizes[i+1]))\n",
    "                self.decoder.append(activation)\n",
    "            \n",
    "        self.decoder = torch.nn.Sequential(*self.decoder)\n",
    "        \n",
    "    def forward(self,X):\n",
    "        X = self.encoder(X)\n",
    "        X = self.decoder(X)\n",
    "        return X\n",
    "    \n",
    "    def get_encoder(self):\n",
    "        return self.encoder\n",
    "    \n",
    "    def get_decoder(self):\n",
    "        return self.decoder"
   ]
  },
  {
   "cell_type": "code",
   "execution_count": 165,
   "metadata": {},
   "outputs": [],
   "source": [
    "def get_subsets(current_batch,subset_size,overlap):\n",
    "        subsets = []\n",
    "        num_columns = current_batch.shape[1]\n",
    "        for i in range(0, num_columns-subset_size,subset_size-overlap):\n",
    "            subsets.append(current_batch[:,i:i+subset_size])\n",
    "        return subsets"
   ]
  },
  {
   "cell_type": "code",
   "execution_count": 292,
   "metadata": {},
   "outputs": [],
   "source": [
    "def train_classifier(model, criterion, optimizer, epochs, trainloader, testloader, lr=0.001, verbose=True, subset_size=10, overlap=2):\n",
    "    optimizer = optimizer(model.parameters(), lr=lr)\n",
    "    train_loss = []\n",
    "    val_loss = []\n",
    "    train_accuracy = []\n",
    "    val_accuracy = []\n",
    "\n",
    "    for epoch in range(epochs):\n",
    "        running_train_loss = 0\n",
    "        total_train = 0\n",
    "        correct_train = 0\n",
    "\n",
    "        # Training\n",
    "        model.train()\n",
    "        for data, target in tqdm(trainloader, desc=\"Training Epoch \" + str(epoch)):\n",
    "            data, target = data.to(device).float(), target.to(device).long()\n",
    "            subsets = get_subsets(data, subset_size, overlap)\n",
    "            subset_loss = 0\n",
    "            output = 0\n",
    "            for subset in subsets:\n",
    "                optimizer.zero_grad()\n",
    "                output += model(subset)\n",
    "                loss = criterion(output, target)\n",
    "                loss.backward()\n",
    "                subset_loss += loss\n",
    "                optimizer.step()\n",
    "                \n",
    "            output = output/len(subsets)\n",
    "            subset_loss /= len(subsets)\n",
    "            \n",
    "            running_train_loss += subset_loss.item()/len(subsets)\n",
    "            _, predicted = torch.max(output, 1)\n",
    "            total_train += target.size(0)\n",
    "            correct_train += (predicted == target).sum().item()\n",
    "            running_train_loss += loss.item()\n",
    "\n",
    "        accuracy = correct_train / total_train\n",
    "        train_accuracy.append(accuracy)\n",
    "        running_train_loss /= len(trainloader)\n",
    "        train_loss.append(running_train_loss)\n",
    "\n",
    "        # Validation\n",
    "        model.eval()\n",
    "        running_val_loss = 0\n",
    "        total_val = 0\n",
    "        correct_val = 0\n",
    "        with torch.no_grad():\n",
    "            for data, target in tqdm(testloader, desc=\"Validation Epoch \" + str(epoch)):\n",
    "                data, target = data.to(\n",
    "                    device).float(), target.to(device).long()\n",
    "                subsets = get_subsets(data, subset_size, overlap)\n",
    "                subset_loss = 0\n",
    "                output = 0\n",
    "                for subset in subsets:\n",
    "                    output += model(subset)\n",
    "                    loss = criterion(output, target)\n",
    "                    subset_loss += loss\n",
    "                    \n",
    "                output = output/len(subsets)\n",
    "                running_val_loss += subset_loss.item()/len(subsets)\n",
    "\n",
    "                _, predicted = torch.max(output, 1)\n",
    "                total_val += target.size(0)\n",
    "                correct_val += (predicted == target).sum().item()\n",
    "\n",
    "        running_val_loss /= len(testloader)\n",
    "        val_loss.append(running_val_loss)\n",
    "        accuracy_val = correct_val / total_val\n",
    "        val_accuracy.append(accuracy_val)\n",
    "\n",
    "        if verbose:\n",
    "            print(f\"Epoch [{epoch+1}/{epochs}], Train Loss: {train_loss[-1]:.4f}, Train Accuracy: {accuracy:.4f}, Validation Loss: {val_loss[-1]:.4f}, Validation Accuracy: {accuracy_val:.4f}\")\n",
    "\n",
    "    # Plotting\n",
    "    plt.figure(figsize=(10, 5))\n",
    "    plt.plot(train_loss, label='Train Loss')\n",
    "    plt.plot(val_loss, label='Validation Loss')\n",
    "    plt.xlabel('Epochs')\n",
    "    plt.ylabel('Loss')\n",
    "    plt.title('Training and Validation Loss')\n",
    "    plt.legend()\n",
    "    plt.show()\n",
    "\n",
    "    plt.figure(figsize=(10, 5))\n",
    "    plt.plot(train_accuracy, label='Train Accuracy')\n",
    "    plt.plot(val_accuracy, label='Validation Accuracy')\n",
    "    plt.xlabel('Epochs')\n",
    "    plt.ylabel('Accuracy')\n",
    "    plt.title('Training and Validation Accuracy')\n",
    "    plt.legend()\n",
    "    plt.show()"
   ]
  },
  {
   "cell_type": "code",
   "execution_count": 295,
   "metadata": {},
   "outputs": [],
   "source": [
    "def train_ae(model, criterion, optimizer, epochs, trainloader, testloader, subset_size=10, overlap=4, lr=0.01, verbose=True):\n",
    "    optimizer = optimizer(model.parameters(), lr=lr)\n",
    "    train_loss = []\n",
    "    val_loss = []\n",
    "    for epoch in range(epochs):\n",
    "        # Training\n",
    "        model.train()\n",
    "        current_train_loss = 0\n",
    "        for data, _ in tqdm(trainloader, desc=\"Training Epoch \" + str(epoch)):\n",
    "            data = data.to(device).float()\n",
    "            subsets = get_subsets(data, subset_size, overlap)\n",
    "            optimizer.zero_grad()\n",
    "            recons = []\n",
    "            subset_loss = 0\n",
    "            for subset in subsets:\n",
    "                output = model(subset)\n",
    "                recons.append(output)\n",
    "                subset_loss += criterion(subset, output)\n",
    "            subset_loss = subset_loss.mean()\n",
    "            subset_loss.backward()\n",
    "            optimizer.step()\n",
    "            current_train_loss += subset_loss.item() * data.size(0)\n",
    "        train_loss.append(current_train_loss / len(trainloader.dataset))\n",
    "        \n",
    "        # Validation\n",
    "        model.eval()\n",
    "        current_val_loss = 0\n",
    "        with torch.no_grad():\n",
    "            for data, _ in tqdm(testloader, desc=\"Validation Epoch \" + str(epoch)):\n",
    "                data = data.to(device).float()\n",
    "                subsets = get_subsets(data, subset_size, overlap)\n",
    "                recons = []\n",
    "                subset_loss = 0\n",
    "                for subset in subsets:\n",
    "                    output = model(subset)\n",
    "                    recons.append(output)\n",
    "                    subset_loss += criterion(subset, output)\n",
    "                subset_loss = subset_loss.mean()\n",
    "                current_val_loss += subset_loss.item() * data.size(0)\n",
    "            val_loss.append(current_val_loss / len(testloader.dataset))\n",
    "        \n",
    "        if verbose:\n",
    "            print(f\"Epoch [{epoch}/{epochs}], Train Loss: {train_loss[-1]}, Validation Loss: {val_loss[-1]}\")\n",
    "        \n",
    "    plt.figure(figsize=(10, 5))\n",
    "    plt.plot(train_loss, label='Train Loss')\n",
    "    plt.plot(val_loss, label='Validation Loss')\n",
    "    plt.xlabel('Epochs')\n",
    "    plt.ylabel('Loss')\n",
    "    plt.title('Training and Validation Loss')\n",
    "    plt.legend()\n",
    "    plt.show()"
   ]
  },
  {
   "cell_type": "code",
   "execution_count": null,
   "metadata": {},
   "outputs": [],
   "source": [
    "model = SubsetAutoencoder(encoder_sizes=[18,32,12],decoder_sizes=[12,32,18])\n",
    "model.to(device)"
   ]
  },
  {
   "cell_type": "code",
   "execution_count": 299,
   "metadata": {},
   "outputs": [],
   "source": [
    "torch.save(model,\"../Models/encoder_decoder_models_0.001\")"
   ]
  },
  {
   "cell_type": "code",
   "execution_count": 288,
   "metadata": {},
   "outputs": [
    {
     "name": "stderr",
     "output_type": "stream",
     "text": [
      "Training Epoch 0: 100%|██████████| 488/488 [00:03<00:00, 142.48it/s]\n",
      "Validation Epoch 0: 100%|██████████| 122/122 [00:00<00:00, 183.67it/s]\n"
     ]
    },
    {
     "name": "stdout",
     "output_type": "stream",
     "text": [
      "Epoch [0/20], Train Loss: 0.018570281753841882, Validation Loss: 0.00478534378302403\n"
     ]
    },
    {
     "name": "stderr",
     "output_type": "stream",
     "text": [
      "Training Epoch 1: 100%|██████████| 488/488 [00:03<00:00, 134.56it/s]\n",
      "Validation Epoch 1: 100%|██████████| 122/122 [00:00<00:00, 201.09it/s]\n"
     ]
    },
    {
     "name": "stdout",
     "output_type": "stream",
     "text": [
      "Epoch [1/20], Train Loss: 0.003721622957680852, Validation Loss: 0.0023116046044593438\n"
     ]
    },
    {
     "name": "stderr",
     "output_type": "stream",
     "text": [
      "Training Epoch 2: 100%|██████████| 488/488 [00:03<00:00, 141.05it/s]\n",
      "Validation Epoch 2: 100%|██████████| 122/122 [00:00<00:00, 170.34it/s]\n"
     ]
    },
    {
     "name": "stdout",
     "output_type": "stream",
     "text": [
      "Epoch [2/20], Train Loss: 0.001928968060021408, Validation Loss: 0.0017865509829985407\n"
     ]
    },
    {
     "name": "stderr",
     "output_type": "stream",
     "text": [
      "Training Epoch 3: 100%|██████████| 488/488 [00:03<00:00, 139.64it/s]\n",
      "Validation Epoch 3: 100%|██████████| 122/122 [00:00<00:00, 197.90it/s]\n"
     ]
    },
    {
     "name": "stdout",
     "output_type": "stream",
     "text": [
      "Epoch [3/20], Train Loss: 0.0018224959720212679, Validation Loss: 0.001715223166661767\n"
     ]
    },
    {
     "name": "stderr",
     "output_type": "stream",
     "text": [
      "Training Epoch 4: 100%|██████████| 488/488 [00:03<00:00, 147.40it/s]\n",
      "Validation Epoch 4: 100%|██████████| 122/122 [00:00<00:00, 205.05it/s]\n"
     ]
    },
    {
     "name": "stdout",
     "output_type": "stream",
     "text": [
      "Epoch [4/20], Train Loss: 0.0017931497354920095, Validation Loss: 0.001740860963622347\n"
     ]
    },
    {
     "name": "stderr",
     "output_type": "stream",
     "text": [
      "Training Epoch 5: 100%|██████████| 488/488 [00:03<00:00, 146.95it/s]\n",
      "Validation Epoch 5: 100%|██████████| 122/122 [00:00<00:00, 198.04it/s]\n"
     ]
    },
    {
     "name": "stdout",
     "output_type": "stream",
     "text": [
      "Epoch [5/20], Train Loss: 0.0017808907040848564, Validation Loss: 0.0016259813865121357\n"
     ]
    },
    {
     "name": "stderr",
     "output_type": "stream",
     "text": [
      "Training Epoch 6: 100%|██████████| 488/488 [00:03<00:00, 136.28it/s]\n",
      "Validation Epoch 6: 100%|██████████| 122/122 [00:00<00:00, 194.76it/s]\n"
     ]
    },
    {
     "name": "stdout",
     "output_type": "stream",
     "text": [
      "Epoch [6/20], Train Loss: 0.0016405493295632112, Validation Loss: 0.0015794461713626218\n"
     ]
    },
    {
     "name": "stderr",
     "output_type": "stream",
     "text": [
      "Training Epoch 7: 100%|██████████| 488/488 [00:03<00:00, 143.19it/s]\n",
      "Validation Epoch 7: 100%|██████████| 122/122 [00:00<00:00, 182.65it/s]\n"
     ]
    },
    {
     "name": "stdout",
     "output_type": "stream",
     "text": [
      "Epoch [7/20], Train Loss: 0.0016300455036644752, Validation Loss: 0.0015413138614251063\n"
     ]
    },
    {
     "name": "stderr",
     "output_type": "stream",
     "text": [
      "Training Epoch 8: 100%|██████████| 488/488 [00:03<00:00, 142.79it/s]\n",
      "Validation Epoch 8: 100%|██████████| 122/122 [00:00<00:00, 192.42it/s]\n"
     ]
    },
    {
     "name": "stdout",
     "output_type": "stream",
     "text": [
      "Epoch [8/20], Train Loss: 0.0016116501728836924, Validation Loss: 0.0015653821788967038\n"
     ]
    },
    {
     "name": "stderr",
     "output_type": "stream",
     "text": [
      "Training Epoch 9: 100%|██████████| 488/488 [00:03<00:00, 139.21it/s]\n",
      "Validation Epoch 9: 100%|██████████| 122/122 [00:00<00:00, 202.71it/s]\n"
     ]
    },
    {
     "name": "stdout",
     "output_type": "stream",
     "text": [
      "Epoch [9/20], Train Loss: 0.0016140975313595472, Validation Loss: 0.0015319242967197146\n"
     ]
    },
    {
     "name": "stderr",
     "output_type": "stream",
     "text": [
      "Training Epoch 10: 100%|██████████| 488/488 [00:03<00:00, 148.51it/s]\n",
      "Validation Epoch 10: 100%|██████████| 122/122 [00:00<00:00, 196.22it/s]\n"
     ]
    },
    {
     "name": "stdout",
     "output_type": "stream",
     "text": [
      "Epoch [10/20], Train Loss: 0.001615139919046599, Validation Loss: 0.001665253875633845\n"
     ]
    },
    {
     "name": "stderr",
     "output_type": "stream",
     "text": [
      "Training Epoch 11: 100%|██████████| 488/488 [00:03<00:00, 149.69it/s]\n",
      "Validation Epoch 11: 100%|██████████| 122/122 [00:00<00:00, 195.92it/s]\n"
     ]
    },
    {
     "name": "stdout",
     "output_type": "stream",
     "text": [
      "Epoch [11/20], Train Loss: 0.0016039173954572434, Validation Loss: 0.0015114504349632905\n"
     ]
    },
    {
     "name": "stderr",
     "output_type": "stream",
     "text": [
      "Training Epoch 12: 100%|██████████| 488/488 [00:03<00:00, 143.80it/s]\n",
      "Validation Epoch 12: 100%|██████████| 122/122 [00:00<00:00, 208.95it/s]\n"
     ]
    },
    {
     "name": "stdout",
     "output_type": "stream",
     "text": [
      "Epoch [12/20], Train Loss: 0.0016063912599705733, Validation Loss: 0.0023326323241090927\n"
     ]
    },
    {
     "name": "stderr",
     "output_type": "stream",
     "text": [
      "Training Epoch 13: 100%|██████████| 488/488 [00:03<00:00, 147.97it/s]\n",
      "Validation Epoch 13: 100%|██████████| 122/122 [00:00<00:00, 200.51it/s]\n"
     ]
    },
    {
     "name": "stdout",
     "output_type": "stream",
     "text": [
      "Epoch [13/20], Train Loss: 0.001553776766746663, Validation Loss: 0.0015192958442733074\n"
     ]
    },
    {
     "name": "stderr",
     "output_type": "stream",
     "text": [
      "Training Epoch 14: 100%|██████████| 488/488 [00:03<00:00, 122.49it/s]\n",
      "Validation Epoch 14: 100%|██████████| 122/122 [00:00<00:00, 172.34it/s]\n"
     ]
    },
    {
     "name": "stdout",
     "output_type": "stream",
     "text": [
      "Epoch [14/20], Train Loss: 0.0015427377831954987, Validation Loss: 0.00202137043651862\n"
     ]
    },
    {
     "name": "stderr",
     "output_type": "stream",
     "text": [
      "Training Epoch 15: 100%|██████████| 488/488 [00:05<00:00, 83.87it/s] \n",
      "Validation Epoch 15: 100%|██████████| 122/122 [00:01<00:00, 86.86it/s]\n"
     ]
    },
    {
     "name": "stdout",
     "output_type": "stream",
     "text": [
      "Epoch [15/20], Train Loss: 0.001532564033061648, Validation Loss: 0.0015352605506538963\n"
     ]
    },
    {
     "name": "stderr",
     "output_type": "stream",
     "text": [
      "Training Epoch 16: 100%|██████████| 488/488 [00:09<00:00, 54.08it/s]\n",
      "Validation Epoch 16: 100%|██████████| 122/122 [00:01<00:00, 65.41it/s]\n"
     ]
    },
    {
     "name": "stdout",
     "output_type": "stream",
     "text": [
      "Epoch [16/20], Train Loss: 0.0015484996179405313, Validation Loss: 0.001709885695614876\n"
     ]
    },
    {
     "name": "stderr",
     "output_type": "stream",
     "text": [
      "Training Epoch 17: 100%|██████████| 488/488 [00:11<00:00, 42.95it/s]\n",
      "Validation Epoch 17: 100%|██████████| 122/122 [00:02<00:00, 41.56it/s]\n"
     ]
    },
    {
     "name": "stdout",
     "output_type": "stream",
     "text": [
      "Epoch [17/20], Train Loss: 0.0015197458596995625, Validation Loss: 0.001466314690426374\n"
     ]
    },
    {
     "name": "stderr",
     "output_type": "stream",
     "text": [
      "Training Epoch 18: 100%|██████████| 488/488 [00:15<00:00, 32.20it/s]\n",
      "Validation Epoch 18: 100%|██████████| 122/122 [00:02<00:00, 43.67it/s]\n"
     ]
    },
    {
     "name": "stdout",
     "output_type": "stream",
     "text": [
      "Epoch [18/20], Train Loss: 0.0015279797706991816, Validation Loss: 0.001526371915705311\n"
     ]
    },
    {
     "name": "stderr",
     "output_type": "stream",
     "text": [
      "Training Epoch 19: 100%|██████████| 488/488 [00:16<00:00, 30.10it/s]\n",
      "Validation Epoch 19: 100%|██████████| 122/122 [00:03<00:00, 40.23it/s]\n"
     ]
    },
    {
     "name": "stdout",
     "output_type": "stream",
     "text": [
      "Epoch [19/20], Train Loss: 0.0015258699353450002, Validation Loss: 0.001536033306724559\n"
     ]
    },
    {
     "data": {
      "image/png": "[encoded data removed]",
      "text/plain": [
       "<Figure size 1000x500 with 1 Axes>"
      ]
     },
     "metadata": {},
     "output_type": "display_data"
    },
    {
     "data": {
      "text/plain": [
       "([0.018570281753841882,\n",
       "  0.003721622957680852,\n",
       "  0.001928968060021408,\n",
       "  0.0018224959720212679,\n",
       "  0.0017931497354920095,\n",
       "  0.0017808907040848564,\n",
       "  0.0016405493295632112,\n",
       "  0.0016300455036644752,\n",
       "  0.0016116501728836924,\n",
       "  0.0016140975313595472,\n",
       "  0.001615139919046599,\n",
       "  0.0016039173954572434,\n",
       "  0.0016063912599705733,\n",
       "  0.001553776766746663,\n",
       "  0.0015427377831954987,\n",
       "  0.001532564033061648,\n",
       "  0.0015484996179405313,\n",
       "  0.0015197458596995625,\n",
       "  0.0015279797706991816,\n",
       "  0.0015258699353450002],\n",
       " [0.00478534378302403,\n",
       "  0.0023116046044593438,\n",
       "  0.0017865509829985407,\n",
       "  0.001715223166661767,\n",
       "  0.001740860963622347,\n",
       "  0.0016259813865121357,\n",
       "  0.0015794461713626218,\n",
       "  0.0015413138614251063,\n",
       "  0.0015653821788967038,\n",
       "  0.0015319242967197146,\n",
       "  0.001665253875633845,\n",
       "  0.0015114504349632905,\n",
       "  0.0023326323241090927,\n",
       "  0.0015192958442733074,\n",
       "  0.00202137043651862,\n",
       "  0.0015352605506538963,\n",
       "  0.001709885695614876,\n",
       "  0.001466314690426374,\n",
       "  0.001526371915705311,\n",
       "  0.001536033306724559])"
      ]
     },
     "execution_count": 288,
     "metadata": {},
     "output_type": "execute_result"
    }
   ],
   "source": [
    "optimizer = torch.optim.Adam\n",
    "criterion = torch.nn.MSELoss()\n",
    "train_ae(model,criterion,optimizer,20,Noise_Low_era_train_loader,Noise_Low_era_test_loader,subset_size = 18,overlap =6, lr=0.01)"
   ]
  },
  {
   "cell_type": "code",
   "execution_count": 289,
   "metadata": {},
   "outputs": [],
   "source": [
    "for param in model.parameters():\n",
    "    param.requires_grad = False"
   ]
  },
  {
   "cell_type": "code",
   "execution_count": 290,
   "metadata": {},
   "outputs": [
    {
     "name": "stdout",
     "output_type": "stream",
     "text": [
      "EncoderClassifier(\n",
      "  (encoder): SubsetAutoencoder(\n",
      "    (encoder): Sequential(\n",
      "      (0): Linear(in_features=18, out_features=32, bias=True)\n",
      "      (1): ReLU()\n",
      "      (2): Linear(in_features=32, out_features=12, bias=True)\n",
      "    )\n",
      "    (decoder): Sequential(\n",
      "      (0): Linear(in_features=12, out_features=32, bias=True)\n",
      "      (1): ReLU()\n",
      "      (2): Linear(in_features=32, out_features=18, bias=True)\n",
      "    )\n",
      "  )\n",
      "  (linear): Sequential(\n",
      "    (0): Linear(in_features=18, out_features=36, bias=True)\n",
      "    (1): ReLU()\n",
      "    (2): Linear(in_features=36, out_features=14, bias=True)\n",
      "    (3): ReLU()\n",
      "    (4): Linear(in_features=14, out_features=12, bias=True)\n",
      "  )\n",
      "  (softmax): LogSoftmax(dim=1)\n",
      ")\n"
     ]
    }
   ],
   "source": [
    "classifier = EncoderClassifier(model,8,[18,36,14,12],subset_size=18,overlap=6)\n",
    "classifier = classifier.to(device)\n",
    "print(classifier)"
   ]
  },
  {
   "cell_type": "code",
   "execution_count": 291,
   "metadata": {},
   "outputs": [
    {
     "name": "stderr",
     "output_type": "stream",
     "text": [
      "Training Epoch 0: 100%|██████████| 488/488 [00:04<00:00, 118.64it/s]\n",
      "Validation Epoch 0: 100%|██████████| 122/122 [00:00<00:00, 166.72it/s]\n"
     ]
    },
    {
     "name": "stdout",
     "output_type": "stream",
     "text": [
      "Epoch [1/20], Train Loss: 2.4216, Train Accuracy: 0.5463, Validation Loss: 0.9427, Validation Accuracy: 0.6378\n"
     ]
    },
    {
     "name": "stderr",
     "output_type": "stream",
     "text": [
      "Training Epoch 1: 100%|██████████| 488/488 [00:03<00:00, 127.56it/s]\n",
      "Validation Epoch 1: 100%|██████████| 122/122 [00:00<00:00, 147.54it/s]\n"
     ]
    },
    {
     "name": "stdout",
     "output_type": "stream",
     "text": [
      "Epoch [2/20], Train Loss: 1.7882, Train Accuracy: 0.6582, Validation Loss: 0.8649, Validation Accuracy: 0.6727\n"
     ]
    },
    {
     "name": "stderr",
     "output_type": "stream",
     "text": [
      "Training Epoch 2: 100%|██████████| 488/488 [00:03<00:00, 126.40it/s]\n",
      "Validation Epoch 2: 100%|██████████| 122/122 [00:00<00:00, 173.60it/s]\n"
     ]
    },
    {
     "name": "stdout",
     "output_type": "stream",
     "text": [
      "Epoch [3/20], Train Loss: 1.6900, Train Accuracy: 0.6756, Validation Loss: 0.8262, Validation Accuracy: 0.6797\n"
     ]
    },
    {
     "name": "stderr",
     "output_type": "stream",
     "text": [
      "Training Epoch 3: 100%|██████████| 488/488 [00:03<00:00, 123.33it/s]\n",
      "Validation Epoch 3: 100%|██████████| 122/122 [00:00<00:00, 174.30it/s]\n"
     ]
    },
    {
     "name": "stdout",
     "output_type": "stream",
     "text": [
      "Epoch [4/20], Train Loss: 1.6399, Train Accuracy: 0.6820, Validation Loss: 0.8186, Validation Accuracy: 0.6804\n"
     ]
    },
    {
     "name": "stderr",
     "output_type": "stream",
     "text": [
      "Training Epoch 4: 100%|██████████| 488/488 [00:03<00:00, 124.40it/s]\n",
      "Validation Epoch 4: 100%|██████████| 122/122 [00:00<00:00, 178.66it/s]\n"
     ]
    },
    {
     "name": "stdout",
     "output_type": "stream",
     "text": [
      "Epoch [5/20], Train Loss: 1.6126, Train Accuracy: 0.6871, Validation Loss: 0.8101, Validation Accuracy: 0.6849\n"
     ]
    },
    {
     "name": "stderr",
     "output_type": "stream",
     "text": [
      "Training Epoch 5: 100%|██████████| 488/488 [00:03<00:00, 129.10it/s]\n",
      "Validation Epoch 5: 100%|██████████| 122/122 [00:00<00:00, 183.17it/s]\n"
     ]
    },
    {
     "name": "stdout",
     "output_type": "stream",
     "text": [
      "Epoch [6/20], Train Loss: 1.5961, Train Accuracy: 0.6890, Validation Loss: 0.7978, Validation Accuracy: 0.6844\n"
     ]
    },
    {
     "name": "stderr",
     "output_type": "stream",
     "text": [
      "Training Epoch 6: 100%|██████████| 488/488 [00:03<00:00, 126.65it/s]\n",
      "Validation Epoch 6: 100%|██████████| 122/122 [00:00<00:00, 171.87it/s]\n"
     ]
    },
    {
     "name": "stdout",
     "output_type": "stream",
     "text": [
      "Epoch [7/20], Train Loss: 1.5813, Train Accuracy: 0.6908, Validation Loss: 0.8283, Validation Accuracy: 0.6784\n"
     ]
    },
    {
     "name": "stderr",
     "output_type": "stream",
     "text": [
      "Training Epoch 7: 100%|██████████| 488/488 [00:03<00:00, 122.92it/s]\n",
      "Validation Epoch 7: 100%|██████████| 122/122 [00:00<00:00, 174.82it/s]\n"
     ]
    },
    {
     "name": "stdout",
     "output_type": "stream",
     "text": [
      "Epoch [8/20], Train Loss: 1.5633, Train Accuracy: 0.6941, Validation Loss: 0.7856, Validation Accuracy: 0.6936\n"
     ]
    },
    {
     "name": "stderr",
     "output_type": "stream",
     "text": [
      "Training Epoch 8: 100%|██████████| 488/488 [00:04<00:00, 121.50it/s]\n",
      "Validation Epoch 8: 100%|██████████| 122/122 [00:00<00:00, 173.22it/s]\n"
     ]
    },
    {
     "name": "stdout",
     "output_type": "stream",
     "text": [
      "Epoch [9/20], Train Loss: 1.5502, Train Accuracy: 0.6971, Validation Loss: 0.7879, Validation Accuracy: 0.6906\n"
     ]
    },
    {
     "name": "stderr",
     "output_type": "stream",
     "text": [
      "Training Epoch 9: 100%|██████████| 488/488 [00:03<00:00, 124.36it/s]\n",
      "Validation Epoch 9: 100%|██████████| 122/122 [00:00<00:00, 141.59it/s]\n"
     ]
    },
    {
     "name": "stdout",
     "output_type": "stream",
     "text": [
      "Epoch [10/20], Train Loss: 1.5469, Train Accuracy: 0.6972, Validation Loss: 0.7848, Validation Accuracy: 0.6928\n"
     ]
    },
    {
     "name": "stderr",
     "output_type": "stream",
     "text": [
      "Training Epoch 10: 100%|██████████| 488/488 [00:03<00:00, 129.80it/s]\n",
      "Validation Epoch 10: 100%|██████████| 122/122 [00:00<00:00, 177.89it/s]\n"
     ]
    },
    {
     "name": "stdout",
     "output_type": "stream",
     "text": [
      "Epoch [11/20], Train Loss: 1.5389, Train Accuracy: 0.6989, Validation Loss: 0.7745, Validation Accuracy: 0.6932\n"
     ]
    },
    {
     "name": "stderr",
     "output_type": "stream",
     "text": [
      "Training Epoch 11: 100%|██████████| 488/488 [00:03<00:00, 122.74it/s]\n",
      "Validation Epoch 11: 100%|██████████| 122/122 [00:00<00:00, 161.87it/s]\n"
     ]
    },
    {
     "name": "stdout",
     "output_type": "stream",
     "text": [
      "Epoch [12/20], Train Loss: 1.5300, Train Accuracy: 0.6996, Validation Loss: 0.7702, Validation Accuracy: 0.6961\n"
     ]
    },
    {
     "name": "stderr",
     "output_type": "stream",
     "text": [
      "Training Epoch 12: 100%|██████████| 488/488 [00:03<00:00, 123.96it/s]\n",
      "Validation Epoch 12: 100%|██████████| 122/122 [00:00<00:00, 176.84it/s]\n"
     ]
    },
    {
     "name": "stdout",
     "output_type": "stream",
     "text": [
      "Epoch [13/20], Train Loss: 1.5212, Train Accuracy: 0.7015, Validation Loss: 0.7673, Validation Accuracy: 0.7014\n"
     ]
    },
    {
     "name": "stderr",
     "output_type": "stream",
     "text": [
      "Training Epoch 13: 100%|██████████| 488/488 [00:03<00:00, 129.22it/s]\n",
      "Validation Epoch 13: 100%|██████████| 122/122 [00:00<00:00, 156.57it/s]\n"
     ]
    },
    {
     "name": "stdout",
     "output_type": "stream",
     "text": [
      "Epoch [14/20], Train Loss: 1.5263, Train Accuracy: 0.7006, Validation Loss: 0.7703, Validation Accuracy: 0.6896\n"
     ]
    },
    {
     "name": "stderr",
     "output_type": "stream",
     "text": [
      "Training Epoch 14: 100%|██████████| 488/488 [00:04<00:00, 114.50it/s]\n",
      "Validation Epoch 14: 100%|██████████| 122/122 [00:00<00:00, 185.95it/s]\n"
     ]
    },
    {
     "name": "stdout",
     "output_type": "stream",
     "text": [
      "Epoch [15/20], Train Loss: 1.5157, Train Accuracy: 0.7023, Validation Loss: 0.7802, Validation Accuracy: 0.6933\n"
     ]
    },
    {
     "name": "stderr",
     "output_type": "stream",
     "text": [
      "Training Epoch 15: 100%|██████████| 488/488 [00:04<00:00, 117.65it/s]\n",
      "Validation Epoch 15: 100%|██████████| 122/122 [00:00<00:00, 167.79it/s]\n"
     ]
    },
    {
     "name": "stdout",
     "output_type": "stream",
     "text": [
      "Epoch [16/20], Train Loss: 1.5122, Train Accuracy: 0.7032, Validation Loss: 0.7621, Validation Accuracy: 0.6976\n"
     ]
    },
    {
     "name": "stderr",
     "output_type": "stream",
     "text": [
      "Training Epoch 16: 100%|██████████| 488/488 [00:03<00:00, 126.82it/s]\n",
      "Validation Epoch 16: 100%|██████████| 122/122 [00:00<00:00, 171.42it/s]\n"
     ]
    },
    {
     "name": "stdout",
     "output_type": "stream",
     "text": [
      "Epoch [17/20], Train Loss: 1.5131, Train Accuracy: 0.7028, Validation Loss: 0.7703, Validation Accuracy: 0.6986\n"
     ]
    },
    {
     "name": "stderr",
     "output_type": "stream",
     "text": [
      "Training Epoch 17: 100%|██████████| 488/488 [00:04<00:00, 118.96it/s]\n",
      "Validation Epoch 17: 100%|██████████| 122/122 [00:00<00:00, 162.15it/s]\n"
     ]
    },
    {
     "name": "stdout",
     "output_type": "stream",
     "text": [
      "Epoch [18/20], Train Loss: 1.5068, Train Accuracy: 0.7044, Validation Loss: 0.7541, Validation Accuracy: 0.7076\n"
     ]
    },
    {
     "name": "stderr",
     "output_type": "stream",
     "text": [
      "Training Epoch 18: 100%|██████████| 488/488 [00:03<00:00, 124.35it/s]\n",
      "Validation Epoch 18: 100%|██████████| 122/122 [00:00<00:00, 160.58it/s]\n"
     ]
    },
    {
     "name": "stdout",
     "output_type": "stream",
     "text": [
      "Epoch [19/20], Train Loss: 1.5077, Train Accuracy: 0.7039, Validation Loss: 0.7577, Validation Accuracy: 0.6970\n"
     ]
    },
    {
     "name": "stderr",
     "output_type": "stream",
     "text": [
      "Training Epoch 19: 100%|██████████| 488/488 [00:03<00:00, 127.38it/s]\n",
      "Validation Epoch 19: 100%|██████████| 122/122 [00:00<00:00, 163.70it/s]\n"
     ]
    },
    {
     "name": "stdout",
     "output_type": "stream",
     "text": [
      "Epoch [20/20], Train Loss: 1.5018, Train Accuracy: 0.7050, Validation Loss: 0.7519, Validation Accuracy: 0.7032\n"
     ]
    },
    {
     "data": {
      "image/png": "[encoded data removed]",
      "text/plain": [
       "<Figure size 1000x500 with 1 Axes>"
      ]
     },
     "metadata": {},
     "output_type": "display_data"
    },
    {
     "data": {
      "image/png": "[encoded data removed]",
      "text/plain": [
       "<Figure size 1000x500 with 1 Axes>"
      ]
     },
     "metadata": {},
     "output_type": "display_data"
    },
    {
     "data": {
      "text/plain": [
       "([2.421604439127641,\n",
       "  1.7881802369336612,\n",
       "  1.6900026473354122,\n",
       "  1.6398502446588923,\n",
       "  1.6126164576557815,\n",
       "  1.596083530881366,\n",
       "  1.5812750707884304,\n",
       "  1.563297939105112,\n",
       "  1.5502322245328153,\n",
       "  1.54693674357211,\n",
       "  1.5389441505807344,\n",
       "  1.529997118916668,\n",
       "  1.5212412610894344,\n",
       "  1.5262770340090892,\n",
       "  1.5157428794219845,\n",
       "  1.5122184408981292,\n",
       "  1.5131042306540443,\n",
       "  1.506791500771632,\n",
       "  1.5076543847556974,\n",
       "  1.501844718563752],\n",
       " [0.9427413486066412,\n",
       "  0.8648685593096936,\n",
       "  0.8262404174101158,\n",
       "  0.8185893111541623,\n",
       "  0.8101028062281062,\n",
       "  0.7977777812324587,\n",
       "  0.8283229074517234,\n",
       "  0.7856278023758873,\n",
       "  0.7878732212254258,\n",
       "  0.784768208128507,\n",
       "  0.7745468772825648,\n",
       "  0.7701659368686988,\n",
       "  0.767310914446096,\n",
       "  0.7702953488123222,\n",
       "  0.7802192192585742,\n",
       "  0.7621244534117276,\n",
       "  0.7702926197012917,\n",
       "  0.7541243907858114,\n",
       "  0.7577497959136963,\n",
       "  0.7518858890064427],\n",
       " [0.546298076923077,\n",
       "  0.6581650641025641,\n",
       "  0.6755809294871795,\n",
       "  0.6819951923076923,\n",
       "  0.6871274038461539,\n",
       "  0.6890464743589744,\n",
       "  0.6907532051282051,\n",
       "  0.694082532051282,\n",
       "  0.6970713141025641,\n",
       "  0.6971554487179488,\n",
       "  0.6988782051282051,\n",
       "  0.6996354166666666,\n",
       "  0.7015104166666667,\n",
       "  0.700604967948718,\n",
       "  0.7022596153846153,\n",
       "  0.7032451923076923,\n",
       "  0.7027804487179488,\n",
       "  0.7043910256410256,\n",
       "  0.7038982371794872,\n",
       "  0.7049679487179488],\n",
       " [0.6378044871794872,\n",
       "  0.6726602564102564,\n",
       "  0.6796634615384616,\n",
       "  0.680448717948718,\n",
       "  0.6848878205128205,\n",
       "  0.6844230769230769,\n",
       "  0.6784294871794871,\n",
       "  0.6935737179487179,\n",
       "  0.6905769230769231,\n",
       "  0.6927564102564102,\n",
       "  0.6931891025641026,\n",
       "  0.6960897435897436,\n",
       "  0.7014102564102564,\n",
       "  0.6896153846153846,\n",
       "  0.6932852564102564,\n",
       "  0.6975961538461538,\n",
       "  0.6985737179487179,\n",
       "  0.7075641025641025,\n",
       "  0.6970192307692308,\n",
       "  0.7032211538461538])"
      ]
     },
     "execution_count": 291,
     "metadata": {},
     "output_type": "execute_result"
    }
   ],
   "source": [
    "train_classifier(classifier,torch.nn.NLLLoss(),torch.optim.Adam,20,Noise_Low_era_train_loader,Noise_Low_era_test_loader,subset_size = 18,overlap = 6, lr = 0.01)"
   ]
  },
  {
   "cell_type": "code",
   "execution_count": 150,
   "metadata": {},
   "outputs": [
    {
     "name": "stdout",
     "output_type": "stream",
     "text": [
      "EncoderClassifier(\n",
      "  (encoder): Sequential(\n",
      "    (0): Linear(in_features=16, out_features=32, bias=True)\n",
      "    (1): ReLU()\n",
      "    (2): Linear(in_features=32, out_features=24, bias=True)\n",
      "    (3): ReLU()\n",
      "    (4): Linear(in_features=24, out_features=10, bias=True)\n",
      "    (5): ReLU()\n",
      "  )\n",
      "  (linear): Sequential(\n",
      "    (0): Linear(in_features=10, out_features=24, bias=True)\n",
      "    (1): ReLU()\n",
      "    (2): Linear(in_features=24, out_features=12, bias=True)\n",
      "  )\n",
      "  (softmax): Softmax(dim=1)\n",
      ")\n"
     ]
    }
   ],
   "source": [
    "print(classifier)"
   ]
  },
  {
   "cell_type": "markdown",
   "metadata": {},
   "source": [
    "# Calibration Curve"
   ]
  },
  {
   "cell_type": "code",
   "execution_count": 29,
   "metadata": {},
   "outputs": [],
   "source": [
    "#CLasse chooser for calibration Curver\n",
    "cls=7"
   ]
  },
  {
   "cell_type": "code",
   "execution_count": 30,
   "metadata": {},
   "outputs": [
    {
     "name": "stdout",
     "output_type": "stream",
     "text": [
      "49920\n"
     ]
    },
    {
     "data": {
      "image/png": "[encoded data removed]",
      "text/plain": [
       "<Figure size 640x480 with 1 Axes>"
      ]
     },
     "metadata": {},
     "output_type": "display_data"
    }
   ],
   "source": [
    "import numpy as np\n",
    "import matplotlib.pyplot as plt\n",
    "from sklearn.calibration import calibration_curve\n",
    "import torch\n",
    "\n",
    "def binarize(target, c):\n",
    "    return np.array([1 if t == c else 0 for t in target])\n",
    "\n",
    "Model=classifier\n",
    "\n",
    "Model.eval()  # Set model to evaluation mode\n",
    "y_true = []\n",
    "y_probabilities = []\n",
    "\n",
    "# Iterate over test_loader to get predictions and true labels\n",
    "for inputs, labels in Noise_test_loader:\n",
    "    inputs, labels = inputs.to(device).to(torch.float32), labels.to(device).to(torch.long)\n",
    "\n",
    "    # Forward pass\n",
    "    outputs = Model(inputs)\n",
    "    probabilities = outputs\n",
    "    y_true.extend(labels.cpu().numpy())  # Collect true labels\n",
    "    y_probabilities.extend(probabilities[:, 0].detach().cpu().numpy())  # Collect probabilities for class 0\n",
    "\n",
    "y_true_binarized = binarize(y_true, 0)\n",
    "# Calculate calibration curve\n",
    "prob_true, prob_pred = calibration_curve(y_true_binarized, y_probabilities, n_bins=10)\n",
    "print(prob_)\n",
    "# Plot calibration curve\n",
    "plt.plot(prob_pred, prob_true, marker='o', label=\"Class\")\n",
    "plt.plot([0, 1], [0, 1], linestyle='--', label=\"Perfectly Calibrated\")\n",
    "plt.xlabel(\"Mean Predicted Probability\")\n",
    "plt.ylabel(\"Fraction of Positives\")\n",
    "plt.title(\"Calibration Curve\")\n",
    "plt.legend()\n",
    "plt.show()"
   ]
  },
  {
   "cell_type": "code",
   "execution_count": 33,
   "metadata": {},
   "outputs": [
    {
     "name": "stdout",
     "output_type": "stream",
     "text": [
      "49920\n"
     ]
    }
   ],
   "source": [
    "print(len(y_true_binarized))"
   ]
  }
 ],
 "metadata": {
  "kernelspec": {
   "display_name": "amlenv",
   "language": "python",
   "name": "python3"
  },
  "language_info": {
   "codemirror_mode": {
    "name": "ipython",
    "version": 3
   },
   "file_extension": ".py",
   "mimetype": "text/x-python",
   "name": "python",
   "nbconvert_exporter": "python",
   "pygments_lexer": "ipython3",
   "version": "3.10.11"
  }
 },
 "nbformat": 4,
 "nbformat_minor": 2
}
