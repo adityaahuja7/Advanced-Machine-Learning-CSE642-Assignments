{
 "cells": [
  {
   "cell_type": "code",
   "execution_count": 32,
   "metadata": {},
   "outputs": [],
   "source": [
    "import torch\n",
    "import requests\n",
    "import os\n",
    "import pandas as pd\n",
    "import numpy as np\n",
    "from torch.utils.data import DataLoader\n",
    "from torch.utils.data import Dataset\n",
    "from torch.utils.data import random_split\n",
    "import torch\n",
    "import torch.nn as nn\n",
    "import torch.optim as optim\n",
    "import matplotlib.pyplot as plt"
   ]
  },
  {
   "cell_type": "code",
   "execution_count": 2,
   "metadata": {},
   "outputs": [
    {
     "data": {
      "text/plain": [
       "'cuda'"
      ]
     },
     "execution_count": 2,
     "metadata": {},
     "output_type": "execute_result"
    }
   ],
   "source": [
    "device = (\n",
    "    \"cuda\"\n",
    "    if torch.cuda.is_available()\n",
    "    else \"mps\"\n",
    "    if torch.backends.mps.is_available()\n",
    "    else \"cpu\"\n",
    ")\n",
    "device"
   ]
  },
  {
   "cell_type": "code",
   "execution_count": 155,
   "metadata": {},
   "outputs": [],
   "source": [
    "Noise_0_dataframe = pd.read_csv(\"Data/Assignment1/data_0_noise\")\n",
    "Noise_Low_dataframe = pd.read_csv(\"Data/Assignment1/data_Low_noise\")\n",
    "Noise_High_dataframe = pd.read_csv(\"Data/Assignment1/data_High_noise\")"
   ]
  },
  {
   "cell_type": "code",
   "execution_count": 169,
   "metadata": {},
   "outputs": [],
   "source": [
    "dataframe=Noise_High_dataframe\n",
    "target_column=\"target_10_val\""
   ]
  },
  {
   "cell_type": "code",
   "execution_count": 162,
   "metadata": {},
   "outputs": [],
   "source": [
    "class_index = list(dataframe[target_column].unique())\n",
    "def encode(value, class_index = class_index):\n",
    "    return class_index.index(value)\n",
    "\n",
    "dataframe[target_column] = dataframe[target_column].apply(encode)"
   ]
  },
  {
   "cell_type": "markdown",
   "metadata": {},
   "source": [
    "## Setting up Dataset & Dataloaders"
   ]
  },
  {
   "cell_type": "code",
   "execution_count": 86,
   "metadata": {},
   "outputs": [],
   "source": [
    "class CustomDataset(Dataset):\n",
    "    def __init__(self, dataframe, noise, transform=None, target_transform=None,drop = None,target=None):\n",
    "        self.dataframe = dataframe\n",
    "        if drop != None:\n",
    "            self.X = dataframe.drop(drop, axis=1).values\n",
    "        else:\n",
    "            self.X = dataframe.values\n",
    "        self.y = dataframe[target].values\n",
    "        self.transform = transform\n",
    "        self.target_transform = target_transform\n",
    "        self.noise = noise\n",
    "\n",
    "    def __len__(self):\n",
    "        return len(self.dataframe)\n",
    "\n",
    "    def __getitem__(self, idx):\n",
    "        item, label = self.X[idx], self.y[idx]\n",
    "        return item, label\n",
    "\n",
    "    def get_noise(self):\n",
    "        return self.noise"
   ]
  },
  {
   "cell_type": "code",
   "execution_count": 87,
   "metadata": {},
   "outputs": [],
   "source": [
    "dataset = CustomDataset(dataframe, \"0\",drop = [\"row_num\",\"day\",\"era\",\"target_10_val\",\"target_5_val\",\"data_type\"],target=target_column)\n",
    "Noise_train, Noise_test = random_split(dataset, [int(0.8 * len(dataset)), len(dataset) - int(0.8 * len(dataset))])"
   ]
  },
  {
   "cell_type": "code",
   "execution_count": 88,
   "metadata": {},
   "outputs": [],
   "source": [
    "Noise_train_loader = DataLoader(Noise_train, batch_size=64, shuffle=True)\n",
    "Noise_test_loader = DataLoader(Noise_test, batch_size=64, shuffle=True)"
   ]
  },
  {
   "cell_type": "markdown",
   "metadata": {},
   "source": [
    "## NAL-MLP"
   ]
  },
  {
   "cell_type": "code",
   "execution_count": 89,
   "metadata": {},
   "outputs": [],
   "source": [
    "import torch.nn as nn\n",
    "import torch.nn.init as init"
   ]
  },
  {
   "cell_type": "code",
   "execution_count": 90,
   "metadata": {},
   "outputs": [],
   "source": [
    "class NAL_MLP(torch.nn.Module):\n",
    "    def __init__(self, modules, hidden_dim, output_dim):\n",
    "        super(NAL_MLP, self).__init__()\n",
    "        modules = nn.ModuleList([m for m in modules])\n",
    "        self.layers = torch.nn.Sequential(*modules)\n",
    "        self.att_layer=nn.Linear(hidden_dim,1)\n",
    "        self.softmax=nn.Softmax()\n",
    "        self.relu = nn.ReLU()\n",
    "        self.lastlinear = nn.Linear(hidden_dim,output_dim)\n",
    "        self.sigm =nn.Sigmoid()\n",
    "    \n",
    "    def forward(self, x):\n",
    "        x = self.layers(x)\n",
    "        y_hat = self.lastlinear(x)\n",
    "        y_hat = self.softmax(y_hat)\n",
    "        h = self.att_layer(x)\n",
    "        h=  self.sigm(h)\n",
    "        return y_hat,h"
   ]
  },
  {
   "cell_type": "code",
   "execution_count": 96,
   "metadata": {},
   "outputs": [],
   "source": [
    "import torch.nn as nn\n",
    "\n",
    "class CustomLoss(nn.Module):\n",
    "    def __init__(self,reg,no_of_class=12):\n",
    "        super(CustomLoss, self).__init__()\n",
    "        self.reg=reg\n",
    "        self.no_of_class=no_of_class\n",
    "\n",
    "    def forward(self, inputs, targets):\n",
    "        p=torch.Tensor(inputs[0]).to(device).t()\n",
    "        # Converting to 64 X 12 to 64 X 1\n",
    "        # _,p=torch.max(p,1)\n",
    "        targets=torch.eye(self.no_of_class).to(device)[targets].t()\n",
    "        tou=torch.Tensor(inputs[1]).to(device)\n",
    "        tou=tou.t()\n",
    "        # print(\"tou\",tou)\n",
    "        # print(tou)\n",
    "        loss_a= torch.t(targets)@torch.log(tou*(p-targets)+targets)\n",
    "        loss_b=self.reg*torch.log(tou)\n",
    "        loss_a=loss_a.diag().t()\n",
    "        # print(\"Loss a\",loss_a)\n",
    "        # print(\"Loss b\",loss_b)\n",
    "        loss=loss_a+loss_b\n",
    "        # print(\"loss\",loss.shape)\n",
    "        # print(\"return\",loss.mean().shape)\n",
    "        return -loss.mean()\n",
    "\n",
    "    def custom_p(p):\n",
    "        return p"
   ]
  },
  {
   "cell_type": "code",
   "execution_count": 97,
   "metadata": {},
   "outputs": [],
   "source": [
    "def train_model(model, criterion, optimizer, train_loader, val_loader, num_epochs=10,verbose=True):\n",
    "    train_losses = []\n",
    "    val_losses = []\n",
    "    train_accuracies = []\n",
    "    val_accuracies = []\n",
    "    model.to(device)\n",
    "    for epoch in range(num_epochs):\n",
    "        model.train()\n",
    "        running_train_loss = 0.0\n",
    "        correct_train = 0\n",
    "        total_train = 0\n",
    "        for inputs, labels in train_loader:\n",
    "            inputs, labels = inputs.to(device).to(torch.float32), labels.to(device).to(torch.long)\n",
    "            optimizer.zero_grad()\n",
    "            outputs = model(inputs)\n",
    "            # print(len(outputs),len(outputs[0]))\n",
    "            loss = criterion(outputs, labels)\n",
    "            loss.backward()\n",
    "            optimizer.step()\n",
    "            running_train_loss += loss.item()\n",
    "            _, predicted = torch.max(outputs[0], 1)\n",
    "            total_train += labels.size(0)\n",
    "            correct_train += (predicted == labels).sum().item()\n",
    "\n",
    "        train_loss = running_train_loss / len(train_loader)\n",
    "        train_accuracy = correct_train / total_train\n",
    "        train_losses.append(train_loss)\n",
    "        train_accuracies.append(train_accuracy)\n",
    "\n",
    "        model.eval()\n",
    "        running_val_loss = 0.0\n",
    "        correct_val = 0\n",
    "        total_val = 0\n",
    "\n",
    "        with torch.no_grad():\n",
    "            for inputs, labels in val_loader:\n",
    "                inputs, labels = inputs.to(device).to(torch.float32), labels.to(device).to(torch.long)\n",
    "                outputs = model(inputs)\n",
    "                loss = criterion(outputs, labels)\n",
    "                running_val_loss += loss.item()\n",
    "\n",
    "                _, predicted = torch.max(outputs[0], 1)\n",
    "                total_val += labels.size(0)\n",
    "                correct_val += (predicted == labels).sum().item()\n",
    "\n",
    "        val_loss = running_val_loss / len(val_loader)\n",
    "        val_accuracy = correct_val / total_val\n",
    "        val_losses.append(val_loss)\n",
    "        val_accuracies.append(val_accuracy)\n",
    "\n",
    "        print(f'Epoch [{epoch+1}/{num_epochs}], '\n",
    "              f'Train Loss: {train_loss:.4f}, Train Acc: {train_accuracy:.4f}, '\n",
    "              f'Val Loss: {val_loss:.4f}, Val Acc: {val_accuracy:.4f}')\n",
    "\n",
    "    # Plotting\n",
    "    plt.figure(figsize=(10, 5))\n",
    "    plt.subplot(1, 2, 1)\n",
    "    plt.plot(range(1, num_epochs + 1), train_losses, label='Train')\n",
    "    plt.plot(range(1, num_epochs + 1), val_losses, label='Validation')\n",
    "    plt.xlabel('Epochs')\n",
    "    plt.ylabel('Loss')\n",
    "    plt.title('Training and Validation Loss')\n",
    "    plt.legend()\n",
    "\n",
    "    plt.subplot(1, 2, 2)\n",
    "    plt.plot(range(1, num_epochs + 1), train_accuracies, label='Train')\n",
    "    plt.plot(range(1, num_epochs + 1), val_accuracies, label='Validation')\n",
    "    plt.xlabel('Epochs')\n",
    "    plt.ylabel('Accuracy')\n",
    "    plt.title('Training and Validation Accuracy')\n",
    "    plt.legend()\n",
    "\n",
    "    plt.show()"
   ]
  },
  {
   "cell_type": "code",
   "execution_count": 101,
   "metadata": {},
   "outputs": [],
   "source": [
    "modules = [torch.nn.Linear(24,64),torch.nn.ReLU(),torch.nn.Linear(64,128),torch.nn.Dropout(p = 0.2),torch.nn.ReLU(),torch.nn.Linear(128,64),torch.nn.Dropout(p = 0.2),torch.nn.ReLU()]\n",
    "Model = NAL_MLP(modules,64,5)\n",
    "Model = Model.to(device)"
   ]
  },
  {
   "cell_type": "code",
   "execution_count": 102,
   "metadata": {},
   "outputs": [
    {
     "name": "stdout",
     "output_type": "stream",
     "text": [
      "Epoch [1/10], Train Loss: 1.2857, Train Acc: 0.5337, Val Loss: 0.9895, Val Acc: 0.5883\n",
      "Epoch [2/10], Train Loss: 0.9636, Train Acc: 0.6033, Val Loss: 0.9131, Val Acc: 0.6182\n",
      "Epoch [3/10], Train Loss: 0.9187, Train Acc: 0.6199, Val Loss: 0.8896, Val Acc: 0.6260\n",
      "Epoch [4/10], Train Loss: 0.8905, Train Acc: 0.6281, Val Loss: 0.8613, Val Acc: 0.6372\n",
      "Epoch [5/10], Train Loss: 0.8762, Train Acc: 0.6331, Val Loss: 0.8561, Val Acc: 0.6375\n",
      "Epoch [6/10], Train Loss: 0.8644, Train Acc: 0.6379, Val Loss: 0.8472, Val Acc: 0.6385\n",
      "Epoch [7/10], Train Loss: 0.8561, Train Acc: 0.6414, Val Loss: 0.8405, Val Acc: 0.6429\n",
      "Epoch [8/10], Train Loss: 0.8514, Train Acc: 0.6417, Val Loss: 0.8425, Val Acc: 0.6397\n",
      "Epoch [9/10], Train Loss: 0.8462, Train Acc: 0.6438, Val Loss: 0.8345, Val Acc: 0.6433\n",
      "Epoch [10/10], Train Loss: 0.8425, Train Acc: 0.6451, Val Loss: 0.8420, Val Acc: 0.6388\n"
     ]
    },
    {
     "data": {
      "image/png": "[encoded data removed]",
      "text/plain": [
       "<Figure size 1000x500 with 2 Axes>"
      ]
     },
     "metadata": {},
     "output_type": "display_data"
    }
   ],
   "source": [
    "optimizer = optim.Adam(Model.parameters(), lr=0.001, weight_decay=0.0001)\n",
    "train_model(Model,CustomLoss(50,no_of_class=5), optimizer,Noise_train_loader, Noise_test_loader,num_epochs=10)"
   ]
  }
 ],
 "metadata": {
  "kernelspec": {
   "display_name": "Python 3",
   "language": "python",
   "name": "python3"
  },
  "language_info": {
   "codemirror_mode": {
    "name": "ipython",
    "version": 3
   },
   "file_extension": ".py",
   "mimetype": "text/x-python",
   "name": "python",
   "nbconvert_exporter": "python",
   "pygments_lexer": "ipython3",
   "version": "0.0.0"
  }
 },
 "nbformat": 4,
 "nbformat_minor": 2
}
