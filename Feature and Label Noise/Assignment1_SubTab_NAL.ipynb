{
 "cells": [
  {
   "cell_type": "code",
   "execution_count": 18,
   "metadata": {},
   "outputs": [],
   "source": [
    "import torch\n",
    "import requests\n",
    "import os\n",
    "import pandas as pd\n",
    "import numpy as np\n",
    "from torch.utils.data import DataLoader\n",
    "from torch.utils.data import Dataset\n",
    "from torch.utils.data import random_split\n",
    "from tqdm import tqdm\n",
    "import matplotlib.pyplot as plt\n",
    "device = torch.device(\n",
    "    \"cuda\"\n",
    "    if torch.cuda.is_available()\n",
    "    else \"mps\"\n",
    "    if torch.backends.mps.is_available()\n",
    "    else \"cpu\"\n",
    ")"
   ]
  },
  {
   "cell_type": "code",
   "execution_count": 2,
   "metadata": {},
   "outputs": [],
   "source": [
    "Noise_0_dataframe = pd.read_csv(\"../Data/Assignment1/data_0_noise\")\n",
    "Noise_Low_dataframe = pd.read_csv(\"../Data/Assignment1/data_Low_noise\")\n",
    "Noise_High_dataframe = pd.read_csv(\"../Data/Assignment1/data_High_noise\")"
   ]
  },
  {
   "cell_type": "code",
   "execution_count": 3,
   "metadata": {},
   "outputs": [],
   "source": [
    "dataframe=Noise_Low_dataframe\n",
    "validation_dataframe=Noise_High_dataframe\n",
    "target_columns=\"target_10_val\""
   ]
  },
  {
   "cell_type": "code",
   "execution_count": 4,
   "metadata": {},
   "outputs": [],
   "source": [
    "to_encode = \"target_10_val\"\n",
    "class_index = list(dataframe[to_encode].unique())\n",
    "def encode(value, class_index = class_index):\n",
    "    return class_index.index(value)\n",
    "\n",
    "dataframe[to_encode] = dataframe[to_encode].apply(encode)\n",
    "validation_dataframe[to_encode] = validation_dataframe[to_encode].apply(encode)"
   ]
  },
  {
   "cell_type": "code",
   "execution_count": 5,
   "metadata": {},
   "outputs": [],
   "source": [
    "class CustomDataset(Dataset):\n",
    "    def __init__(self, dataframe, noise, transform=None, target_transform=None, drop=None, target=None):\n",
    "        self.dataframe = dataframe\n",
    "        if drop != None:\n",
    "            self.X = dataframe.drop(drop, axis=1).values\n",
    "        else:\n",
    "            self.X = dataframe.values\n",
    "        \n",
    "        self.y = dataframe[target].values\n",
    "        self.transform = transform\n",
    "        self.target_transform = target_transform\n",
    "        self.noise = noise\n",
    "\n",
    "    def __len__(self):\n",
    "        return len(self.dataframe)\n",
    "\n",
    "    def __getitem__(self, idx):\n",
    "        item, label = self.X[idx], self.y[idx]\n",
    "        return item, label\n",
    "\n",
    "    def get_noise(self):\n",
    "        return self.noise"
   ]
  },
  {
   "cell_type": "code",
   "execution_count": 6,
   "metadata": {},
   "outputs": [],
   "source": [
    "dataset = CustomDataset(dataframe, \"0\",drop = [\"row_num\",\"day\",\"era\",\"target_10_val\",\"target_5_val\",\"data_type\"],target=target_columns)\n",
    "Noise_train, Noise_test = random_split(dataset, [int(0.8 * len(dataset)), len(dataset) - int(0.8 * len(dataset))])\n",
    "Noise_train_loader = DataLoader(Noise_train, batch_size=128, shuffle=True)\n",
    "Noise_test_loader = DataLoader(Noise_test, batch_size=128, shuffle=True)"
   ]
  },
  {
   "cell_type": "code",
   "execution_count": 7,
   "metadata": {},
   "outputs": [],
   "source": [
    "class EncoderClassifier(torch.nn.Module):\n",
    "    def __init__(self, encoder, latent_dim, layers, subset_size, overlap, activation=torch.nn.ReLU()):\n",
    "        super().__init__()\n",
    "        self.encoder = encoder\n",
    "        self.layers = []\n",
    "        linear = [torch.nn.Linear(layers[i], layers[i+1]) for i in range(len(layers)-1)]\n",
    "        self.latent_layer = torch.nn.Linear(latent_dim, layers[0])\n",
    "        \n",
    "        for i in range(len(linear)):\n",
    "            if (i == 0 or i == len(linear)-1):\n",
    "                self.layers.append(linear[i])\n",
    "            else:\n",
    "                self.layers.append(linear[i])\n",
    "                self.layers.append(activation)\n",
    "\n",
    "        self.layers = torch.nn.Sequential(*self.layers)\n",
    "        self.subset_size = subset_size\n",
    "        self.overlap = overlap\n",
    "        self.softmax = torch.nn.Softmax(dim=1)\n",
    "        self.att_layer = torch.nn.Linear(latent_dim, 1)\n",
    "        self.sigmoid = torch.nn.Sigmoid()\n",
    "        self.lrelu = torch.nn.LeakyReLU()\n",
    "\n",
    "    def forward(self, X):\n",
    "        subsets = []\n",
    "        num_columns = X.shape[1]\n",
    "        for i in range(0, num_columns-self.subset_size, self.subset_size-self.overlap):\n",
    "            subsets.append(X[:, i:i+self.subset_size])\n",
    "\n",
    "        preds = 0\n",
    "        h = 0\n",
    "        for subset in subsets:\n",
    "            pred = self.encoder(subset)\n",
    "            pred = self.latent_layer(pred)\n",
    "            h = self.att_layer(pred)\n",
    "            pred = self.lrelu(pred)\n",
    "            pred = self.layers(pred)\n",
    "            pred = self.softmax(pred)\n",
    "            preds += pred\n",
    "\n",
    "        h = h/len(subsets)\n",
    "        h = self.sigmoid(h)\n",
    "        preds = preds/len(subsets)\n",
    "\n",
    "        return preds, h"
   ]
  },
  {
   "cell_type": "code",
   "execution_count": 8,
   "metadata": {},
   "outputs": [],
   "source": [
    "class SubsetAutoencoder (torch.nn.Module):\n",
    "    def __init__(self, encoder_sizes,decoder_sizes,activation = torch.nn.ReLU()):\n",
    "        super().__init__()\n",
    "        linear_encoder = [torch.nn.Linear(encoder_sizes[i],encoder_sizes[i+1]) for i in range(len(encoder_sizes)-1)]\n",
    "        linear_decoder = [torch.nn.Linear(decoder_sizes[i],decoder_sizes[i+1]) for i in range(len(decoder_sizes)-1)]\n",
    "        self.encoder = torch.nn.Sequential(*[l for layer in linear_encoder for l in (layer, activation)])\n",
    "        self.decoder = torch.nn.Sequential(*[l for layer in linear_decoder for l in (layer, activation)])\n",
    "        \n",
    "    def forward(self,X):\n",
    "        X = self.encoder(X)\n",
    "        X = self.decoder(X)\n",
    "        return X\n",
    "    \n",
    "    def get_encoder(self):\n",
    "        return self.encoder\n",
    "    \n",
    "    def get_decoder(self):\n",
    "        return self.decoder"
   ]
  },
  {
   "cell_type": "code",
   "execution_count": 9,
   "metadata": {},
   "outputs": [],
   "source": [
    "import torch.nn as nn\n",
    "\n",
    "class CustomLoss(nn.Module):\n",
    "    def __init__(self,reg,no_of_class=12):\n",
    "        super(CustomLoss, self).__init__()\n",
    "        self.reg=reg\n",
    "        self.no_of_class=no_of_class\n",
    "\n",
    "    def forward(self, inputs, targets):\n",
    "        p=torch.Tensor(inputs[0]).to(device).t()\n",
    "        # Converting to 64 X 12 to 64 X 1\n",
    "        # _,p=torch.max(p,1)\n",
    "        targets=torch.eye(self.no_of_class).to(device)[targets].t()\n",
    "        tou=torch.Tensor(inputs[1]).to(device)\n",
    "        tou=tou.t()\n",
    "        # print(\"tou\",tou)\n",
    "        # print(tou)\n",
    "        loss_a= torch.t(targets)@torch.log(tou*(p-targets)+targets)\n",
    "        loss_b=self.reg*torch.log(tou)\n",
    "        loss_a=loss_a.diag().t()\n",
    "        # print(\"Loss a\",loss_a)\n",
    "        # print(\"Loss b\",loss_b)\n",
    "        loss=loss_a+loss_b\n",
    "        # print(\"loss\",loss.shape)\n",
    "        # print(\"return\",loss.mean().shape)\n",
    "        return -loss.mean()\n",
    "\n",
    "    def custom_p(p):\n",
    "        return p"
   ]
  },
  {
   "cell_type": "code",
   "execution_count": 26,
   "metadata": {},
   "outputs": [],
   "source": [
    "def get_subsets(current_batch,subset_size,overlap):\n",
    "        subsets = []\n",
    "        num_columns = current_batch.shape[1]\n",
    "        for i in range(0, num_columns-subset_size,subset_size-overlap):\n",
    "            subsets.append(current_batch[:,i:i+subset_size])\n",
    "        return subsets\n",
    "\n",
    "\n",
    "def train_ae(model,criterion,optimizer,epochs,trainloader,testloader,subset_size = 10,overlap = 4,lr = 0.001 , verbose = True):\n",
    "    optimizer = optimizer(model.parameters(), lr=lr)\n",
    "    train_loss = []\n",
    "    val_loss = []\n",
    "    for epoch in range(epochs):\n",
    "        current_train_loss = 0\n",
    "        current_accuracy = []\n",
    "        for data, _ in tqdm(trainloader,desc = \"Training Epoch \"+str(epoch)):\n",
    "            data= data.to(device).float()\n",
    "            subsets = get_subsets(data,subset_size,overlap)\n",
    "            optimizer.zero_grad()\n",
    "            recons = []\n",
    "            subset_loss = 0\n",
    "            for subset in subsets:\n",
    "                output = model(subset)\n",
    "                recons.append(output)\n",
    "                subset_loss += criterion(data,output)\n",
    "            subset_loss = subset_loss.mean()\n",
    "            subset_loss.backward()\n",
    "            optimizer.step()\n",
    "        print(f\"epoch-{epoch} loss:\",subset_loss)\n",
    "        \n",
    "def train_classifier(model,criterion,optimizer,epochs,trainloader,testloader,lr=0.001,verbose = True,subset_size = 10,overlap = 2):\n",
    "    optimizer = optimizer(model.parameters(), lr=lr)\n",
    "    train_loss = []\n",
    "    val_loss = []\n",
    "    for epoch in range(epochs):\n",
    "        running_train_loss = 0\n",
    "        total_train = 0\n",
    "        correct_train = 0\n",
    "        current_accuracy = []\n",
    "        for data, target in tqdm(trainloader,desc = \"Training Epoch \"+str(epoch)):\n",
    "            data, target = data.to(device).float(), target.to(device).long()\n",
    "            subsets = get_subsets(data,subset_size,overlap)\n",
    "            optimizer.zero_grad()\n",
    "            output = model(data)\n",
    "            loss = criterion(output,target)\n",
    "            loss.backward()\n",
    "            optimizer.step()\n",
    "            \n",
    "            _, predicted = torch.max(output[0], 1)\n",
    "            total_train += target.size(0)\n",
    "            correct_train += (predicted == target).sum().item()\n",
    "            current_accuracy.append(correct_train/total_train)\n",
    "            running_train_loss+=loss\n",
    "        \n",
    "        running_train_loss /= len(trainloader)    \n",
    "        print(f\"epoch-{epoch} loss:{running_train_loss} accuracy:{correct_train/total_train}\")"
   ]
  },
  {
   "cell_type": "code",
   "execution_count": 33,
   "metadata": {},
   "outputs": [],
   "source": [
    "def train_classifier(model, criterion, optimizer, epochs, trainloader, testloader, lr=0.001, verbose=True, subset_size=10, overlap=2):\n",
    "    optimizer = optimizer(model.parameters(), lr=lr)\n",
    "    train_loss = []\n",
    "    val_loss = []\n",
    "    train_accuracy = []\n",
    "    val_accuracy = []\n",
    "    \n",
    "    for epoch in range(epochs):\n",
    "        running_train_loss = 0\n",
    "        total_train = 0\n",
    "        correct_train = 0\n",
    "        \n",
    "        # Training\n",
    "        model.train()\n",
    "        for data, target in tqdm(trainloader, desc=\"Training Epoch \" + str(epoch)):\n",
    "            data, target = data.to(device).float(), target.to(device).long()\n",
    "            optimizer.zero_grad()\n",
    "            output = model(data)\n",
    "            loss = criterion(output, target)\n",
    "            loss.backward()\n",
    "            optimizer.step()\n",
    "            \n",
    "            _, predicted = torch.max(output[0], 1)\n",
    "            total_train += target.size(0)\n",
    "            correct_train += (predicted == target).sum().item()\n",
    "            running_train_loss += loss.item()\n",
    "            \n",
    "        accuracy = correct_train / total_train\n",
    "        train_accuracy.append(accuracy)\n",
    "        running_train_loss /= len(trainloader)\n",
    "        train_loss.append(running_train_loss)\n",
    "        \n",
    "        # Validation\n",
    "        model.eval()\n",
    "        running_val_loss = 0\n",
    "        total_val = 0\n",
    "        correct_val = 0\n",
    "        with torch.no_grad():\n",
    "            for data, target in tqdm(testloader, desc=\"Validation Epoch \" + str(epoch)):\n",
    "                data, target = data.to(device).float(), target.to(device).long()\n",
    "                output = model(data)\n",
    "                loss = criterion(output, target)\n",
    "                running_val_loss += loss.item()\n",
    "                \n",
    "                _, predicted = torch.max(output[0], 1)\n",
    "                total_val += target.size(0)\n",
    "                correct_val += (predicted == target).sum().item()\n",
    "        \n",
    "        running_val_loss /= len(testloader)\n",
    "        val_loss.append(running_val_loss)\n",
    "        accuracy_val = correct_val / total_val\n",
    "        val_accuracy.append(accuracy_val)\n",
    "        \n",
    "        if verbose:\n",
    "            print(f\"Epoch [{epoch+1}/{epochs}], Train Loss: {train_loss[-1]:.4f}, Train Accuracy: {accuracy:.4f}, Validation Loss: {val_loss[-1]:.4f}, Validation Accuracy: {accuracy_val:.4f}\")\n",
    "\n",
    "    # Plotting\n",
    "    plt.figure(figsize=(10, 5))\n",
    "    plt.plot(train_loss, label='Train Loss')\n",
    "    plt.plot(val_loss, label='Validation Loss')\n",
    "    plt.xlabel('Epochs')\n",
    "    plt.ylabel('Loss')\n",
    "    plt.title('Training and Validation Loss')\n",
    "    plt.legend()\n",
    "    plt.show()\n",
    "    \n",
    "    plt.figure(figsize=(10, 5))\n",
    "    plt.plot(train_accuracy, label='Train Accuracy')\n",
    "    plt.plot(val_accuracy, label='Validation Accuracy')\n",
    "    plt.xlabel('Epochs')\n",
    "    plt.ylabel('Accuracy')\n",
    "    plt.title('Training and Validation Accuracy')\n",
    "    plt.legend()\n",
    "    plt.show()\n",
    "    \n",
    "    return train_loss, val_loss, train_accuracy, val_accuracy"
   ]
  },
  {
   "cell_type": "code",
   "execution_count": 19,
   "metadata": {},
   "outputs": [],
   "source": [
    "def train_ae(model, criterion, optimizer, epochs, trainloader, testloader, subset_size=10, overlap=4, lr=0.001, verbose=True):\n",
    "    optimizer = optimizer(model.parameters(), lr=lr)\n",
    "    train_loss = []\n",
    "    val_loss = []\n",
    "    for epoch in range(epochs):\n",
    "        # Training\n",
    "        model.train()\n",
    "        current_train_loss = 0\n",
    "        for data, _ in tqdm(trainloader, desc=\"Training Epoch \" + str(epoch)):\n",
    "            data = data.to(device).float()\n",
    "            subsets = get_subsets(data, subset_size, overlap)\n",
    "            optimizer.zero_grad()\n",
    "            recons = []\n",
    "            subset_loss = 0\n",
    "            for subset in subsets:\n",
    "                output = model(subset)\n",
    "                recons.append(output)\n",
    "                subset_loss += criterion(data, output)\n",
    "            subset_loss = subset_loss.mean()\n",
    "            subset_loss.backward()\n",
    "            optimizer.step()\n",
    "            current_train_loss += subset_loss.item() * data.size(0)\n",
    "        train_loss.append(current_train_loss / len(trainloader.dataset))\n",
    "        \n",
    "        # Validation\n",
    "        model.eval()\n",
    "        current_val_loss = 0\n",
    "        with torch.no_grad():\n",
    "            for data, _ in tqdm(testloader, desc=\"Validation Epoch \" + str(epoch)):\n",
    "                data = data.to(device).float()\n",
    "                subsets = get_subsets(data, subset_size, overlap)\n",
    "                recons = []\n",
    "                subset_loss = 0\n",
    "                for subset in subsets:\n",
    "                    output = model(subset)\n",
    "                    recons.append(output)\n",
    "                    subset_loss += criterion(data, output)\n",
    "                subset_loss = subset_loss.mean()\n",
    "                current_val_loss += subset_loss.item() * data.size(0)\n",
    "            val_loss.append(current_val_loss / len(testloader.dataset))\n",
    "        \n",
    "        if verbose:\n",
    "            print(f\"Epoch [{epoch}/{epochs}], Train Loss: {train_loss[-1]}, Validation Loss: {val_loss[-1]}\")\n",
    "        \n",
    "    plt.figure(figsize=(10, 5))\n",
    "    plt.plot(train_loss, label='Train Loss')\n",
    "    plt.plot(val_loss, label='Validation Loss')\n",
    "    plt.xlabel('Epochs')\n",
    "    plt.ylabel('Loss')\n",
    "    plt.title('Training and Validation Loss')\n",
    "    plt.legend()\n",
    "    plt.show()\n",
    "    \n",
    "    return train_loss, val_loss"
   ]
  },
  {
   "cell_type": "code",
   "execution_count": 20,
   "metadata": {},
   "outputs": [
    {
     "data": {
      "text/plain": [
       "SubsetAutoencoder(\n",
       "  (encoder): Sequential(\n",
       "    (0): Linear(in_features=12, out_features=32, bias=True)\n",
       "    (1): ReLU()\n",
       "    (2): Linear(in_features=32, out_features=16, bias=True)\n",
       "    (3): ReLU()\n",
       "    (4): Linear(in_features=16, out_features=8, bias=True)\n",
       "    (5): ReLU()\n",
       "  )\n",
       "  (decoder): Sequential(\n",
       "    (0): Linear(in_features=8, out_features=16, bias=True)\n",
       "    (1): ReLU()\n",
       "    (2): Linear(in_features=16, out_features=32, bias=True)\n",
       "    (3): ReLU()\n",
       "    (4): Linear(in_features=32, out_features=24, bias=True)\n",
       "    (5): ReLU()\n",
       "  )\n",
       ")"
      ]
     },
     "execution_count": 20,
     "metadata": {},
     "output_type": "execute_result"
    }
   ],
   "source": [
    "model = SubsetAutoencoder(encoder_sizes=[12,32,16,8],decoder_sizes=[8,16,32,24])\n",
    "model.to(device)"
   ]
  },
  {
   "cell_type": "code",
   "execution_count": 21,
   "metadata": {},
   "outputs": [
    {
     "name": "stderr",
     "output_type": "stream",
     "text": [
      "Training Epoch 0: 100%|██████████| 1950/1950 [00:27<00:00, 69.78it/s]\n",
      "Validation Epoch 0: 100%|██████████| 488/488 [00:02<00:00, 169.97it/s]\n"
     ]
    },
    {
     "name": "stdout",
     "output_type": "stream",
     "text": [
      "Epoch [0/1], Train Loss: 0.32727764267187853, Validation Loss: 0.30343514097042573\n"
     ]
    },
    {
     "data": {
      "image/png": "[encoded data removed]",
      "text/plain": [
       "<Figure size 1000x500 with 1 Axes>"
      ]
     },
     "metadata": {},
     "output_type": "display_data"
    },
    {
     "data": {
      "text/plain": [
       "([0.32727764267187853], [0.30343514097042573])"
      ]
     },
     "execution_count": 21,
     "metadata": {},
     "output_type": "execute_result"
    }
   ],
   "source": [
    "optimizer = torch.optim.Adam\n",
    "criterion = torch.nn.MSELoss()\n",
    "train_ae(model,criterion,optimizer,2,Noise_train_loader,Noise_test_loader,subset_size = 12,overlap = 2)"
   ]
  },
  {
   "cell_type": "code",
   "execution_count": 23,
   "metadata": {},
   "outputs": [],
   "source": [
    "encoder = model.get_encoder()"
   ]
  },
  {
   "cell_type": "code",
   "execution_count": 34,
   "metadata": {},
   "outputs": [
    {
     "name": "stdout",
     "output_type": "stream",
     "text": [
      "EncoderClassifier(\n",
      "  (encoder): Sequential(\n",
      "    (0): Linear(in_features=12, out_features=32, bias=True)\n",
      "    (1): ReLU()\n",
      "    (2): Linear(in_features=32, out_features=16, bias=True)\n",
      "    (3): ReLU()\n",
      "    (4): Linear(in_features=16, out_features=8, bias=True)\n",
      "    (5): ReLU()\n",
      "  )\n",
      "  (latent_layer): Linear(in_features=8, out_features=8, bias=True)\n",
      "  (layers): Sequential(\n",
      "    (0): Linear(in_features=8, out_features=5, bias=True)\n",
      "  )\n",
      "  (softmax): Softmax(dim=1)\n",
      "  (att_layer): Linear(in_features=8, out_features=1, bias=True)\n",
      "  (sigmoid): Sigmoid()\n",
      "  (lrelu): LeakyReLU(negative_slope=0.01)\n",
      ")\n"
     ]
    }
   ],
   "source": [
    "classifier = EncoderClassifier(encoder,8,[8,5],12,6)\n",
    "classifier = classifier.to(device)\n",
    "print(classifier)"
   ]
  },
  {
   "cell_type": "code",
   "execution_count": 35,
   "metadata": {},
   "outputs": [
    {
     "name": "stderr",
     "output_type": "stream",
     "text": [
      "Training Epoch 0: 100%|██████████| 1950/1950 [00:34<00:00, 56.74it/s]\n",
      "Validation Epoch 0: 100%|██████████| 488/488 [00:05<00:00, 91.97it/s] \n"
     ]
    },
    {
     "name": "stdout",
     "output_type": "stream",
     "text": [
      "Epoch [1/3], Train Loss: 1.3712, Train Accuracy: 0.5661, Validation Loss: 0.9034, Validation Accuracy: 0.6697\n"
     ]
    },
    {
     "name": "stderr",
     "output_type": "stream",
     "text": [
      "Training Epoch 1: 100%|██████████| 1950/1950 [00:35<00:00, 55.43it/s]\n",
      "Validation Epoch 1: 100%|██████████| 488/488 [00:03<00:00, 135.53it/s]\n"
     ]
    },
    {
     "name": "stdout",
     "output_type": "stream",
     "text": [
      "Epoch [2/3], Train Loss: 0.8712, Train Accuracy: 0.6850, Validation Loss: 0.8701, Validation Accuracy: 0.6925\n"
     ]
    },
    {
     "name": "stderr",
     "output_type": "stream",
     "text": [
      "Training Epoch 2: 100%|██████████| 1950/1950 [00:35<00:00, 54.97it/s]\n",
      "Validation Epoch 2: 100%|██████████| 488/488 [00:03<00:00, 147.34it/s]\n"
     ]
    },
    {
     "name": "stdout",
     "output_type": "stream",
     "text": [
      "Epoch [3/3], Train Loss: 0.8439, Train Accuracy: 0.6944, Validation Loss: 0.8366, Validation Accuracy: 0.6987\n"
     ]
    },
    {
     "data": {
      "image/png": "[encoded data removed]",
      "text/plain": [
       "<Figure size 1000x500 with 1 Axes>"
      ]
     },
     "metadata": {},
     "output_type": "display_data"
    },
    {
     "data": {
      "image/png": "[encoded data removed]",
      "text/plain": [
       "<Figure size 1000x500 with 1 Axes>"
      ]
     },
     "metadata": {},
     "output_type": "display_data"
    }
   ],
   "source": [
    "train_loss,val_loss,t_acc,v_acc=train_classifier(classifier,CustomLoss(50,no_of_class=5),torch.optim.Adam,3,Noise_train_loader,Noise_test_loader,subset_size = 12,overlap = 6)"
   ]
  },
  {
   "cell_type": "code",
   "execution_count": 36,
   "metadata": {},
   "outputs": [
    {
     "name": "stdout",
     "output_type": "stream",
     "text": [
      "[1.3712183061012855, 0.8712462839102134, 0.8438594071681683]\n",
      "[0.9034472818745941, 0.8701152744107559, 0.8366019807633807]\n"
     ]
    }
   ],
   "source": [
    "print(train_loss)\n",
    "print(val_loss)"
   ]
  },
  {
   "cell_type": "code",
   "execution_count": 38,
   "metadata": {},
   "outputs": [
    {
     "name": "stdout",
     "output_type": "stream",
     "text": [
      "[0.56609375, 0.6850240384615385, 0.6944310897435897]\n",
      "[0.6696794871794872, 0.692451923076923, 0.6987339743589743]\n"
     ]
    }
   ],
   "source": [
    "print(t_acc)\n",
    "print(v_acc)"
   ]
  }
 ],
 "metadata": {
  "kernelspec": {
   "display_name": "amlenv",
   "language": "python",
   "name": "python3"
  },
  "language_info": {
   "codemirror_mode": {
    "name": "ipython",
    "version": 3
   },
   "file_extension": ".py",
   "mimetype": "text/x-python",
   "name": "python",
   "nbconvert_exporter": "python",
   "pygments_lexer": "ipython3",
   "version": "3.10.11"
  }
 },
 "nbformat": 4,
 "nbformat_minor": 2
}
