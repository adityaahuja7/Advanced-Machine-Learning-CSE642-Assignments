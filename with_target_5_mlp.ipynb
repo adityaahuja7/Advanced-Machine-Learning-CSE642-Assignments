{
 "cells": [
  {
   "cell_type": "code",
   "execution_count": 1,
   "metadata": {},
   "outputs": [],
   "source": [
    "import torch\n",
    "import requests\n",
    "import os\n",
    "import pandas as pd\n",
    "import numpy as np\n",
    "from torch.utils.data import DataLoader\n",
    "from torch.utils.data import Dataset\n",
    "from torch.utils.data import random_split"
   ]
  },
  {
   "cell_type": "code",
   "execution_count": 2,
   "metadata": {},
   "outputs": [
    {
     "data": {
      "text/plain": [
       "'cuda'"
      ]
     },
     "execution_count": 2,
     "metadata": {},
     "output_type": "execute_result"
    }
   ],
   "source": [
    "device = (\n",
    "    \"cuda\"\n",
    "    if torch.cuda.is_available()\n",
    "    else \"mps\"\n",
    "    if torch.backends.mps.is_available()\n",
    "    else \"cpu\"\n",
    ")\n",
    "device"
   ]
  },
  {
   "cell_type": "code",
   "execution_count": 3,
   "metadata": {},
   "outputs": [],
   "source": [
    "Noise_0_dataframe = pd.read_csv(\"Data/Assignment1/data_0_noise\")\n",
    "Noise_Low_dataframe = pd.read_csv(\"Data/Assignment1/data_Low_noise\")\n",
    "Noise_High_dataframe = pd.read_csv(\"Data/Assignment1/data_High_noise\")"
   ]
  },
  {
   "cell_type": "code",
   "execution_count": 4,
   "metadata": {},
   "outputs": [
    {
     "data": {
      "text/plain": [
       "Index(['Open_n_val', 'High_n_val', 'Low_n_val', 'Close_n_val', 'Volume_n_val',\n",
       "       'SMA_10_val', 'SMA_20_val', 'CMO_14_val', 'High_n-Low_n_val',\n",
       "       'Open_n-Close_n_val', 'SMA_20-SMA_10_val', 'Close_n_slope_3_val',\n",
       "       'Close_n_slope_5_val', 'Close_n_slope_10_val', 'Open_n_changelen_val',\n",
       "       'High_n_changelen_val', 'Low_n_changelen_val', 'Close_n_changelen_val',\n",
       "       'High_n-Low_n_changelen_val', 'Open_n-Close_n_changelen_val',\n",
       "       'SMA_20-SMA_10_changelen_val', 'Close_n_slope_3_changelen_val',\n",
       "       'Close_n_slope_5_changelen_val', 'Close_n_slope_10_changelen_val',\n",
       "       'row_num', 'day', 'era', 'target_10_val', 'target_5_val'],\n",
       "      dtype='object')"
      ]
     },
     "execution_count": 4,
     "metadata": {},
     "output_type": "execute_result"
    }
   ],
   "source": [
    "Noise_0_dataframe.columns"
   ]
  },
  {
   "cell_type": "code",
   "execution_count": 5,
   "metadata": {},
   "outputs": [],
   "source": [
    "dataframe=Noise_High_dataframe\n",
    "target_column_1=\"target_5_val\"\n",
    "target_column_2=\"target_10_val\""
   ]
  },
  {
   "cell_type": "code",
   "execution_count": 6,
   "metadata": {},
   "outputs": [],
   "source": [
    "class_index = list(dataframe[target_column_1].unique())\n",
    "def encode(value, class_index = class_index):\n",
    "    return class_index.index(value)\n",
    "\n",
    "dataframe[target_column_1] = dataframe[target_column_1].apply(encode)"
   ]
  },
  {
   "cell_type": "code",
   "execution_count": 7,
   "metadata": {},
   "outputs": [],
   "source": [
    "class_index = list(dataframe[target_column_2].unique())\n",
    "def encode(value, class_index = class_index):\n",
    "    return class_index.index(value)\n",
    "\n",
    "dataframe[target_column_2] = dataframe[target_column_2].apply(encode)"
   ]
  },
  {
   "cell_type": "markdown",
   "metadata": {},
   "source": [
    "## Setting up Dataset & Dataloaders"
   ]
  },
  {
   "cell_type": "code",
   "execution_count": 8,
   "metadata": {},
   "outputs": [],
   "source": [
    "class CustomDataset(Dataset):\n",
    "    def __init__(self, dataframe, noise, transform=None, target_transform=None,drop = None,target=None):\n",
    "        self.dataframe = dataframe\n",
    "        if drop != None:\n",
    "            self.X = dataframe.drop(drop, axis=1).values\n",
    "        else:\n",
    "            self.X = dataframe.values\n",
    "        self.y = dataframe[target].values\n",
    "        self.transform = transform\n",
    "        self.target_transform = target_transform\n",
    "        self.noise = noise\n",
    "\n",
    "    def __len__(self):\n",
    "        return len(self.dataframe)\n",
    "\n",
    "    def __getitem__(self, idx):\n",
    "        item, label = self.X[idx], self.y[idx]\n",
    "        return item, label\n",
    "\n",
    "    def get_noise(self):\n",
    "        return self.noise"
   ]
  },
  {
   "cell_type": "code",
   "execution_count": 9,
   "metadata": {},
   "outputs": [],
   "source": [
    "dataset = CustomDataset(dataframe, \"0\",drop = [\"row_num\",\"day\",\"era\",\"target_10_val\",\"target_5_val\",\"data_type\"],target=[target_column_1,target_column_2])\n",
    "Noise_train, Noise_test = random_split(dataset, [int(0.8 * len(dataset)), len(dataset) - int(0.8 * len(dataset))])"
   ]
  },
  {
   "cell_type": "code",
   "execution_count": 10,
   "metadata": {},
   "outputs": [],
   "source": [
    "Noise_train_loader = DataLoader(Noise_train, batch_size=64, shuffle=True)\n",
    "Noise_test_loader = DataLoader(Noise_test, batch_size=64, shuffle=True)"
   ]
  },
  {
   "cell_type": "code",
   "execution_count": 11,
   "metadata": {},
   "outputs": [
    {
     "data": {
      "text/plain": [
       "Index(['Open_n_val', 'High_n_val', 'Low_n_val', 'Close_n_val', 'Volume_n_val',\n",
       "       'SMA_10_val', 'SMA_20_val', 'CMO_14_val', 'High_n-Low_n_val',\n",
       "       'Open_n-Close_n_val', 'SMA_20-SMA_10_val', 'Close_n_slope_3_val',\n",
       "       'Close_n_slope_5_val', 'Close_n_slope_10_val', 'Open_n_changelen_val',\n",
       "       'High_n_changelen_val', 'Low_n_changelen_val', 'Close_n_changelen_val',\n",
       "       'High_n-Low_n_changelen_val', 'Open_n-Close_n_changelen_val',\n",
       "       'SMA_20-SMA_10_changelen_val', 'Close_n_slope_3_changelen_val',\n",
       "       'Close_n_slope_5_changelen_val', 'Close_n_slope_10_changelen_val',\n",
       "       'row_num', 'day', 'era', 'target_10_val', 'target_5_val', 'data_type'],\n",
       "      dtype='object')"
      ]
     },
     "execution_count": 11,
     "metadata": {},
     "output_type": "execute_result"
    }
   ],
   "source": [
    "dataframe.columns"
   ]
  },
  {
   "cell_type": "markdown",
   "metadata": {},
   "source": [
    "## TWO-MLP"
   ]
  },
  {
   "cell_type": "code",
   "execution_count": 12,
   "metadata": {},
   "outputs": [],
   "source": [
    "import torch.nn as nn\n",
    "import torch.nn.init as init"
   ]
  },
  {
   "cell_type": "code",
   "execution_count": 13,
   "metadata": {},
   "outputs": [],
   "source": [
    "class TWO_MLP(torch.nn.Module):\n",
    "    def __init__(self, input_dim, hidden_dim, output_dim):\n",
    "        super(TWO_MLP, self).__init__()\n",
    "        self.fc1 = nn.Linear(input_dim, hidden_dim)\n",
    "        self.fc2 = nn.Linear(hidden_dim, output_dim)\n",
    "        self.fc3 = nn.Linear(hidden_dim,output_dim)\n",
    "        self.softmax=nn.Softmax()\n",
    "        self.relu = nn.ReLU()\n",
    "        self.sigm =nn.Sigmoid()\n",
    "    \n",
    "    def forward(self, x):\n",
    "        x = self.fc1(x)\n",
    "        x = self.relu(x)\n",
    "        y_hat_1 = self.fc2(x)\n",
    "        y_hat_1 = self.softmax(y_hat_1)\n",
    "        y_hat_2 = self.fc3(x)\n",
    "        y_hat_2 =self.softmax(y_hat_2)\n",
    "        return y_hat_1,y_hat_2"
   ]
  },
  {
   "cell_type": "code",
   "execution_count": 14,
   "metadata": {},
   "outputs": [],
   "source": [
    "import torch.nn as nn\n",
    "\n",
    "class CustomLoss(nn.Module):\n",
    "    def __init__(self,reg,no_of_class=12):\n",
    "        super(CustomLoss, self).__init__()\n",
    "        self.reg=reg\n",
    "        self.no_of_class=12\n",
    "\n",
    "    def forward(self, inputs, targets):\n",
    "        p=torch.Tensor(inputs[0]).to(device).t()\n",
    "        # Converting to 64 X 12 to 64 X 1\n",
    "        # _,p=torch.max(p,1)\n",
    "        targets=torch.eye(self.no_of_class).to(device)[targets].t()\n",
    "        tou=torch.Tensor(inputs[1]).to(device)\n",
    "        tou=tou.t()\n",
    "        # print(\"tou\",tou)\n",
    "        # print(tou)\n",
    "        loss_a= torch.t(targets)@torch.log(tou*(p-targets)+targets)\n",
    "        loss_b=self.reg*torch.log(tou)\n",
    "        loss_a=loss_a.diag().t()\n",
    "        # print(\"Loss a\",loss_a)\n",
    "        # print(\"Loss b\",loss_b)\n",
    "        loss=loss_a+loss_b\n",
    "        # print(\"loss\",loss.shape)\n",
    "        # print(\"return\",loss.mean().shape)\n",
    "        return -loss.mean()\n",
    "\n",
    "    def custom_p(p):\n",
    "        return p"
   ]
  },
  {
   "cell_type": "code",
   "execution_count": 15,
   "metadata": {},
   "outputs": [],
   "source": [
    "import torch\n",
    "import torch.nn as nn\n",
    "import torch.optim as optim\n",
    "import matplotlib.pyplot as plt\n",
    "\n",
    "def train_model(model, criterion, optimizer, train_loader, val_loader, num_epochs=10,verbose=True):\n",
    "    train_losses = []\n",
    "    val_losses = []\n",
    "    train_accuracies = []\n",
    "    val_accuracies = []\n",
    "    model.to(device)\n",
    "    for epoch in range(num_epochs):\n",
    "        model.train()\n",
    "        running_train_loss = 0.0\n",
    "        correct_train = 0\n",
    "        total_train = 0\n",
    "        for inputs, labels in train_loader:\n",
    "            inputs, labels = inputs.to(device).to(torch.float32), labels.to(device).to(torch.long)\n",
    "            optimizer.zero_grad()\n",
    "            outputs_0,outputs_1 = model(inputs)\n",
    "            # print(len(outputs),len(outputs[0]))\n",
    "            loss1 = criterion(outputs_0, labels[:,0])\n",
    "            loss2 = criterion(outputs_1, labels[:,1])\n",
    "            loss  = loss1 + loss2\n",
    "            loss.backward()\n",
    "            optimizer.step()\n",
    "            running_train_loss += loss.item()\n",
    "            _, predicted = torch.max(outputs_1, 1)\n",
    "            total_train += labels.size(0)\n",
    "            correct_train += (predicted == labels[:,1]).sum().item()\n",
    "\n",
    "        train_loss = running_train_loss / len(train_loader)\n",
    "        train_accuracy = correct_train / total_train\n",
    "        train_losses.append(train_loss)\n",
    "        train_accuracies.append(train_accuracy)\n",
    "\n",
    "        model.eval()\n",
    "        running_val_loss = 0.0\n",
    "        correct_val = 0\n",
    "        total_val = 0\n",
    "\n",
    "        with torch.no_grad():\n",
    "            for inputs, labels in val_loader:\n",
    "                inputs, labels = inputs.to(device).to(torch.float32), labels.to(device).to(torch.long)\n",
    "                outputs_0,outputs_1 = model(inputs)\n",
    "                loss = criterion(outputs_1, labels[:,1])\n",
    "                running_val_loss += loss.item()\n",
    "\n",
    "                _, predicted = torch.max(outputs_1, 1)\n",
    "                total_val += labels.size(0)\n",
    "                correct_val += (predicted == labels[:,1]).sum().item()\n",
    "\n",
    "        val_loss = running_val_loss / len(val_loader)\n",
    "        val_accuracy = correct_val / total_val\n",
    "        val_losses.append(val_loss)\n",
    "        val_accuracies.append(val_accuracy)\n",
    "\n",
    "        print(f'Epoch [{epoch+1}/{num_epochs}], '\n",
    "              f'Train Loss: {train_loss:.4f}, Train Acc: {train_accuracy:.4f}, '\n",
    "              f'Val Loss: {val_loss:.4f}, Val Acc: {val_accuracy:.4f}')\n",
    "\n",
    "    # Plotting\n",
    "    plt.figure(figsize=(10, 5))\n",
    "    plt.subplot(1, 2, 1)\n",
    "    plt.plot(range(1, num_epochs + 1), train_losses, label='Train')\n",
    "    plt.plot(range(1, num_epochs + 1), val_losses, label='Validation')\n",
    "    plt.xlabel('Epochs')\n",
    "    plt.ylabel('Loss')\n",
    "    plt.title('Training and Validation Loss')\n",
    "    plt.legend()\n",
    "\n",
    "    plt.subplot(1, 2, 2)\n",
    "    plt.plot(range(1, num_epochs + 1), train_accuracies, label='Train')\n",
    "    plt.plot(range(1, num_epochs + 1), val_accuracies, label='Validation')\n",
    "    plt.xlabel('Epochs')\n",
    "    plt.ylabel('Accuracy')\n",
    "    plt.title('Training and Validation Accuracy')\n",
    "    plt.legend()\n",
    "\n",
    "    plt.show()"
   ]
  },
  {
   "cell_type": "code",
   "execution_count": 16,
   "metadata": {},
   "outputs": [],
   "source": [
    "Model = TWO_MLP(24,128,5)\n",
    "Model = Model.to(device)"
   ]
  },
  {
   "cell_type": "code",
   "execution_count": 17,
   "metadata": {},
   "outputs": [],
   "source": [
    "optimizer = optim.Adam(Model.parameters(), lr=0.001, weight_decay=0.001)"
   ]
  },
  {
   "cell_type": "code",
   "execution_count": 18,
   "metadata": {},
   "outputs": [
    {
     "name": "stderr",
     "output_type": "stream",
     "text": [
      "C:\\temp\\ipykernel_12536\\1651283131.py:15: UserWarning: Implicit dimension choice for softmax has been deprecated. Change the call to include dim=X as an argument.\n",
      "  y_hat_1 = self.softmax(y_hat_1)\n",
      "C:\\temp\\ipykernel_12536\\1651283131.py:17: UserWarning: Implicit dimension choice for softmax has been deprecated. Change the call to include dim=X as an argument.\n",
      "  y_hat_2 =self.softmax(y_hat_2)\n"
     ]
    }
   ],
   "source": [
    "train_model(Model,torch.nn.CrossEntropyLoss(), optimizer,Noise_train_loader, Noise_test_loader,num_epochs=10)"
   ]
  },
  {
   "cell_type": "markdown",
   "metadata": {},
   "source": [
    "# Successive training on target_5 and target_10"
   ]
  },
  {
   "cell_type": "code",
   "execution_count": null,
   "metadata": {},
   "outputs": [],
   "source": [
    "class MLP_ONE(torch.nn.Module):\n",
    "    def __init__(self, input_dim, hidden_dim, output_dim):\n",
    "        super(TWO_MLP, self).__init__()\n",
    "        self.fc1 = nn.Linear(input_dim, hidden_dim)\n",
    "        self.fc2 = nn.Linear(hidden_dim, output_dim)\n",
    "        self.softmax=nn.Softmax()\n",
    "        self.relu = nn.ReLU()\n",
    "        self.sigm =nn.Sigmoid()\n",
    "    \n",
    "    def forward(self, x):\n",
    "        x = self.fc1(x)\n",
    "        x = self.relu(x)\n",
    "        y_hat_1 = self.fc2(x)\n",
    "        y_hat_1 = self.softmax(y_hat_1)\n",
    "        return y_hat_1"
   ]
  }
 ],
 "metadata": {
  "kernelspec": {
   "display_name": "Python 3",
   "language": "python",
   "name": "python3"
  },
  "language_info": {
   "codemirror_mode": {
    "name": "ipython",
    "version": 3
   },
   "file_extension": ".py",
   "mimetype": "text/x-python",
   "name": "python",
   "nbconvert_exporter": "python",
   "pygments_lexer": "ipython3",
   "version": "3.10.11"
  }
 },
 "nbformat": 4,
 "nbformat_minor": 2
}
